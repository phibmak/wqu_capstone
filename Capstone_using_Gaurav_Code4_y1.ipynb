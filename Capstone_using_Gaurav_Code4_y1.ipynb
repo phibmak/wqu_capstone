{
  "nbformat": 4,
  "nbformat_minor": 0,
  "metadata": {
    "colab": {
      "name": "Capstone using Gaurav Code4_y1.ipynb",
      "provenance": []
    },
    "kernelspec": {
      "name": "python3",
      "display_name": "Python 3"
    },
    "language_info": {
      "name": "python"
    }
  },
  "cells": [
    {
      "cell_type": "markdown",
      "metadata": {
        "id": "_qZLPvdkVqaL"
      },
      "source": [
        "# **Capstone: Using ML on fundamentals to predict South African equities**\n",
        "---\n",
        "\n"
      ]
    },
    {
      "cell_type": "markdown",
      "metadata": {
        "id": "hZ-fWOOXzeqJ"
      },
      "source": [
        "# **1. Interactive visualisation of PCA: Principal Components and Features**"
      ]
    },
    {
      "cell_type": "code",
      "metadata": {
        "id": "Z9Vru2ZXTYbU"
      },
      "source": [
        "#Important libraries\n",
        "import pandas as pd\n",
        "import numpy as np\n",
        "import seaborn as sns\n",
        "from sklearn import datasets\n",
        "from sklearn.decomposition import PCA\n",
        "from sklearn.preprocessing import StandardScaler\n",
        "import matplotlib.pyplot as plt\n",
        "from matplotlib.colors import cnames\n",
        "from itertools import cycle\n",
        "from bokeh.plotting import output_notebook, output_file, figure, show, ColumnDataSource\n",
        "from bokeh.models import HoverTool\n",
        "import warnings\n",
        "warnings.filterwarnings(action='ignore')\n",
        "output_notebook()\n",
        "%matplotlib inline"
      ],
      "execution_count": 1,
      "outputs": []
    },
    {
      "cell_type": "markdown",
      "metadata": {
        "id": "k1WxS65X0Kw3"
      },
      "source": [
        "# 1a. PCA code"
      ]
    },
    {
      "cell_type": "code",
      "metadata": {
        "id": "on5U5zP-Tvk2"
      },
      "source": [
        "\n",
        "def get_float_list(range_max:int, div:int=100) -> list:\n",
        "    \"\"\" To get 0 -> 1, range_max must be same order of mag as div \"\"\"\n",
        "    return [float(x)/div for x in range(int(range_max))]\n",
        "\n",
        "\n",
        "def get_colorcycle(colordict:dict):\n",
        "    \"\"\" Subset cnames with a string match and get a color cycle for plotting \"\"\"\n",
        "    return cycle(list(colordict.keys()))\n",
        "\n",
        "\n",
        "def get_colordict(filter_:str='dark') -> dict:\n",
        "    \"\"\" return dictionary of colornames by filter \"\"\"\n",
        "    return dict((k, v) for k, v in cnames.items() if filter_ in k)\n",
        "\n",
        "\n",
        "def pca_report_interactive(X, scale_X:bool=True, save_plot:bool=False):\n",
        "    \"\"\"\n",
        "    X:          input data matrix\n",
        "    scale_X:    determine whether to rescale X (StandardScaler) [default: True, X is not prescaled\n",
        "    save_plot:  save plot to file (html) and not show\n",
        "    \"\"\"\n",
        "\n",
        "    # calculate mean and var\n",
        "    X_mean, X_var = X.mean(), X.var()\n",
        "    print('\\n*--- PCA Report ---*\\n')\n",
        "    print(f'X mean:\\t\\t{X_mean:.3f}\\nX variance:\\t{X_var:.3f}')\n",
        "\n",
        "    if scale_X:\n",
        "        # rescale and run PCA\n",
        "        print(\"\\n...Rescaling data...\\n\")\n",
        "        scaler = StandardScaler()\n",
        "        X_scaled = scaler.fit_transform(X)\n",
        "        X_s_mean, X_s_var = X_scaled.mean(), X_scaled.var()\n",
        "        print(f'X_scaled mean:\\t\\t{np.round(X_s_mean):.3f}')\n",
        "        print(f'X_scaled variance:\\t{np.round(X_s_var):.3f}\\n')\n",
        "        pca_ = PCA().fit(X_scaled)\n",
        "        X_pca = PCA().fit_transform(X_scaled) #I changed \"X\" to \"X_scaled\"\n",
        "    else:\n",
        "        # run PCA directly\n",
        "        print(\"...Assuming data is properly scaled...\")\n",
        "        pca_ = PCA().fit(X)\n",
        "        X_pca = PCA().fit_transform(X)\n",
        "            \n",
        "    # Get cumulative explained variance for each dimension\n",
        "    pca_evr = pca_.explained_variance_ratio_\n",
        "    cumsum_ = np.cumsum(pca_evr)\n",
        "    \n",
        "    # Get dimensions where var >= 95% and values for variance at 2D, 3D\n",
        "    dim_95 = np.argmax(cumsum_ >= 0.95) + 1\n",
        "    twoD = np.round(cumsum_[1], decimals=3)*100 \n",
        "    threeD = np.round(cumsum_[2], decimals=3)*100\n",
        "    instances_, dims_ =  X.shape\n",
        "    \n",
        "    # check shape of X\n",
        "    if dims_ > instances_:\n",
        "        print(\"WARNING: number of features greater than number of instances.\")\n",
        "        dimensions = list(range(1, instances_+1))\n",
        "    else:\n",
        "        dimensions = list(range(1, dims_+1))\n",
        "    \n",
        "    # Print report\n",
        "    print(\"\\n -- Summary --\")\n",
        "    print(f\"You can reduce from {dims_} to {dim_95} dimensions while retaining 95% of variance.\")\n",
        "    print(f\"2 principal components explain {twoD:.2f}% of variance.\")\n",
        "    print(f\"3 principal components explain {threeD:.2f}% of variance.\")\n",
        "    \n",
        "    \"\"\" - Plotting - \"\"\"\n",
        "    # Create custom HoverTool -- we'll name each ROC curve 'ROC' so we only see info on hover there\n",
        "    hover_ = HoverTool(names=['PCA'], tooltips=[(\"dimensions\", \"@x_dim\"), \n",
        "                                                (\"cumulative variance\", \"@y_cumvar\"),\n",
        "                                                (\"explained variance\", \"@y_var\")])\n",
        "    p_tools = [hover_, 'crosshair', 'zoom_in', 'zoom_out', 'save', 'reset', 'tap', 'box_zoom']\n",
        "\n",
        "    # insert 0 at beginning for cleaner plotting\n",
        "    cumsum_plot = np.insert(cumsum_, 0, 0) \n",
        "    pca_evr_plot = np.insert(pca_evr, 0, 0)\n",
        "    dimensions_plot = np.insert(dimensions, 0, 0)\n",
        "\n",
        "    \"\"\"\n",
        "    ColumnDataSource\n",
        "    - a special type in Bokeh that allows you to store data for plotting\n",
        "    - store data as dict (key:list)\n",
        "    - to plot two keys against one another, make sure they're the same length!\n",
        "    - below:\n",
        "        x_dim    # of dimensions (length = # of dimensions)\n",
        "        y_cumvar # cumulative variance (length = # of dimensions)\n",
        "        var_95   # y = 0.95 (length = # of dimensions)\n",
        "        zero_one # list of 0 to 1\n",
        "        twoD     # x = 2 \n",
        "        threeD   # x = 3 \n",
        "    \"\"\" \n",
        "    \n",
        "    # get sources\n",
        "    source_PCA = ColumnDataSource(data=dict(x_dim = dimensions_plot,y_cumvar = cumsum_plot, y_var = pca_evr_plot))    \n",
        "    source_var95 = ColumnDataSource(data=dict(var95_x = [dim_95]*96, var95_y = get_float_list(96)))\n",
        "    source_twoD = ColumnDataSource(data=dict(twoD_x = [2]*(int(twoD)+1), twoD_y = get_float_list(twoD+1)))\n",
        "    source_threeD = ColumnDataSource(data=dict(threeD_x = [3]*(int(threeD)+1), threeD_y = get_float_list(threeD+1)))\n",
        "\n",
        "    \"\"\" PLOT \"\"\"\n",
        "    # set up figure and add axis labels\n",
        "    p = figure(title='PCA Analysis', tools=p_tools)\n",
        "    p.xaxis.axis_label = f'N of {dims_} Principal Components' \n",
        "    p.yaxis.axis_label = 'Variance Explained (per PC & Cumulative)'\n",
        "    \n",
        "    # add reference lines: y=0.95, x=2, x=3\n",
        "    p.line('twoD_x', 'twoD_y', line_width=0.5, line_dash='dotted', color='#435363', source=source_twoD) # x=2\n",
        "    p.line('threeD_x', 'threeD_y', line_width=0.5, line_dash='dotted', color='#435363', source=source_threeD) # x=3\n",
        "    p.line('var95_x', 'var95_y', line_width=2, line_dash='dotted', color='#435363', source=source_var95) # var = 0.95\n",
        "\n",
        "    # add bar plot for variance per dimension\n",
        "    p.vbar(x='x_dim', top='y_var', width=.5, bottom=0, color='#D9F2EF', source=source_PCA, name='PCA')\n",
        "    \n",
        "    # add cumulative variance (scatter + line)\n",
        "    p.line('x_dim', 'y_cumvar', line_width=1, color='#F79737', source=source_PCA)\n",
        "    p.circle('x_dim', 'y_cumvar', size=7, color='#FF4C00', source=source_PCA, name='PCA')\n",
        "\n",
        "    # change gridlines\n",
        "    p.ygrid.grid_line_alpha = 0.25\n",
        "    p.xgrid.grid_line_alpha = 0.25\n",
        "\n",
        "    # change axis bounds and grid\n",
        "    p.xaxis.bounds = (0, dims_)\n",
        "    p.yaxis.bounds = (0, 1)\n",
        "    p.grid.bounds = (0, dims_)\n",
        "\n",
        "    # save and show p\n",
        "    if save_plot:\n",
        "        output_file('PCA_analysis.html')\n",
        "    show(p)\n",
        "        \n",
        "    # output PCA info as a dataframe\n",
        "    df_PCA = pd.DataFrame({'dimension': dimensions, 'variance_cumulative': cumsum_, 'variance': pca_evr}).set_index(['dimension'])\n",
        "        \n",
        "    return df_PCA, X_pca, pca_evr\n",
        "\n",
        "\n",
        "def pca_feature_correlation(X, X_pca, explained_var, features:list=None, fig_dpi:int=150, save_plot:bool=False):\n",
        "    \"\"\"\n",
        "    1. Get dot product of X and X_pca\n",
        "    2. Run normalizations of X*X_pca\n",
        "    3. Retrieve df/matrices\n",
        "\n",
        "    X:               data (numpy matrix)\n",
        "    X_pca:           PCA\n",
        "    explained_var:   explained variance matrix\n",
        "    features:        list of feature names\n",
        "    fig_dpi:         dpi to use for heatmaps\n",
        "    save_plot:       save plot to file (html) and not show\n",
        "    \"\"\"\n",
        "    \n",
        "    # Add zeroes for data where features > instances\n",
        "    outer_diff = X.T.shape[0] - X_pca.shape[1]\n",
        "    if outer_diff > 0: # outer dims must match to get sq matrix\n",
        "        Z = np.zeros([X_pca.shape[0], outer_diff])\n",
        "        X_pca = np.c_[X_pca, Z]\n",
        "        explained_var = np.append(explained_var, np.zeros(outer_diff))\n",
        "    \n",
        "    # Get correlation between original features (X) and PCs (X_pca)\n",
        "    dot_matrix = np.dot(X.T, X_pca)\n",
        "    print(f\"X*X_pca: {X.T.shape} * {X_pca.shape} = {dot_matrix.shape}\")\n",
        "    \n",
        "    # Correlation matrix -> df\n",
        "    df_dotproduct = pd.DataFrame(dot_matrix)\n",
        "    df_dotproduct.columns = [''.join(['PC', f'{i+1}']) for i in range(dot_matrix.shape[0])]\n",
        "    if any(features): df_dotproduct.index = features    \n",
        "    \n",
        "    # Normalize & Sort\n",
        "    df_n, df_na, df_nabv = normalize_dataframe(df_dotproduct, explained_var, plot_opt=True, save_plot=save_plot)\n",
        "    \n",
        "    return df_dotproduct, df_n, df_na, df_nabv\n",
        "\n",
        "\n",
        "def normalize_dataframe(df, explained_var=None, fig_dpi:int=150, plot_opt:bool=True, save_plot:bool=False):\n",
        "    \"\"\"\n",
        "    1. Get z-normalized df (normalized to µ=0, σ=1)\n",
        "    2. Get absolute value of z-normalized df\n",
        "    3. If explained_variance matrix provided, dot it w/ (2)\n",
        "    \"\"\"\n",
        "    # Normalize, Reindex, & Sort\n",
        "    df_norm = (df.copy()-df.mean())/df.std()\n",
        "    df_norm = df_norm.sort_values(list(df_norm.columns), ascending=False)\n",
        "    \n",
        "    # Absolute value of normalized (& sort)\n",
        "    df_abs = df_norm.copy().abs().set_index(df_norm.index)\n",
        "    df_abs = df_abs.sort_values(by=list(df_abs.columns), ascending=False)\n",
        "    \n",
        "    # Plot\n",
        "    if plot_opt:\n",
        "        # Z-normalized corr matrix\n",
        "        plt.figure(dpi=fig_dpi)\n",
        "        ax_normal = sns.heatmap(df_norm, cmap=\"RdBu\")\n",
        "        ax_normal.set_title(\"Z-Normalized Data\")\n",
        "        if save_plot:\n",
        "            plt.savefig('Z_normalized_corr_matrix.png')\n",
        "        else:\n",
        "            plt.show()\n",
        "\n",
        "        # |Z-normalized corr matrix|  \n",
        "        plt.figure(dpi=fig_dpi)\n",
        "        ax_abs = sns.heatmap(df_abs, cmap=\"Purples\")\n",
        "        ax_abs.set_title(\"|Z-Normalized|\")\n",
        "        if save_plot:\n",
        "            plt.savefig('Z_normalized_corr_matrix_Abs.png')\n",
        "        else:\n",
        "            plt.show()\n",
        "        \n",
        "    # Re-normalize by explained var (& sort)\n",
        "    if explained_var.any():\n",
        "        df_byvar = df_abs.copy()*explained_var\n",
        "        df_byvar = df_byvar.sort_values(by=list(df_norm.columns), ascending=False)\n",
        "        if plot_opt:\n",
        "            plt.figure(dpi=fig_dpi)\n",
        "            ax_relative = sns.heatmap(df_byvar, cmap=\"Purples\")\n",
        "            ax_relative.set_title(\"|Z-Normalized|*Explained_Variance\")\n",
        "            if save_plot:\n",
        "                plt.savefig('Normalized_corr_matrix.png')\n",
        "            else:\n",
        "                plt.show()\n",
        "    else:\n",
        "        df_byvar = None\n",
        "    return df_norm, df_abs, df_byvar\n",
        "\n",
        "\n",
        "def pca_rank_features(df_nabv, verbose:bool=True):\n",
        "    \"\"\"\n",
        "    Given a dataframe df_nabv with dimensions [f, p], where:\n",
        "        f = features (sorted)\n",
        "        p = principal components\n",
        "        df_nabv.values are |Z-normalized X|*pca_.explained_variance_ratio_\n",
        "        \n",
        "    1. Create column of sum of each row, sort by it 'score_'\n",
        "    3. Set index as 'rank'\n",
        "    \"\"\"\n",
        "    df_rank = df_nabv.copy().assign(score_ = df_nabv.sum(axis=1)).sort_values('score_', ascending=False)\n",
        "    df_rank['feature_'] = df_rank.index\n",
        "    df_rank.index = range(1, len(df_rank)+1)\n",
        "    df_rank.drop(df_nabv.columns, axis=1, inplace=True)\n",
        "    df_rank.index.rename('rank', inplace=True)\n",
        "    if verbose: print(df_rank)\n",
        "    return df_rank\n",
        "\n",
        "\n",
        "def pca_full_report(X, features_:list=None, fig_dpi:int=150, save_plot:bool=False):\n",
        "    \"\"\"\n",
        "    Run complete PCA workflow:\n",
        "        1. pca_report_interactive()\n",
        "        2. pca_feature_correlation()\n",
        "        3. pca_rank_features()\n",
        "        \n",
        "    X:            data (numpy array)\n",
        "    features_:    list of feature names\n",
        "    fig_dpi:      image resolution\n",
        "    \n",
        "    \"\"\"\n",
        "    # Retrieve the interactive report\n",
        "    df_pca, X_pca, pca_evr = pca_report_interactive(X, save_plot=save_plot)\n",
        "    # Get feature-PC correlation matrices\n",
        "    df_corr, df_n, df_na, df_nabv = pca_feature_correlation(X, X_pca, pca_evr, features_, fig_dpi, save_plot) \n",
        "    # Get rank for each feature\n",
        "    df_rank = pca_rank_features(df_nabv)\n",
        "    return (df_pca, X_pca, pca_evr, df_corr, df_n, df_na, df_nabv, df_rank)"
      ],
      "execution_count": 2,
      "outputs": []
    },
    {
      "cell_type": "markdown",
      "metadata": {
        "id": "gRGAxqm2zHTo"
      },
      "source": [
        "# 1b. Running the PCA code on our dataset"
      ]
    },
    {
      "cell_type": "markdown",
      "metadata": {
        "id": "xVOGZyjDXFjz"
      },
      "source": [
        "## 1b.i. Dataset"
      ]
    },
    {
      "cell_type": "code",
      "metadata": {
        "colab": {
          "resources": {
            "http://localhost:8080/nbextensions/google.colab/files.js": {
              "data": "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",
              "ok": true,
              "headers": [
                [
                  "content-type",
                  "application/javascript"
                ]
              ],
              "status": 200,
              "status_text": ""
            }
          },
          "base_uri": "https://localhost:8080/",
          "height": 72
        },
        "id": "Rv4jeFAmUXkh",
        "outputId": "6cad12df-85e9-48b7-83d0-ca29107804bd"
      },
      "source": [
        "\"\"\" SA JSE listed companies \"\"\"\n",
        "#uploading dataset\n",
        "from google.colab import files\n",
        "uploaded = files.upload()"
      ],
      "execution_count": 3,
      "outputs": [
        {
          "output_type": "display_data",
          "data": {
            "text/html": [
              "\n",
              "     <input type=\"file\" id=\"files-0884064e-9722-4305-91b6-d9ede64d0f58\" name=\"files[]\" multiple disabled\n",
              "        style=\"border:none\" />\n",
              "     <output id=\"result-0884064e-9722-4305-91b6-d9ede64d0f58\">\n",
              "      Upload widget is only available when the cell has been executed in the\n",
              "      current browser session. Please rerun this cell to enable.\n",
              "      </output>\n",
              "      <script src=\"/nbextensions/google.colab/files.js\"></script> "
            ],
            "text/plain": [
              "<IPython.core.display.HTML object>"
            ]
          },
          "metadata": {
            "tags": []
          }
        },
        {
          "output_type": "stream",
          "text": [
            "Saving capstone_dataset_python.xlsx to capstone_dataset_python.xlsx\n"
          ],
          "name": "stdout"
        }
      ]
    },
    {
      "cell_type": "code",
      "metadata": {
        "id": "IE0Vol86U5Tp"
      },
      "source": [
        "#dataset\n",
        "dataset = pd.read_excel('capstone_dataset_python.xlsx')\n",
        "x = dataset.iloc[:,:23] #features: are various annual financial metrics for JSE-listed companies 2010-2019\n",
        "y1 = dataset.iloc[:,23] #1st target based on mean log share price returns\n",
        "y2 = dataset.iloc[:,24] #2nd target based on Coefficient of variation of mean log share price returns\n",
        "y3 = dataset.iloc[:,25] #3rd target based on Standard deviation of mean log share price returns\n",
        "features = x \n",
        "target_1 = y1\n",
        "target_2 = y2\n",
        "target_3 = y3\n",
        "target_name_y1 = pd.DataFrame(y1, columns = ['y1'])\n",
        "target_name_y2 = pd.DataFrame(y2, columns = ['y2'])\n",
        "target_name_y3 = pd.DataFrame(y3, columns = ['y3'])\n",
        "\n",
        "#Convert to numpy array\n",
        "data = x.to_numpy()\n",
        "feature_names = x.columns.values"
      ],
      "execution_count": 5,
      "outputs": []
    },
    {
      "cell_type": "markdown",
      "metadata": {
        "id": "3ce7hWmmXolV"
      },
      "source": [
        "## 1b.ii. Output"
      ]
    },
    {
      "cell_type": "code",
      "metadata": {
        "colab": {
          "base_uri": "https://localhost:8080/",
          "height": 1000
        },
        "id": "F1XhTVBdH2AL",
        "outputId": "a08e8125-f2d9-41b9-bf95-625bc84fab09"
      },
      "source": [
        "#output\n",
        "sa_outputs = pca_full_report(X=data, features_=feature_names)"
      ],
      "execution_count": 6,
      "outputs": [
        {
          "output_type": "stream",
          "text": [
            "\n",
            "*--- PCA Report ---*\n",
            "\n",
            "X mean:\t\t0.121\n",
            "X variance:\t0.175\n",
            "\n",
            "...Rescaling data...\n",
            "\n",
            "X_scaled mean:\t\t0.000\n",
            "X_scaled variance:\t1.000\n",
            "\n",
            "\n",
            " -- Summary --\n",
            "You can reduce from 23 to 15 dimensions while retaining 95% of variance.\n",
            "2 principal components explain 36.00% of variance.\n",
            "3 principal components explain 45.60% of variance.\n"
          ],
          "name": "stdout"
        },
        {
          "output_type": "display_data",
          "data": {
            "application/javascript": [
              "\n",
              "(function(root) {\n",
              "  function now() {\n",
              "    return new Date();\n",
              "  }\n",
              "\n",
              "  var force = true;\n",
              "\n",
              "  if (typeof root._bokeh_onload_callbacks === \"undefined\" || force === true) {\n",
              "    root._bokeh_onload_callbacks = [];\n",
              "    root._bokeh_is_loading = undefined;\n",
              "  }\n",
              "\n",
              "  var JS_MIME_TYPE = 'application/javascript';\n",
              "  var HTML_MIME_TYPE = 'text/html';\n",
              "  var EXEC_MIME_TYPE = 'application/vnd.bokehjs_exec.v0+json';\n",
              "  var CLASS_NAME = 'output_bokeh rendered_html';\n",
              "\n",
              "  /**\n",
              "   * Render data to the DOM node\n",
              "   */\n",
              "  function render(props, node) {\n",
              "    var script = document.createElement(\"script\");\n",
              "    node.appendChild(script);\n",
              "  }\n",
              "\n",
              "  /**\n",
              "   * Handle when an output is cleared or removed\n",
              "   */\n",
              "  function handleClearOutput(event, handle) {\n",
              "    var cell = handle.cell;\n",
              "\n",
              "    var id = cell.output_area._bokeh_element_id;\n",
              "    var server_id = cell.output_area._bokeh_server_id;\n",
              "    // Clean up Bokeh references\n",
              "    if (id != null && id in Bokeh.index) {\n",
              "      Bokeh.index[id].model.document.clear();\n",
              "      delete Bokeh.index[id];\n",
              "    }\n",
              "\n",
              "    if (server_id !== undefined) {\n",
              "      // Clean up Bokeh references\n",
              "      var cmd = \"from bokeh.io.state import curstate; print(curstate().uuid_to_server['\" + server_id + \"'].get_sessions()[0].document.roots[0]._id)\";\n",
              "      cell.notebook.kernel.execute(cmd, {\n",
              "        iopub: {\n",
              "          output: function(msg) {\n",
              "            var id = msg.content.text.trim();\n",
              "            if (id in Bokeh.index) {\n",
              "              Bokeh.index[id].model.document.clear();\n",
              "              delete Bokeh.index[id];\n",
              "            }\n",
              "          }\n",
              "        }\n",
              "      });\n",
              "      // Destroy server and session\n",
              "      var cmd = \"import bokeh.io.notebook as ion; ion.destroy_server('\" + server_id + \"')\";\n",
              "      cell.notebook.kernel.execute(cmd);\n",
              "    }\n",
              "  }\n",
              "\n",
              "  /**\n",
              "   * Handle when a new output is added\n",
              "   */\n",
              "  function handleAddOutput(event, handle) {\n",
              "    var output_area = handle.output_area;\n",
              "    var output = handle.output;\n",
              "\n",
              "    // limit handleAddOutput to display_data with EXEC_MIME_TYPE content only\n",
              "    if ((output.output_type != \"display_data\") || (!Object.prototype.hasOwnProperty.call(output.data, EXEC_MIME_TYPE))) {\n",
              "      return\n",
              "    }\n",
              "\n",
              "    var toinsert = output_area.element.find(\".\" + CLASS_NAME.split(' ')[0]);\n",
              "\n",
              "    if (output.metadata[EXEC_MIME_TYPE][\"id\"] !== undefined) {\n",
              "      toinsert[toinsert.length - 1].firstChild.textContent = output.data[JS_MIME_TYPE];\n",
              "      // store reference to embed id on output_area\n",
              "      output_area._bokeh_element_id = output.metadata[EXEC_MIME_TYPE][\"id\"];\n",
              "    }\n",
              "    if (output.metadata[EXEC_MIME_TYPE][\"server_id\"] !== undefined) {\n",
              "      var bk_div = document.createElement(\"div\");\n",
              "      bk_div.innerHTML = output.data[HTML_MIME_TYPE];\n",
              "      var script_attrs = bk_div.children[0].attributes;\n",
              "      for (var i = 0; i < script_attrs.length; i++) {\n",
              "        toinsert[toinsert.length - 1].firstChild.setAttribute(script_attrs[i].name, script_attrs[i].value);\n",
              "        toinsert[toinsert.length - 1].firstChild.textContent = bk_div.children[0].textContent\n",
              "      }\n",
              "      // store reference to server id on output_area\n",
              "      output_area._bokeh_server_id = output.metadata[EXEC_MIME_TYPE][\"server_id\"];\n",
              "    }\n",
              "  }\n",
              "\n",
              "  function register_renderer(events, OutputArea) {\n",
              "\n",
              "    function append_mime(data, metadata, element) {\n",
              "      // create a DOM node to render to\n",
              "      var toinsert = this.create_output_subarea(\n",
              "        metadata,\n",
              "        CLASS_NAME,\n",
              "        EXEC_MIME_TYPE\n",
              "      );\n",
              "      this.keyboard_manager.register_events(toinsert);\n",
              "      // Render to node\n",
              "      var props = {data: data, metadata: metadata[EXEC_MIME_TYPE]};\n",
              "      render(props, toinsert[toinsert.length - 1]);\n",
              "      element.append(toinsert);\n",
              "      return toinsert\n",
              "    }\n",
              "\n",
              "    /* Handle when an output is cleared or removed */\n",
              "    events.on('clear_output.CodeCell', handleClearOutput);\n",
              "    events.on('delete.Cell', handleClearOutput);\n",
              "\n",
              "    /* Handle when a new output is added */\n",
              "    events.on('output_added.OutputArea', handleAddOutput);\n",
              "\n",
              "    /**\n",
              "     * Register the mime type and append_mime function with output_area\n",
              "     */\n",
              "    OutputArea.prototype.register_mime_type(EXEC_MIME_TYPE, append_mime, {\n",
              "      /* Is output safe? */\n",
              "      safe: true,\n",
              "      /* Index of renderer in `output_area.display_order` */\n",
              "      index: 0\n",
              "    });\n",
              "  }\n",
              "\n",
              "  // register the mime type if in Jupyter Notebook environment and previously unregistered\n",
              "  if (root.Jupyter !== undefined) {\n",
              "    var events = require('base/js/events');\n",
              "    var OutputArea = require('notebook/js/outputarea').OutputArea;\n",
              "\n",
              "    if (OutputArea.prototype.mime_types().indexOf(EXEC_MIME_TYPE) == -1) {\n",
              "      register_renderer(events, OutputArea);\n",
              "    }\n",
              "  }\n",
              "\n",
              "  \n",
              "  if (typeof (root._bokeh_timeout) === \"undefined\" || force === true) {\n",
              "    root._bokeh_timeout = Date.now() + 5000;\n",
              "    root._bokeh_failed_load = false;\n",
              "  }\n",
              "\n",
              "  var NB_LOAD_WARNING = {'data': {'text/html':\n",
              "     \"<div style='background-color: #fdd'>\\n\"+\n",
              "     \"<p>\\n\"+\n",
              "     \"BokehJS does not appear to have successfully loaded. If loading BokehJS from CDN, this \\n\"+\n",
              "     \"may be due to a slow or bad network connection. Possible fixes:\\n\"+\n",
              "     \"</p>\\n\"+\n",
              "     \"<ul>\\n\"+\n",
              "     \"<li>re-rerun `output_notebook()` to attempt to load from CDN again, or</li>\\n\"+\n",
              "     \"<li>use INLINE resources instead, as so:</li>\\n\"+\n",
              "     \"</ul>\\n\"+\n",
              "     \"<code>\\n\"+\n",
              "     \"from bokeh.resources import INLINE\\n\"+\n",
              "     \"output_notebook(resources=INLINE)\\n\"+\n",
              "     \"</code>\\n\"+\n",
              "     \"</div>\"}};\n",
              "\n",
              "  function display_loaded() {\n",
              "    var el = document.getElementById(null);\n",
              "    if (el != null) {\n",
              "      el.textContent = \"BokehJS is loading...\";\n",
              "    }\n",
              "    if (root.Bokeh !== undefined) {\n",
              "      if (el != null) {\n",
              "        el.textContent = \"BokehJS \" + root.Bokeh.version + \" successfully loaded.\";\n",
              "      }\n",
              "    } else if (Date.now() < root._bokeh_timeout) {\n",
              "      setTimeout(display_loaded, 100)\n",
              "    }\n",
              "  }\n",
              "\n",
              "\n",
              "  function run_callbacks() {\n",
              "    try {\n",
              "      root._bokeh_onload_callbacks.forEach(function(callback) {\n",
              "        if (callback != null)\n",
              "          callback();\n",
              "      });\n",
              "    } finally {\n",
              "      delete root._bokeh_onload_callbacks\n",
              "    }\n",
              "    console.debug(\"Bokeh: all callbacks have finished\");\n",
              "  }\n",
              "\n",
              "  function load_libs(css_urls, js_urls, callback) {\n",
              "    if (css_urls == null) css_urls = [];\n",
              "    if (js_urls == null) js_urls = [];\n",
              "\n",
              "    root._bokeh_onload_callbacks.push(callback);\n",
              "    if (root._bokeh_is_loading > 0) {\n",
              "      console.debug(\"Bokeh: BokehJS is being loaded, scheduling callback at\", now());\n",
              "      return null;\n",
              "    }\n",
              "    if (js_urls == null || js_urls.length === 0) {\n",
              "      run_callbacks();\n",
              "      return null;\n",
              "    }\n",
              "    console.debug(\"Bokeh: BokehJS not loaded, scheduling load and callback at\", now());\n",
              "    root._bokeh_is_loading = css_urls.length + js_urls.length;\n",
              "\n",
              "    function on_load() {\n",
              "      root._bokeh_is_loading--;\n",
              "      if (root._bokeh_is_loading === 0) {\n",
              "        console.debug(\"Bokeh: all BokehJS libraries/stylesheets loaded\");\n",
              "        run_callbacks()\n",
              "      }\n",
              "    }\n",
              "\n",
              "    function on_error(url) {\n",
              "      console.error(\"failed to load \" + url);\n",
              "    }\n",
              "\n",
              "    for (let i = 0; i < css_urls.length; i++) {\n",
              "      const url = css_urls[i];\n",
              "      const element = document.createElement(\"link\");\n",
              "      element.onload = on_load;\n",
              "      element.onerror = on_error.bind(null, url);\n",
              "      element.rel = \"stylesheet\";\n",
              "      element.type = \"text/css\";\n",
              "      element.href = url;\n",
              "      console.debug(\"Bokeh: injecting link tag for BokehJS stylesheet: \", url);\n",
              "      document.body.appendChild(element);\n",
              "    }\n",
              "\n",
              "    const hashes = {\"https://cdn.bokeh.org/bokeh/release/bokeh-2.3.1.min.js\": \"YF85VygJKMVnHE+lLv2AM93Vbstr0yo2TbIu5v8se5Rq3UQAUmcuh4aaJwNlpKwa\", \"https://cdn.bokeh.org/bokeh/release/bokeh-widgets-2.3.1.min.js\": \"KKuas3gevv3PvrlkyCMzffFeaMq5we/a2QsP5AUoS3mJ0jmaCL7jirFJN3GoE/lM\", \"https://cdn.bokeh.org/bokeh/release/bokeh-tables-2.3.1.min.js\": \"MK/uFc3YT18pkvvXRl66tTHjP0/dxoSH2e/eiNMFIguKlun2+WVqaPTWmUy/zvh4\"};\n",
              "\n",
              "    for (let i = 0; i < js_urls.length; i++) {\n",
              "      const url = js_urls[i];\n",
              "      const element = document.createElement('script');\n",
              "      element.onload = on_load;\n",
              "      element.onerror = on_error.bind(null, url);\n",
              "      element.async = false;\n",
              "      element.src = url;\n",
              "      if (url in hashes) {\n",
              "        element.crossOrigin = \"anonymous\";\n",
              "        element.integrity = \"sha384-\" + hashes[url];\n",
              "      }\n",
              "      console.debug(\"Bokeh: injecting script tag for BokehJS library: \", url);\n",
              "      document.head.appendChild(element);\n",
              "    }\n",
              "  };\n",
              "\n",
              "  function inject_raw_css(css) {\n",
              "    const element = document.createElement(\"style\");\n",
              "    element.appendChild(document.createTextNode(css));\n",
              "    document.body.appendChild(element);\n",
              "  }\n",
              "\n",
              "  \n",
              "  var js_urls = [\"https://cdn.bokeh.org/bokeh/release/bokeh-2.3.1.min.js\", \"https://cdn.bokeh.org/bokeh/release/bokeh-widgets-2.3.1.min.js\", \"https://cdn.bokeh.org/bokeh/release/bokeh-tables-2.3.1.min.js\"];\n",
              "  var css_urls = [];\n",
              "  \n",
              "\n",
              "  var inline_js = [\n",
              "    function(Bokeh) {\n",
              "      Bokeh.set_log_level(\"info\");\n",
              "    },\n",
              "    function(Bokeh) {\n",
              "    \n",
              "    \n",
              "    }\n",
              "  ];\n",
              "\n",
              "  function run_inline_js() {\n",
              "    \n",
              "    if (root.Bokeh !== undefined || force === true) {\n",
              "      \n",
              "    for (var i = 0; i < inline_js.length; i++) {\n",
              "      inline_js[i].call(root, root.Bokeh);\n",
              "    }\n",
              "    } else if (Date.now() < root._bokeh_timeout) {\n",
              "      setTimeout(run_inline_js, 100);\n",
              "    } else if (!root._bokeh_failed_load) {\n",
              "      console.log(\"Bokeh: BokehJS failed to load within specified timeout.\");\n",
              "      root._bokeh_failed_load = true;\n",
              "    } else if (force !== true) {\n",
              "      var cell = $(document.getElementById(null)).parents('.cell').data().cell;\n",
              "      cell.output_area.append_execute_result(NB_LOAD_WARNING)\n",
              "    }\n",
              "\n",
              "  }\n",
              "\n",
              "  if (root._bokeh_is_loading === 0) {\n",
              "    console.debug(\"Bokeh: BokehJS loaded, going straight to plotting\");\n",
              "    run_inline_js();\n",
              "  } else {\n",
              "    load_libs(css_urls, js_urls, function() {\n",
              "      console.debug(\"Bokeh: BokehJS plotting callback run at\", now());\n",
              "      run_inline_js();\n",
              "    });\n",
              "  }\n",
              "}(window));"
            ],
            "application/vnd.bokehjs_load.v0+json": "\n(function(root) {\n  function now() {\n    return new Date();\n  }\n\n  var force = true;\n\n  if (typeof root._bokeh_onload_callbacks === \"undefined\" || force === true) {\n    root._bokeh_onload_callbacks = [];\n    root._bokeh_is_loading = undefined;\n  }\n\n  \n\n  \n  if (typeof (root._bokeh_timeout) === \"undefined\" || force === true) {\n    root._bokeh_timeout = Date.now() + 5000;\n    root._bokeh_failed_load = false;\n  }\n\n  var NB_LOAD_WARNING = {'data': {'text/html':\n     \"<div style='background-color: #fdd'>\\n\"+\n     \"<p>\\n\"+\n     \"BokehJS does not appear to have successfully loaded. If loading BokehJS from CDN, this \\n\"+\n     \"may be due to a slow or bad network connection. Possible fixes:\\n\"+\n     \"</p>\\n\"+\n     \"<ul>\\n\"+\n     \"<li>re-rerun `output_notebook()` to attempt to load from CDN again, or</li>\\n\"+\n     \"<li>use INLINE resources instead, as so:</li>\\n\"+\n     \"</ul>\\n\"+\n     \"<code>\\n\"+\n     \"from bokeh.resources import INLINE\\n\"+\n     \"output_notebook(resources=INLINE)\\n\"+\n     \"</code>\\n\"+\n     \"</div>\"}};\n\n  function display_loaded() {\n    var el = document.getElementById(null);\n    if (el != null) {\n      el.textContent = \"BokehJS is loading...\";\n    }\n    if (root.Bokeh !== undefined) {\n      if (el != null) {\n        el.textContent = \"BokehJS \" + root.Bokeh.version + \" successfully loaded.\";\n      }\n    } else if (Date.now() < root._bokeh_timeout) {\n      setTimeout(display_loaded, 100)\n    }\n  }\n\n\n  function run_callbacks() {\n    try {\n      root._bokeh_onload_callbacks.forEach(function(callback) {\n        if (callback != null)\n          callback();\n      });\n    } finally {\n      delete root._bokeh_onload_callbacks\n    }\n    console.debug(\"Bokeh: all callbacks have finished\");\n  }\n\n  function load_libs(css_urls, js_urls, callback) {\n    if (css_urls == null) css_urls = [];\n    if (js_urls == null) js_urls = [];\n\n    root._bokeh_onload_callbacks.push(callback);\n    if (root._bokeh_is_loading > 0) {\n      console.debug(\"Bokeh: BokehJS is being loaded, scheduling callback at\", now());\n      return null;\n    }\n    if (js_urls == null || js_urls.length === 0) {\n      run_callbacks();\n      return null;\n    }\n    console.debug(\"Bokeh: BokehJS not loaded, scheduling load and callback at\", now());\n    root._bokeh_is_loading = css_urls.length + js_urls.length;\n\n    function on_load() {\n      root._bokeh_is_loading--;\n      if (root._bokeh_is_loading === 0) {\n        console.debug(\"Bokeh: all BokehJS libraries/stylesheets loaded\");\n        run_callbacks()\n      }\n    }\n\n    function on_error(url) {\n      console.error(\"failed to load \" + url);\n    }\n\n    for (let i = 0; i < css_urls.length; i++) {\n      const url = css_urls[i];\n      const element = document.createElement(\"link\");\n      element.onload = on_load;\n      element.onerror = on_error.bind(null, url);\n      element.rel = \"stylesheet\";\n      element.type = \"text/css\";\n      element.href = url;\n      console.debug(\"Bokeh: injecting link tag for BokehJS stylesheet: \", url);\n      document.body.appendChild(element);\n    }\n\n    const hashes = {\"https://cdn.bokeh.org/bokeh/release/bokeh-2.3.1.min.js\": \"YF85VygJKMVnHE+lLv2AM93Vbstr0yo2TbIu5v8se5Rq3UQAUmcuh4aaJwNlpKwa\", \"https://cdn.bokeh.org/bokeh/release/bokeh-widgets-2.3.1.min.js\": \"KKuas3gevv3PvrlkyCMzffFeaMq5we/a2QsP5AUoS3mJ0jmaCL7jirFJN3GoE/lM\", \"https://cdn.bokeh.org/bokeh/release/bokeh-tables-2.3.1.min.js\": \"MK/uFc3YT18pkvvXRl66tTHjP0/dxoSH2e/eiNMFIguKlun2+WVqaPTWmUy/zvh4\"};\n\n    for (let i = 0; i < js_urls.length; i++) {\n      const url = js_urls[i];\n      const element = document.createElement('script');\n      element.onload = on_load;\n      element.onerror = on_error.bind(null, url);\n      element.async = false;\n      element.src = url;\n      if (url in hashes) {\n        element.crossOrigin = \"anonymous\";\n        element.integrity = \"sha384-\" + hashes[url];\n      }\n      console.debug(\"Bokeh: injecting script tag for BokehJS library: \", url);\n      document.head.appendChild(element);\n    }\n  };\n\n  function inject_raw_css(css) {\n    const element = document.createElement(\"style\");\n    element.appendChild(document.createTextNode(css));\n    document.body.appendChild(element);\n  }\n\n  \n  var js_urls = [\"https://cdn.bokeh.org/bokeh/release/bokeh-2.3.1.min.js\", \"https://cdn.bokeh.org/bokeh/release/bokeh-widgets-2.3.1.min.js\", \"https://cdn.bokeh.org/bokeh/release/bokeh-tables-2.3.1.min.js\"];\n  var css_urls = [];\n  \n\n  var inline_js = [\n    function(Bokeh) {\n      Bokeh.set_log_level(\"info\");\n    },\n    function(Bokeh) {\n    \n    \n    }\n  ];\n\n  function run_inline_js() {\n    \n    if (root.Bokeh !== undefined || force === true) {\n      \n    for (var i = 0; i < inline_js.length; i++) {\n      inline_js[i].call(root, root.Bokeh);\n    }\n    } else if (Date.now() < root._bokeh_timeout) {\n      setTimeout(run_inline_js, 100);\n    } else if (!root._bokeh_failed_load) {\n      console.log(\"Bokeh: BokehJS failed to load within specified timeout.\");\n      root._bokeh_failed_load = true;\n    } else if (force !== true) {\n      var cell = $(document.getElementById(null)).parents('.cell').data().cell;\n      cell.output_area.append_execute_result(NB_LOAD_WARNING)\n    }\n\n  }\n\n  if (root._bokeh_is_loading === 0) {\n    console.debug(\"Bokeh: BokehJS loaded, going straight to plotting\");\n    run_inline_js();\n  } else {\n    load_libs(css_urls, js_urls, function() {\n      console.debug(\"Bokeh: BokehJS plotting callback run at\", now());\n      run_inline_js();\n    });\n  }\n}(window));"
          },
          "metadata": {
            "tags": []
          }
        },
        {
          "output_type": "display_data",
          "data": {
            "text/html": [
              "\n",
              "\n",
              "\n",
              "\n",
              "\n",
              "\n",
              "  <div class=\"bk-root\" id=\"54d7b1e0-47d0-4bd1-b1dc-5521518cc7bd\" data-root-id=\"1007\"></div>\n"
            ]
          },
          "metadata": {
            "tags": []
          }
        },
        {
          "output_type": "display_data",
          "data": {
            "application/javascript": [
              "(function(root) {\n",
              "  function embed_document(root) {\n",
              "    \n",
              "  var docs_json = {\"e780bb2d-946b-435b-98ce-b019822b4853\":{\"defs\":[],\"roots\":{\"references\":[{\"attributes\":{\"below\":[{\"id\":\"1018\"}],\"center\":[{\"id\":\"1021\"},{\"id\":\"1025\"}],\"left\":[{\"id\":\"1022\"}],\"renderers\":[{\"id\":\"1046\"},{\"id\":\"1051\"},{\"id\":\"1056\"},{\"id\":\"1061\"},{\"id\":\"1066\"},{\"id\":\"1071\"}],\"title\":{\"id\":\"1008\"},\"toolbar\":{\"id\":\"1034\"},\"x_range\":{\"id\":\"1010\"},\"x_scale\":{\"id\":\"1014\"},\"y_range\":{\"id\":\"1012\"},\"y_scale\":{\"id\":\"1016\"}},\"id\":\"1007\",\"subtype\":\"Figure\",\"type\":\"Plot\"},{\"attributes\":{\"line_color\":\"#435363\",\"line_dash\":[2,4],\"line_width\":0.5,\"x\":{\"field\":\"threeD_x\"},\"y\":{\"field\":\"threeD_y\"}},\"id\":\"1049\",\"type\":\"Line\"},{\"attributes\":{\"bottom_units\":\"screen\",\"fill_alpha\":0.5,\"fill_color\":\"lightgrey\",\"left_units\":\"screen\",\"level\":\"overlay\",\"line_alpha\":1.0,\"line_color\":\"black\",\"line_dash\":[4,4],\"line_width\":2,\"right_units\":\"screen\",\"syncable\":false,\"top_units\":\"screen\"},\"id\":\"1033\",\"type\":\"BoxAnnotation\"},{\"attributes\":{\"source\":{\"id\":\"1005\"}},\"id\":\"1047\",\"type\":\"CDSView\"},{\"attributes\":{\"source\":{\"id\":\"1006\"}},\"id\":\"1052\",\"type\":\"CDSView\"},{\"attributes\":{\"data\":{\"x_dim\":[0,1,2,3,4,5,6,7,8,9,10,11,12,13,14,15,16,17,18,19,20,21,22,23],\"y_cumvar\":{\"__ndarray__\":\"AAAAAAAAAACNpEvxByTQP895mkqYENc/xkDqd9Qu3T8/z5sb7CbhP7KCVlB3SuM/O3IPNFz85D8uaE9w8X7mP9vwtqGf9Oc/PEOb7LhJ6T+3dVUmmoXqP9O22ndipOs/35xMV0uj7D8hXCRcxl/tP6VdXgdCEu4/G2T1y7Kg7j/oSl9GZhLvPxs2qVE5fe8/guNc9l+77z93XVe3j9rvPxNSPU228+8/fULZ85/87z8BAAAAAADwPwEAAAAAAPA/\",\"dtype\":\"float64\",\"order\":\"little\",\"shape\":[24]},\"y_var\":{\"__ndarray__\":\"AAAAAAAAAACNpEvxByTQPwhVO2VBsrs/3Rs/tfB4uD/hdjX9Dny0P5mb1aVZHLE/jfiOO04eqz8wX//DUymoP9eKeBbjWqc/CiZFrpRRpT+2J6ObE76jP7oRVBiF7KE/fcE87hvdnz9F6PeaYI+XP3UwQGd1T5Y/ws7gkhjOkT85s3ma3myMP9zMetLCtIo/WrPWWVITfz8A9Xn6wC9vP/2b9OWVJmk/jdTgN03TUT8rJuw1YQA7P7DA8pln+yc5\",\"dtype\":\"float64\",\"order\":\"little\",\"shape\":[24]}},\"selected\":{\"id\":\"1088\"},\"selection_policy\":{\"id\":\"1087\"}},\"id\":\"1003\",\"type\":\"ColumnDataSource\"},{\"attributes\":{},\"id\":\"1084\",\"type\":\"Selection\"},{\"attributes\":{},\"id\":\"1016\",\"type\":\"LinearScale\"},{\"attributes\":{\"data_source\":{\"id\":\"1003\"},\"glyph\":{\"id\":\"1059\"},\"hover_glyph\":null,\"muted_glyph\":null,\"name\":\"PCA\",\"nonselection_glyph\":{\"id\":\"1060\"},\"view\":{\"id\":\"1062\"}},\"id\":\"1061\",\"type\":\"GlyphRenderer\"},{\"attributes\":{},\"id\":\"1077\",\"type\":\"AllLabels\"},{\"attributes\":{},\"id\":\"1088\",\"type\":\"Selection\"},{\"attributes\":{},\"id\":\"1029\",\"type\":\"SaveTool\"},{\"attributes\":{},\"id\":\"1019\",\"type\":\"BasicTicker\"},{\"attributes\":{\"fill_alpha\":{\"value\":0.1},\"fill_color\":{\"value\":\"#FF4C00\"},\"line_alpha\":{\"value\":0.1},\"line_color\":{\"value\":\"#FF4C00\"},\"size\":{\"value\":7},\"x\":{\"field\":\"x_dim\"},\"y\":{\"field\":\"y_cumvar\"}},\"id\":\"1070\",\"type\":\"Circle\"},{\"attributes\":{},\"id\":\"1027\",\"type\":\"ZoomInTool\"},{\"attributes\":{\"fill_color\":{\"value\":\"#FF4C00\"},\"line_color\":{\"value\":\"#FF4C00\"},\"size\":{\"value\":7},\"x\":{\"field\":\"x_dim\"},\"y\":{\"field\":\"y_cumvar\"}},\"id\":\"1069\",\"type\":\"Circle\"},{\"attributes\":{\"data_source\":{\"id\":\"1006\"},\"glyph\":{\"id\":\"1049\"},\"hover_glyph\":null,\"muted_glyph\":null,\"nonselection_glyph\":{\"id\":\"1050\"},\"view\":{\"id\":\"1052\"}},\"id\":\"1051\",\"type\":\"GlyphRenderer\"},{\"attributes\":{},\"id\":\"1014\",\"type\":\"LinearScale\"},{\"attributes\":{\"line_color\":\"#435363\",\"line_dash\":[2,4],\"line_width\":0.5,\"x\":{\"field\":\"twoD_x\"},\"y\":{\"field\":\"twoD_y\"}},\"id\":\"1044\",\"type\":\"Line\"},{\"attributes\":{},\"id\":\"1030\",\"type\":\"ResetTool\"},{\"attributes\":{\"data_source\":{\"id\":\"1003\"},\"glyph\":{\"id\":\"1069\"},\"hover_glyph\":null,\"muted_glyph\":null,\"name\":\"PCA\",\"nonselection_glyph\":{\"id\":\"1070\"},\"view\":{\"id\":\"1072\"}},\"id\":\"1071\",\"type\":\"GlyphRenderer\"},{\"attributes\":{\"axis_label\":\"Variance Explained (per PC & Cumulative)\",\"bounds\":[0,1],\"formatter\":{\"id\":\"1078\"},\"major_label_policy\":{\"id\":\"1077\"},\"ticker\":{\"id\":\"1023\"}},\"id\":\"1022\",\"type\":\"LinearAxis\"},{\"attributes\":{\"source\":{\"id\":\"1004\"}},\"id\":\"1057\",\"type\":\"CDSView\"},{\"attributes\":{\"fill_alpha\":{\"value\":0.1},\"fill_color\":{\"value\":\"#D9F2EF\"},\"line_alpha\":{\"value\":0.1},\"line_color\":{\"value\":\"#D9F2EF\"},\"top\":{\"field\":\"y_var\"},\"width\":{\"value\":0.5},\"x\":{\"field\":\"x_dim\"}},\"id\":\"1060\",\"type\":\"VBar\"},{\"attributes\":{\"line_alpha\":0.1,\"line_color\":\"#435363\",\"line_dash\":[2,4],\"line_width\":0.5,\"x\":{\"field\":\"twoD_x\"},\"y\":{\"field\":\"twoD_y\"}},\"id\":\"1045\",\"type\":\"Line\"},{\"attributes\":{\"active_multi\":null,\"tools\":[{\"id\":\"1002\"},{\"id\":\"1026\"},{\"id\":\"1027\"},{\"id\":\"1028\"},{\"id\":\"1029\"},{\"id\":\"1030\"},{\"id\":\"1031\"},{\"id\":\"1032\"}]},\"id\":\"1034\",\"type\":\"Toolbar\"},{\"attributes\":{\"callback\":null},\"id\":\"1031\",\"type\":\"TapTool\"},{\"attributes\":{},\"id\":\"1087\",\"type\":\"UnionRenderers\"},{\"attributes\":{\"data_source\":{\"id\":\"1003\"},\"glyph\":{\"id\":\"1064\"},\"hover_glyph\":null,\"muted_glyph\":null,\"nonselection_glyph\":{\"id\":\"1065\"},\"view\":{\"id\":\"1067\"}},\"id\":\"1066\",\"type\":\"GlyphRenderer\"},{\"attributes\":{},\"id\":\"1026\",\"type\":\"CrosshairTool\"},{\"attributes\":{\"source\":{\"id\":\"1003\"}},\"id\":\"1072\",\"type\":\"CDSView\"},{\"attributes\":{},\"id\":\"1083\",\"type\":\"UnionRenderers\"},{\"attributes\":{\"overlay\":{\"id\":\"1033\"}},\"id\":\"1032\",\"type\":\"BoxZoomTool\"},{\"attributes\":{},\"id\":\"1082\",\"type\":\"Selection\"},{\"attributes\":{},\"id\":\"1028\",\"type\":\"ZoomOutTool\"},{\"attributes\":{},\"id\":\"1085\",\"type\":\"UnionRenderers\"},{\"attributes\":{\"data_source\":{\"id\":\"1004\"},\"glyph\":{\"id\":\"1054\"},\"hover_glyph\":null,\"muted_glyph\":null,\"nonselection_glyph\":{\"id\":\"1055\"},\"view\":{\"id\":\"1057\"}},\"id\":\"1056\",\"type\":\"GlyphRenderer\"},{\"attributes\":{},\"id\":\"1074\",\"type\":\"AllLabels\"},{\"attributes\":{\"data\":{\"var95_x\":[15,15,15,15,15,15,15,15,15,15,15,15,15,15,15,15,15,15,15,15,15,15,15,15,15,15,15,15,15,15,15,15,15,15,15,15,15,15,15,15,15,15,15,15,15,15,15,15,15,15,15,15,15,15,15,15,15,15,15,15,15,15,15,15,15,15,15,15,15,15,15,15,15,15,15,15,15,15,15,15,15,15,15,15,15,15,15,15,15,15,15,15,15,15,15,15],\"var95_y\":[0.0,0.01,0.02,0.03,0.04,0.05,0.06,0.07,0.08,0.09,0.1,0.11,0.12,0.13,0.14,0.15,0.16,0.17,0.18,0.19,0.2,0.21,0.22,0.23,0.24,0.25,0.26,0.27,0.28,0.29,0.3,0.31,0.32,0.33,0.34,0.35,0.36,0.37,0.38,0.39,0.4,0.41,0.42,0.43,0.44,0.45,0.46,0.47,0.48,0.49,0.5,0.51,0.52,0.53,0.54,0.55,0.56,0.57,0.58,0.59,0.6,0.61,0.62,0.63,0.64,0.65,0.66,0.67,0.68,0.69,0.7,0.71,0.72,0.73,0.74,0.75,0.76,0.77,0.78,0.79,0.8,0.81,0.82,0.83,0.84,0.85,0.86,0.87,0.88,0.89,0.9,0.91,0.92,0.93,0.94,0.95]},\"selected\":{\"id\":\"1086\"},\"selection_policy\":{\"id\":\"1085\"}},\"id\":\"1004\",\"type\":\"ColumnDataSource\"},{\"attributes\":{},\"id\":\"1078\",\"type\":\"BasicTickFormatter\"},{\"attributes\":{\"callback\":null,\"names\":[\"PCA\"],\"tooltips\":[[\"dimensions\",\"@x_dim\"],[\"cumulative variance\",\"@y_cumvar\"],[\"explained variance\",\"@y_var\"]]},\"id\":\"1002\",\"type\":\"HoverTool\"},{\"attributes\":{},\"id\":\"1010\",\"type\":\"DataRange1d\"},{\"attributes\":{},\"id\":\"1075\",\"type\":\"BasicTickFormatter\"},{\"attributes\":{\"axis\":{\"id\":\"1022\"},\"bounds\":[0,23],\"dimension\":1,\"grid_line_alpha\":0.25,\"ticker\":null},\"id\":\"1025\",\"type\":\"Grid\"},{\"attributes\":{\"line_alpha\":0.1,\"line_color\":\"#435363\",\"line_dash\":[2,4],\"line_width\":2,\"x\":{\"field\":\"var95_x\"},\"y\":{\"field\":\"var95_y\"}},\"id\":\"1055\",\"type\":\"Line\"},{\"attributes\":{\"fill_color\":{\"value\":\"#D9F2EF\"},\"line_color\":{\"value\":\"#D9F2EF\"},\"top\":{\"field\":\"y_var\"},\"width\":{\"value\":0.5},\"x\":{\"field\":\"x_dim\"}},\"id\":\"1059\",\"type\":\"VBar\"},{\"attributes\":{\"line_alpha\":0.1,\"line_color\":\"#435363\",\"line_dash\":[2,4],\"line_width\":0.5,\"x\":{\"field\":\"threeD_x\"},\"y\":{\"field\":\"threeD_y\"}},\"id\":\"1050\",\"type\":\"Line\"},{\"attributes\":{\"data\":{\"twoD_x\":[2,2,2,2,2,2,2,2,2,2,2,2,2,2,2,2,2,2,2,2,2,2,2,2,2,2,2,2,2,2,2,2,2,2,2,2,2],\"twoD_y\":[0.0,0.01,0.02,0.03,0.04,0.05,0.06,0.07,0.08,0.09,0.1,0.11,0.12,0.13,0.14,0.15,0.16,0.17,0.18,0.19,0.2,0.21,0.22,0.23,0.24,0.25,0.26,0.27,0.28,0.29,0.3,0.31,0.32,0.33,0.34,0.35,0.36]},\"selected\":{\"id\":\"1082\"},\"selection_policy\":{\"id\":\"1081\"}},\"id\":\"1005\",\"type\":\"ColumnDataSource\"},{\"attributes\":{\"source\":{\"id\":\"1003\"}},\"id\":\"1062\",\"type\":\"CDSView\"},{\"attributes\":{\"source\":{\"id\":\"1003\"}},\"id\":\"1067\",\"type\":\"CDSView\"},{\"attributes\":{},\"id\":\"1086\",\"type\":\"Selection\"},{\"attributes\":{\"text\":\"PCA Analysis\"},\"id\":\"1008\",\"type\":\"Title\"},{\"attributes\":{\"line_color\":\"#435363\",\"line_dash\":[2,4],\"line_width\":2,\"x\":{\"field\":\"var95_x\"},\"y\":{\"field\":\"var95_y\"}},\"id\":\"1054\",\"type\":\"Line\"},{\"attributes\":{\"axis_label\":\"N of 23 Principal Components\",\"bounds\":[0,23],\"formatter\":{\"id\":\"1075\"},\"major_label_policy\":{\"id\":\"1074\"},\"ticker\":{\"id\":\"1019\"}},\"id\":\"1018\",\"type\":\"LinearAxis\"},{\"attributes\":{},\"id\":\"1012\",\"type\":\"DataRange1d\"},{\"attributes\":{\"line_color\":\"#F79737\",\"x\":{\"field\":\"x_dim\"},\"y\":{\"field\":\"y_cumvar\"}},\"id\":\"1064\",\"type\":\"Line\"},{\"attributes\":{},\"id\":\"1081\",\"type\":\"UnionRenderers\"},{\"attributes\":{\"data\":{\"threeD_x\":[3,3,3,3,3,3,3,3,3,3,3,3,3,3,3,3,3,3,3,3,3,3,3,3,3,3,3,3,3,3,3,3,3,3,3,3,3,3,3,3,3,3,3,3,3,3],\"threeD_y\":[0.0,0.01,0.02,0.03,0.04,0.05,0.06,0.07,0.08,0.09,0.1,0.11,0.12,0.13,0.14,0.15,0.16,0.17,0.18,0.19,0.2,0.21,0.22,0.23,0.24,0.25,0.26,0.27,0.28,0.29,0.3,0.31,0.32,0.33,0.34,0.35,0.36,0.37,0.38,0.39,0.4,0.41,0.42,0.43,0.44,0.45]},\"selected\":{\"id\":\"1084\"},\"selection_policy\":{\"id\":\"1083\"}},\"id\":\"1006\",\"type\":\"ColumnDataSource\"},{\"attributes\":{\"line_alpha\":0.1,\"line_color\":\"#F79737\",\"x\":{\"field\":\"x_dim\"},\"y\":{\"field\":\"y_cumvar\"}},\"id\":\"1065\",\"type\":\"Line\"},{\"attributes\":{},\"id\":\"1023\",\"type\":\"BasicTicker\"},{\"attributes\":{\"axis\":{\"id\":\"1018\"},\"bounds\":[0,23],\"grid_line_alpha\":0.25,\"ticker\":null},\"id\":\"1021\",\"type\":\"Grid\"},{\"attributes\":{\"data_source\":{\"id\":\"1005\"},\"glyph\":{\"id\":\"1044\"},\"hover_glyph\":null,\"muted_glyph\":null,\"nonselection_glyph\":{\"id\":\"1045\"},\"view\":{\"id\":\"1047\"}},\"id\":\"1046\",\"type\":\"GlyphRenderer\"}],\"root_ids\":[\"1007\"]},\"title\":\"Bokeh Application\",\"version\":\"2.3.1\"}};\n",
              "  var render_items = [{\"docid\":\"e780bb2d-946b-435b-98ce-b019822b4853\",\"root_ids\":[\"1007\"],\"roots\":{\"1007\":\"54d7b1e0-47d0-4bd1-b1dc-5521518cc7bd\"}}];\n",
              "  root.Bokeh.embed.embed_items_notebook(docs_json, render_items);\n",
              "\n",
              "  }\n",
              "  if (root.Bokeh !== undefined) {\n",
              "    embed_document(root);\n",
              "  } else {\n",
              "    var attempts = 0;\n",
              "    var timer = setInterval(function(root) {\n",
              "      if (root.Bokeh !== undefined) {\n",
              "        clearInterval(timer);\n",
              "        embed_document(root);\n",
              "      } else {\n",
              "        attempts++;\n",
              "        if (attempts > 100) {\n",
              "          clearInterval(timer);\n",
              "          console.log(\"Bokeh: ERROR: Unable to run BokehJS code because BokehJS library is missing\");\n",
              "        }\n",
              "      }\n",
              "    }, 10, root)\n",
              "  }\n",
              "})(window);"
            ],
            "application/vnd.bokehjs_exec.v0+json": ""
          },
          "metadata": {
            "tags": [],
            "application/vnd.bokehjs_exec.v0+json": {
              "id": "1007"
            }
          }
        },
        {
          "output_type": "stream",
          "text": [
            "X*X_pca: (23, 85) * (85, 23) = (23, 23)\n"
          ],
          "name": "stdout"
        },
        {
          "output_type": "display_data",
          "data": {
            "image/png": "[encoded data removed]",
            "text/plain": [
              "<Figure size 900x600 with 2 Axes>"
            ]
          },
          "metadata": {
            "tags": [],
            "needs_background": "light"
          }
        },
        {
          "output_type": "display_data",
          "data": {
            "image/png": "[encoded data removed]",
            "text/plain": [
              "<Figure size 900x600 with 2 Axes>"
            ]
          },
          "metadata": {
            "tags": [],
            "needs_background": "light"
          }
        },
        {
          "output_type": "display_data",
          "data": {
            "image/png": "[encoded data removed]",
            "text/plain": [
              "<Figure size 900x600 with 2 Axes>"
            ]
          },
          "metadata": {
            "tags": [],
            "needs_background": "light"
          }
        },
        {
          "output_type": "stream",
          "text": [
            "        score_ feature_\n",
            "rank                   \n",
            "1     2.182950      F18\n",
            "2     2.118560      F20\n",
            "3     1.892622      F23\n",
            "4     1.223728       F9\n",
            "5     0.564299      F15\n",
            "6     0.434358      F19\n",
            "7     0.433909       F7\n",
            "8     0.424401      F16\n",
            "9     0.418802      F12\n",
            "10    0.369008      F21\n",
            "11    0.366706      F14\n",
            "12    0.355239       F4\n",
            "13    0.329520      F10\n",
            "14    0.304869      F17\n",
            "15    0.292265       F8\n",
            "16    0.287905       F5\n",
            "17    0.285131       F3\n",
            "18    0.283598       F1\n",
            "19    0.282366       F6\n",
            "20    0.257437       F2\n",
            "21    0.239220      F13\n",
            "22    0.222381      F11\n",
            "23    0.207198      F22\n"
          ],
          "name": "stdout"
        }
      ]
    },
    {
      "cell_type": "markdown",
      "metadata": {
        "id": "quj-v_YVgtYv"
      },
      "source": [
        "---\n",
        "\n"
      ]
    },
    {
      "cell_type": "markdown",
      "metadata": {
        "id": "k1-hx56qTtob"
      },
      "source": [
        "# **2a. Prediction**"
      ]
    },
    {
      "cell_type": "code",
      "metadata": {
        "id": "KrCo70tgUje5"
      },
      "source": [
        "#important libraries\n",
        "from sklearn.model_selection import train_test_split\n",
        "from sklearn.neighbors import KNeighborsClassifier\n",
        "from sklearn.linear_model import LogisticRegression\n",
        "from sklearn.ensemble import RandomForestClassifier\n",
        "from sklearn.svm import SVC\n",
        "from sklearn.tree import DecisionTreeClassifier\n",
        "from sklearn.neural_network import MLPClassifier\n",
        "from bokeh.plotting import output_notebook, figure, show\n",
        "from bokeh.models import ColumnDataSource\n",
        "from matplotlib import colors as mcolors"
      ],
      "execution_count": 7,
      "outputs": []
    },
    {
      "cell_type": "code",
      "metadata": {
        "colab": {
          "base_uri": "https://localhost:8080/"
        },
        "id": "jJ-2r6K0Ykhs",
        "outputId": "1b6bc262-3f52-4420-923a-fe33322308ba"
      },
      "source": [
        "# create new dataframe by merging x and y1\n",
        "data_all = features.copy() # copy first to avoid collisions\n",
        "data_all = data_all.assign(target = target_1) # assign target as new col\n",
        "\n",
        "# Print one of the dataframes\n",
        "with pd.option_context('display.max_rows', 3, 'display.max_columns', 2):\n",
        "    print(\"\\n features and target_1:\\n___\\n\", data_all) #data_all=data_all"
      ],
      "execution_count": 8,
      "outputs": [
        {
          "output_type": "stream",
          "text": [
            "\n",
            " features and target_1:\n",
            "___\n",
            "           F1  ...  target\n",
            "0   0.029883  ...       1\n",
            "..       ...  ...     ...\n",
            "84 -0.010862  ...       0\n",
            "\n",
            "[85 rows x 24 columns]\n"
          ],
          "name": "stdout"
        }
      ]
    },
    {
      "cell_type": "code",
      "metadata": {
        "id": "TqT99qEvdqxP"
      },
      "source": [
        "# Investment call descriptions instead of values\n",
        "data_target_str = target_1.copy().replace([0,1,2], ['sell','hold+','buy']) "
      ],
      "execution_count": 9,
      "outputs": []
    },
    {
      "cell_type": "code",
      "metadata": {
        "colab": {
          "base_uri": "https://localhost:8080/"
        },
        "id": "Xw9Kf8xD3yPL",
        "outputId": "a83fdc27-7807-4358-e0b7-45c411516ba9"
      },
      "source": [
        "# 15D PCA dataframe\n",
        "X_pca2D = PCA(n_components=15).fit_transform(StandardScaler().fit_transform(data))\n",
        "data_PCA2D = pd.DataFrame(X_pca2D, columns = ['PC1','PC2','PC3','PC4','PC5','PC6','PC7','PC8','PC9','PC10',\n",
        "                                              'PC11','PC12','PC13','PC14','PC15'])\n",
        "data_PCA2D = data_PCA2D.assign(target=target_1)\n",
        "data_PCA2D = data_PCA2D.assign(label=data_target_str)\n",
        "print(\"Data 2D PCA:\\n___\\n\", data_PCA2D)"
      ],
      "execution_count": 10,
      "outputs": [
        {
          "output_type": "stream",
          "text": [
            "Data 2D PCA:\n",
            "___\n",
            "          PC1       PC2       PC3       PC4  ...      PC14      PC15  target  label\n",
            "0  -1.775194  1.549764 -0.904043  0.753826  ... -0.475114 -0.141484       1  hold+\n",
            "1   2.272891 -0.866656 -0.572006 -0.196539  ... -0.472393  0.657627       1  hold+\n",
            "2   0.352222  2.589767  2.194589  7.522526  ...  1.321757  2.130683       1  hold+\n",
            "3   0.834263 -0.568591 -0.337933 -0.227699  ...  0.766355  0.957971       1  hold+\n",
            "4   9.140013 -1.471407  1.088699 -0.393984  ...  1.154310  0.720444       1  hold+\n",
            "..       ...       ...       ...       ...  ...       ...       ...     ...    ...\n",
            "80 -2.227255 -1.225791  0.677800 -0.723266  ...  0.256147  0.600630       0   sell\n",
            "81 -3.171438 -0.240184  3.081646 -0.947396  ...  0.425851  0.375882       0   sell\n",
            "82 -2.775964 -0.058821  3.224339  1.312958  ...  0.102907  0.102488       0   sell\n",
            "83 -5.787011 -1.269212  0.699552 -1.690286  ... -1.727393  0.408156       0   sell\n",
            "84 -6.448297 -1.214049  1.461477 -3.331006  ...  2.055408 -0.464007       0   sell\n",
            "\n",
            "[85 rows x 17 columns]\n"
          ],
          "name": "stdout"
        }
      ]
    },
    {
      "cell_type": "markdown",
      "metadata": {
        "id": "zbVlDdi-ftuF"
      },
      "source": [
        "# 2b.Predictions generated by classifiers"
      ]
    },
    {
      "cell_type": "markdown",
      "metadata": {
        "id": "5FdnEi-ygizO"
      },
      "source": [
        "We examine training and test data, along with predictions, of several classifiers including: K-Nearest Neighbors, and Logistic Regression"
      ]
    },
    {
      "cell_type": "code",
      "metadata": {
        "colab": {
          "base_uri": "https://localhost:8080/"
        },
        "id": "8a_y86MtgSte",
        "outputId": "4fafbf1c-8a2d-469c-95a9-2110cb7c4c72"
      },
      "source": [
        "# Set seed\n",
        "np.random.seed(312)\n",
        "# For this exercise, we'll train using the PCA data (data_PCA2D) - train/test split of 0.7, 0.3\n",
        "# X_train, X_test, y_train, y_test = train_test_split(X_pca2D, data_y.ravel(), test_size=0.3)\n",
        "X_train, X_test, y_train, y_test = train_test_split(data_PCA2D[['PC1','PC2','PC3','PC4','PC5','PC6','PC7','PC8','PC9',\n",
        "                                                                'PC10','PC11','PC12','PC13','PC14','PC15']], data_PCA2D['target'], test_size=0.3)\n",
        "\n",
        "# Select classifier & train\n",
        "k_neighbors = 2\n",
        "knn_data = KNeighborsClassifier(n_neighbors=2)\n",
        "knn_data.fit(X_train, y_train) \n",
        "\n",
        "# Return predictions on withheld test data and score\n",
        "# -- note: knn also has the predict_proba method \n",
        "#          will let you know probability for each target\n",
        "knn_predictions = knn_data.predict(X_test)\n",
        "print(f\"{k_neighbors}NN model accuracy: {knn_data.score(X_test, y_test)}\")"
      ],
      "execution_count": 15,
      "outputs": [
        {
          "output_type": "stream",
          "text": [
            "2NN model accuracy: 0.8076923076923077\n"
          ],
          "name": "stdout"
        }
      ]
    },
    {
      "cell_type": "code",
      "metadata": {
        "colab": {
          "base_uri": "https://localhost:8080/"
        },
        "id": "AGUj__GDBe4_",
        "outputId": "a39a73cf-6660-4b55-d017-247e07e6bf39"
      },
      "source": [
        "#Feature importance: knn=2\n",
        "#permutation importance\n",
        "from sklearn.inspection import permutation_importance\n",
        "results_kn = permutation_importance(knn_data, X_train, y_train, scoring='accuracy')\n",
        "#feature importance\n",
        "feature_importance_kn = results_kn.importances_mean\n",
        "feature_importance_kn"
      ],
      "execution_count": 16,
      "outputs": [
        {
          "output_type": "execute_result",
          "data": {
            "text/plain": [
              "array([ 0.1559322 ,  0.05762712,  0.04745763,  0.04745763,  0.02711864,\n",
              "        0.01694915,  0.01355932,  0.01016949, -0.00338983,  0.02711864,\n",
              "        0.        ,  0.03050847,  0.01694915,  0.02033898,  0.02033898])"
            ]
          },
          "metadata": {
            "tags": []
          },
          "execution_count": 16
        }
      ]
    },
    {
      "cell_type": "code",
      "metadata": {
        "colab": {
          "base_uri": "https://localhost:8080/",
          "height": 439
        },
        "id": "PlUeKfRRiP1Z",
        "outputId": "fe219d2b-eb26-40c5-f8c4-6c2b9abd3239"
      },
      "source": [
        "# Add predictions column\n",
        "data_PCA2D = data_PCA2D.assign(predictions=knn_data.predict(data_PCA2D[['PC1','PC2','PC3','PC4','PC5','PC6','PC7','PC8','PC9',\n",
        "                                                                        'PC10','PC11','PC12','PC13','PC14','PC15']]))\n",
        "colormap_int_label = {'0': 'sell', '1': 'hold+', '2': 'buy'}\n",
        "predictions_label = [colormap_int_label[str(x)] for x in data_PCA2D.predictions]\n",
        "data_PCA2D = data_PCA2D.assign(predictions_label=predictions_label)\n",
        "data_PCA2D"
      ],
      "execution_count": 17,
      "outputs": [
        {
          "output_type": "execute_result",
          "data": {
            "text/html": [
              "<div>\n",
              "<style scoped>\n",
              "    .dataframe tbody tr th:only-of-type {\n",
              "        vertical-align: middle;\n",
              "    }\n",
              "\n",
              "    .dataframe tbody tr th {\n",
              "        vertical-align: top;\n",
              "    }\n",
              "\n",
              "    .dataframe thead th {\n",
              "        text-align: right;\n",
              "    }\n",
              "</style>\n",
              "<table border=\"1\" class=\"dataframe\">\n",
              "  <thead>\n",
              "    <tr style=\"text-align: right;\">\n",
              "      <th></th>\n",
              "      <th>PC1</th>\n",
              "      <th>PC2</th>\n",
              "      <th>PC3</th>\n",
              "      <th>PC4</th>\n",
              "      <th>PC5</th>\n",
              "      <th>PC6</th>\n",
              "      <th>PC7</th>\n",
              "      <th>PC8</th>\n",
              "      <th>PC9</th>\n",
              "      <th>PC10</th>\n",
              "      <th>PC11</th>\n",
              "      <th>PC12</th>\n",
              "      <th>PC13</th>\n",
              "      <th>PC14</th>\n",
              "      <th>PC15</th>\n",
              "      <th>target</th>\n",
              "      <th>label</th>\n",
              "      <th>predictions</th>\n",
              "      <th>predictions_label</th>\n",
              "    </tr>\n",
              "  </thead>\n",
              "  <tbody>\n",
              "    <tr>\n",
              "      <th>0</th>\n",
              "      <td>-1.775194</td>\n",
              "      <td>1.549764</td>\n",
              "      <td>-0.904043</td>\n",
              "      <td>0.753826</td>\n",
              "      <td>0.156649</td>\n",
              "      <td>-0.170292</td>\n",
              "      <td>2.191793</td>\n",
              "      <td>2.017256</td>\n",
              "      <td>-1.443146</td>\n",
              "      <td>-0.058309</td>\n",
              "      <td>-1.163446</td>\n",
              "      <td>1.864849</td>\n",
              "      <td>-0.651102</td>\n",
              "      <td>-0.475114</td>\n",
              "      <td>-0.141484</td>\n",
              "      <td>1</td>\n",
              "      <td>hold+</td>\n",
              "      <td>1</td>\n",
              "      <td>hold+</td>\n",
              "    </tr>\n",
              "    <tr>\n",
              "      <th>1</th>\n",
              "      <td>2.272891</td>\n",
              "      <td>-0.866656</td>\n",
              "      <td>-0.572006</td>\n",
              "      <td>-0.196539</td>\n",
              "      <td>0.062675</td>\n",
              "      <td>-0.505367</td>\n",
              "      <td>-0.500531</td>\n",
              "      <td>-0.454368</td>\n",
              "      <td>-0.546333</td>\n",
              "      <td>0.221729</td>\n",
              "      <td>0.918264</td>\n",
              "      <td>-0.159582</td>\n",
              "      <td>0.065678</td>\n",
              "      <td>-0.472393</td>\n",
              "      <td>0.657627</td>\n",
              "      <td>1</td>\n",
              "      <td>hold+</td>\n",
              "      <td>1</td>\n",
              "      <td>hold+</td>\n",
              "    </tr>\n",
              "    <tr>\n",
              "      <th>2</th>\n",
              "      <td>0.352222</td>\n",
              "      <td>2.589767</td>\n",
              "      <td>2.194589</td>\n",
              "      <td>7.522526</td>\n",
              "      <td>-0.195186</td>\n",
              "      <td>0.791548</td>\n",
              "      <td>-3.141350</td>\n",
              "      <td>0.399168</td>\n",
              "      <td>-0.526975</td>\n",
              "      <td>-2.363877</td>\n",
              "      <td>0.815727</td>\n",
              "      <td>0.616895</td>\n",
              "      <td>-1.804124</td>\n",
              "      <td>1.321757</td>\n",
              "      <td>2.130683</td>\n",
              "      <td>1</td>\n",
              "      <td>hold+</td>\n",
              "      <td>1</td>\n",
              "      <td>hold+</td>\n",
              "    </tr>\n",
              "    <tr>\n",
              "      <th>3</th>\n",
              "      <td>0.834263</td>\n",
              "      <td>-0.568591</td>\n",
              "      <td>-0.337933</td>\n",
              "      <td>-0.227699</td>\n",
              "      <td>-1.400978</td>\n",
              "      <td>0.205039</td>\n",
              "      <td>0.437614</td>\n",
              "      <td>-0.894968</td>\n",
              "      <td>-1.007867</td>\n",
              "      <td>0.558966</td>\n",
              "      <td>-1.430438</td>\n",
              "      <td>0.031895</td>\n",
              "      <td>-0.824449</td>\n",
              "      <td>0.766355</td>\n",
              "      <td>0.957971</td>\n",
              "      <td>1</td>\n",
              "      <td>hold+</td>\n",
              "      <td>0</td>\n",
              "      <td>sell</td>\n",
              "    </tr>\n",
              "    <tr>\n",
              "      <th>4</th>\n",
              "      <td>9.140013</td>\n",
              "      <td>-1.471407</td>\n",
              "      <td>1.088699</td>\n",
              "      <td>-0.393984</td>\n",
              "      <td>0.546276</td>\n",
              "      <td>-0.388845</td>\n",
              "      <td>0.101617</td>\n",
              "      <td>2.623885</td>\n",
              "      <td>-0.294218</td>\n",
              "      <td>1.333678</td>\n",
              "      <td>1.464437</td>\n",
              "      <td>-0.711182</td>\n",
              "      <td>0.676457</td>\n",
              "      <td>1.154310</td>\n",
              "      <td>0.720444</td>\n",
              "      <td>1</td>\n",
              "      <td>hold+</td>\n",
              "      <td>1</td>\n",
              "      <td>hold+</td>\n",
              "    </tr>\n",
              "    <tr>\n",
              "      <th>...</th>\n",
              "      <td>...</td>\n",
              "      <td>...</td>\n",
              "      <td>...</td>\n",
              "      <td>...</td>\n",
              "      <td>...</td>\n",
              "      <td>...</td>\n",
              "      <td>...</td>\n",
              "      <td>...</td>\n",
              "      <td>...</td>\n",
              "      <td>...</td>\n",
              "      <td>...</td>\n",
              "      <td>...</td>\n",
              "      <td>...</td>\n",
              "      <td>...</td>\n",
              "      <td>...</td>\n",
              "      <td>...</td>\n",
              "      <td>...</td>\n",
              "      <td>...</td>\n",
              "      <td>...</td>\n",
              "    </tr>\n",
              "    <tr>\n",
              "      <th>80</th>\n",
              "      <td>-2.227255</td>\n",
              "      <td>-1.225791</td>\n",
              "      <td>0.677800</td>\n",
              "      <td>-0.723266</td>\n",
              "      <td>0.007467</td>\n",
              "      <td>-0.346109</td>\n",
              "      <td>0.821548</td>\n",
              "      <td>0.057055</td>\n",
              "      <td>-0.389535</td>\n",
              "      <td>-0.165105</td>\n",
              "      <td>-1.313224</td>\n",
              "      <td>-0.793592</td>\n",
              "      <td>-0.224168</td>\n",
              "      <td>0.256147</td>\n",
              "      <td>0.600630</td>\n",
              "      <td>0</td>\n",
              "      <td>sell</td>\n",
              "      <td>0</td>\n",
              "      <td>sell</td>\n",
              "    </tr>\n",
              "    <tr>\n",
              "      <th>81</th>\n",
              "      <td>-3.171438</td>\n",
              "      <td>-0.240184</td>\n",
              "      <td>3.081646</td>\n",
              "      <td>-0.947396</td>\n",
              "      <td>-1.041581</td>\n",
              "      <td>-0.535858</td>\n",
              "      <td>-0.063295</td>\n",
              "      <td>0.482470</td>\n",
              "      <td>1.362666</td>\n",
              "      <td>1.625390</td>\n",
              "      <td>-0.764141</td>\n",
              "      <td>0.801659</td>\n",
              "      <td>-0.192610</td>\n",
              "      <td>0.425851</td>\n",
              "      <td>0.375882</td>\n",
              "      <td>0</td>\n",
              "      <td>sell</td>\n",
              "      <td>0</td>\n",
              "      <td>sell</td>\n",
              "    </tr>\n",
              "    <tr>\n",
              "      <th>82</th>\n",
              "      <td>-2.775964</td>\n",
              "      <td>-0.058821</td>\n",
              "      <td>3.224339</td>\n",
              "      <td>1.312958</td>\n",
              "      <td>0.990578</td>\n",
              "      <td>-0.715605</td>\n",
              "      <td>-1.275879</td>\n",
              "      <td>-0.037307</td>\n",
              "      <td>0.498456</td>\n",
              "      <td>0.803985</td>\n",
              "      <td>-0.215413</td>\n",
              "      <td>-0.637113</td>\n",
              "      <td>-0.592673</td>\n",
              "      <td>0.102907</td>\n",
              "      <td>0.102488</td>\n",
              "      <td>0</td>\n",
              "      <td>sell</td>\n",
              "      <td>0</td>\n",
              "      <td>sell</td>\n",
              "    </tr>\n",
              "    <tr>\n",
              "      <th>83</th>\n",
              "      <td>-5.787011</td>\n",
              "      <td>-1.269212</td>\n",
              "      <td>0.699552</td>\n",
              "      <td>-1.690286</td>\n",
              "      <td>1.645884</td>\n",
              "      <td>0.187900</td>\n",
              "      <td>-1.561891</td>\n",
              "      <td>0.046609</td>\n",
              "      <td>0.783421</td>\n",
              "      <td>-1.081808</td>\n",
              "      <td>0.554548</td>\n",
              "      <td>-0.192872</td>\n",
              "      <td>-0.589601</td>\n",
              "      <td>-1.727393</td>\n",
              "      <td>0.408156</td>\n",
              "      <td>0</td>\n",
              "      <td>sell</td>\n",
              "      <td>0</td>\n",
              "      <td>sell</td>\n",
              "    </tr>\n",
              "    <tr>\n",
              "      <th>84</th>\n",
              "      <td>-6.448297</td>\n",
              "      <td>-1.214049</td>\n",
              "      <td>1.461477</td>\n",
              "      <td>-3.331006</td>\n",
              "      <td>2.590798</td>\n",
              "      <td>5.265816</td>\n",
              "      <td>-0.609698</td>\n",
              "      <td>-0.187675</td>\n",
              "      <td>-3.289674</td>\n",
              "      <td>0.895547</td>\n",
              "      <td>3.383284</td>\n",
              "      <td>1.319413</td>\n",
              "      <td>-0.029696</td>\n",
              "      <td>2.055408</td>\n",
              "      <td>-0.464007</td>\n",
              "      <td>0</td>\n",
              "      <td>sell</td>\n",
              "      <td>0</td>\n",
              "      <td>sell</td>\n",
              "    </tr>\n",
              "  </tbody>\n",
              "</table>\n",
              "<p>85 rows × 19 columns</p>\n",
              "</div>"
            ],
            "text/plain": [
              "         PC1       PC2       PC3  ...  label  predictions  predictions_label\n",
              "0  -1.775194  1.549764 -0.904043  ...  hold+            1              hold+\n",
              "1   2.272891 -0.866656 -0.572006  ...  hold+            1              hold+\n",
              "2   0.352222  2.589767  2.194589  ...  hold+            1              hold+\n",
              "3   0.834263 -0.568591 -0.337933  ...  hold+            0               sell\n",
              "4   9.140013 -1.471407  1.088699  ...  hold+            1              hold+\n",
              "..       ...       ...       ...  ...    ...          ...                ...\n",
              "80 -2.227255 -1.225791  0.677800  ...   sell            0               sell\n",
              "81 -3.171438 -0.240184  3.081646  ...   sell            0               sell\n",
              "82 -2.775964 -0.058821  3.224339  ...   sell            0               sell\n",
              "83 -5.787011 -1.269212  0.699552  ...   sell            0               sell\n",
              "84 -6.448297 -1.214049  1.461477  ...   sell            0               sell\n",
              "\n",
              "[85 rows x 19 columns]"
            ]
          },
          "metadata": {
            "tags": []
          },
          "execution_count": 17
        }
      ]
    },
    {
      "cell_type": "markdown",
      "metadata": {
        "id": "tANTjKM85mjr"
      },
      "source": [
        "### 2d.i.i Forecasting with KNeighbour algo where K=3, K=11"
      ]
    },
    {
      "cell_type": "code",
      "metadata": {
        "colab": {
          "base_uri": "https://localhost:8080/"
        },
        "id": "KTg2i9CZuVdW",
        "outputId": "f68d2889-46b8-457b-fd34-fd86bc777661"
      },
      "source": [
        "#Using the function with knn=3 instead of 2\n",
        "# data\n",
        "data_colormap = {'0': 'red', '1': 'green', '2': 'orange'} \n",
        "data_labelmap = {'0': 'sell', '1': 'hold+', '2': 'buy'} \n",
        "X = data\n",
        "data_targets = target_1\n",
        "data_labels = [data_labelmap[str(x)] for x in data_targets]\n",
        "\n",
        "# select classifier & train\n",
        "neighbors_ = 3\n",
        "knn_rerun = KNeighborsClassifier(n_neighbors=neighbors_)\n",
        "knn_rerun.fit(X_train, y_train)\n",
        "knn_rerun_accuracy = knn_rerun.score(X_test, y_test)\n",
        "knn_rerun_accuracy"
      ],
      "execution_count": 18,
      "outputs": [
        {
          "output_type": "execute_result",
          "data": {
            "text/plain": [
              "0.8846153846153846"
            ]
          },
          "metadata": {
            "tags": []
          },
          "execution_count": 18
        }
      ]
    },
    {
      "cell_type": "code",
      "metadata": {
        "colab": {
          "base_uri": "https://localhost:8080/"
        },
        "id": "oAqC1HTs4NaI",
        "outputId": "0a7b5f49-c485-4862-8b49-3e40858280dc"
      },
      "source": [
        "#Feature importance\n",
        "#permutation importance\n",
        "from sklearn.inspection import permutation_importance\n",
        "results_kn = permutation_importance(knn_rerun, X_train, y_train, scoring='accuracy')\n",
        "#feature importance\n",
        "feature_importance_kn = results_kn.importances_mean\n",
        "feature_importance_kn"
      ],
      "execution_count": 19,
      "outputs": [
        {
          "output_type": "execute_result",
          "data": {
            "text/plain": [
              "array([ 0.1559322 ,  0.04067797,  0.01016949,  0.02711864,  0.02372881,\n",
              "        0.01016949,  0.01694915, -0.02711864,  0.        ,  0.02033898,\n",
              "        0.02711864,  0.0440678 ,  0.01016949,  0.02033898,  0.02372881])"
            ]
          },
          "metadata": {
            "tags": []
          },
          "execution_count": 19
        }
      ]
    },
    {
      "cell_type": "code",
      "metadata": {
        "colab": {
          "base_uri": "https://localhost:8080/"
        },
        "id": "epLKb9AV_Jyh",
        "outputId": "21502c6c-fc5e-46d7-e492-4a34f33b78b4"
      },
      "source": [
        "#Using the function with knn=11\n",
        "np.random.seed(1002)\n",
        "# data\n",
        "data_colormap = {'0': 'red', '1': 'green', '2': 'orange'} \n",
        "data_labelmap = {'0': 'sell', '1': 'hold+', '2': 'buy'} \n",
        "X = data\n",
        "data_targets = target_1\n",
        "data_labels = [data_labelmap[str(x)] for x in data_targets]\n",
        "\n",
        "# select classifier & train\n",
        "neighbors_ = 11 #sweet spot 10-15\n",
        "knn_rerun = KNeighborsClassifier(n_neighbors=neighbors_)\n",
        "knn_rerun.fit(X_train, y_train)\n",
        "knn_rerun_accuracy = knn_rerun.score(X_test, y_test)\n",
        "knn_rerun_accuracy"
      ],
      "execution_count": 25,
      "outputs": [
        {
          "output_type": "execute_result",
          "data": {
            "text/plain": [
              "0.8076923076923077"
            ]
          },
          "metadata": {
            "tags": []
          },
          "execution_count": 25
        }
      ]
    },
    {
      "cell_type": "markdown",
      "metadata": {
        "id": "iEcmlPMM6EjZ"
      },
      "source": [
        "### 2d.i.ii Forecasting with the SVC algorithm"
      ]
    },
    {
      "cell_type": "code",
      "metadata": {
        "colab": {
          "base_uri": "https://localhost:8080/"
        },
        "id": "wp-cYRTByK4v",
        "outputId": "b910f262-ee67-4c5d-ece7-caeac08d5082"
      },
      "source": [
        "# New classifier SVC: select classifier & train\n",
        "#np.random.seed(113)\n",
        "model_svc = SVC(kernel='linear', C=0.1)\n",
        "model_svc.fit(X_train, y_train)\n",
        "model_accuracy = model_svc.score(X_test, y_test)\n",
        "model_accuracy"
      ],
      "execution_count": 26,
      "outputs": [
        {
          "output_type": "execute_result",
          "data": {
            "text/plain": [
              "0.8461538461538461"
            ]
          },
          "metadata": {
            "tags": []
          },
          "execution_count": 26
        }
      ]
    },
    {
      "cell_type": "markdown",
      "metadata": {
        "id": "sAd-hl4chO5L"
      },
      "source": [
        "2d.i.ii.i Forecasting with the SVC algorithm without dimensionality reduction"
      ]
    },
    {
      "cell_type": "code",
      "metadata": {
        "id": "xBz_HNajwG8_",
        "colab": {
          "base_uri": "https://localhost:8080/"
        },
        "outputId": "ae2df7e3-e6a9-4346-ecd9-7b3da32c09cc"
      },
      "source": [
        "# Investment call descriptions instead of values\n",
        "data_target_str = target_1.copy().replace([0,1,2], ['sell','hold+','buy']) \n",
        "\n",
        "# 23D PCA dataframe\n",
        "X_pca23D = StandardScaler().fit_transform(data)\n",
        "data_PCA23D = pd.DataFrame(X_pca23D, columns = ['PC1','PC2','PC3','PC4','PC5','PC6','PC7','PC8','PC9','PC10',\n",
        "                                              'PC11','PC12','PC13','PC14','PC15','PC16','PC17','PC18','PC19',\n",
        "                                              'PC20','PC21','PC22','PC23'])\n",
        "data_PCA23D = data_PCA23D.assign(target=target_1)#concatenate target column, y1 in this case\n",
        "data_PCA23D = data_PCA23D.assign(label=data_target_str)\n",
        "print(\"Data 2D PCA:\\n___\\n\", data_PCA23D)"
      ],
      "execution_count": 27,
      "outputs": [
        {
          "output_type": "stream",
          "text": [
            "Data 2D PCA:\n",
            "___\n",
            "          PC1       PC2       PC3       PC4  ...      PC22      PC23  target  label\n",
            "0  -1.144760 -0.621833 -0.101265  1.079046  ...  1.597656 -0.299096       1  hold+\n",
            "1   1.052146  1.298139  0.850804  0.271398  ...  0.226466 -0.492625       1  hold+\n",
            "2  -0.013613 -0.898092  0.580060 -1.535558  ...  0.216837  2.193838       1  hold+\n",
            "3   0.376791  1.169325 -0.111069  1.321791  ...  0.708886  0.061881       1  hold+\n",
            "4   4.287152  3.482195  1.094251 -2.035953  ...  0.107065 -1.236544       1  hold+\n",
            "..       ...       ...       ...       ...  ...       ...       ...     ...    ...\n",
            "80 -0.906616 -0.676797 -1.358058  0.534144  ... -0.767261 -1.500947       0   sell\n",
            "81 -0.857300 -1.372603 -1.415118 -0.768498  ... -0.949252  0.473709       0   sell\n",
            "82 -0.244039 -1.236255 -1.462492 -1.688631  ... -0.681562 -0.195344       0   sell\n",
            "83 -1.925174 -1.346056 -0.006485  1.292616  ... -1.442264 -0.554887       0   sell\n",
            "84 -1.690638 -1.482978 -0.613272  0.612046  ... -1.644476 -0.855519       0   sell\n",
            "\n",
            "[85 rows x 25 columns]\n"
          ],
          "name": "stdout"
        }
      ]
    },
    {
      "cell_type": "code",
      "metadata": {
        "id": "ZQCxjaCYBFUY"
      },
      "source": [
        "X2_train, X2_test, y2_train, y2_test = train_test_split(data_PCA23D[['PC1','PC2','PC3','PC4','PC5','PC6','PC7','PC8','PC9',\n",
        "                                                                'PC10','PC11','PC12','PC13','PC14','PC15','PC16','PC17',\n",
        "                                                                'PC18','PC19','PC20','PC21','PC22','PC23']], \n",
        "                                                    data_PCA23D['target'], test_size=0.3)"
      ],
      "execution_count": 28,
      "outputs": []
    },
    {
      "cell_type": "code",
      "metadata": {
        "colab": {
          "base_uri": "https://localhost:8080/"
        },
        "id": "Xp-4dagJhrVN",
        "outputId": "510539b5-713c-46a3-9b1e-3554e3773fb8"
      },
      "source": [
        "# SVM classifer by-passing PCA components\n",
        "#np.random.seed(111)\n",
        "model_svc2 = SVC(kernel='linear', C=0.1)\n",
        "model_svc2.fit(X2_train, y2_train)\n",
        "model_accuracy_svc2 = model_svc2.score(X2_test, y2_test)\n",
        "model_accuracy_svc2"
      ],
      "execution_count": 29,
      "outputs": [
        {
          "output_type": "execute_result",
          "data": {
            "text/plain": [
              "0.9230769230769231"
            ]
          },
          "metadata": {
            "tags": []
          },
          "execution_count": 29
        }
      ]
    },
    {
      "cell_type": "markdown",
      "metadata": {
        "id": "jE-svh136wl8"
      },
      "source": [
        "### 2d.i.iii Forecasting with the Logistic Regression algorithm"
      ]
    },
    {
      "cell_type": "code",
      "metadata": {
        "colab": {
          "base_uri": "https://localhost:8080/"
        },
        "id": "mTf9dIL60zhw",
        "outputId": "9d9a9d28-fd25-4c9c-8727-48cbab1bcc57"
      },
      "source": [
        "# Another classifier: Logistic Regression\n",
        "#np.random.seed(42)\n",
        "model_lr = LogisticRegression(penalty='l2', C=50, solver='newton-cg', multi_class='multinomial')\n",
        "model_lr.fit(X_train, y_train)\n",
        "model_accuracy = model_lr.score(X_test, y_test)\n",
        "print(f\"Logistic Regression with {100*model_accuracy:.2f}% Accuracy\")"
      ],
      "execution_count": 30,
      "outputs": [
        {
          "output_type": "stream",
          "text": [
            "Logistic Regression with 80.77% Accuracy\n"
          ],
          "name": "stdout"
        }
      ]
    },
    {
      "cell_type": "markdown",
      "metadata": {
        "id": "REJuOdCV7Psn"
      },
      "source": [
        "### 2d.i.iv Forecasting with the Decision Tree algorithm"
      ]
    },
    {
      "cell_type": "code",
      "metadata": {
        "colab": {
          "base_uri": "https://localhost:8080/"
        },
        "id": "vcYN6Hw92A7K",
        "outputId": "4fe7d4b0-926f-4840-b78d-f299ad501fdc"
      },
      "source": [
        "#Now with a Decision Tree classifier\n",
        "# select classifier & train\n",
        "model_dt = DecisionTreeClassifier(criterion='gini', max_depth=3, min_samples_leaf=6)\n",
        "model_dt.fit(X_train, y_train)\n",
        "model_accuracy = model_dt.score(X_test, y_test)\n",
        "print(f\"Decision Tree with {100*model_accuracy:.2f}% Accuracy\")"
      ],
      "execution_count": 31,
      "outputs": [
        {
          "output_type": "stream",
          "text": [
            "Decision Tree with 80.77% Accuracy\n"
          ],
          "name": "stdout"
        }
      ]
    },
    {
      "cell_type": "code",
      "metadata": {
        "colab": {
          "base_uri": "https://localhost:8080/"
        },
        "id": "pLPQMLf04qwr",
        "outputId": "0385858c-baac-42cd-d26a-a9740a451b48"
      },
      "source": [
        "#importance of features: Decision Tree\n",
        "feature_importance=model_dt.feature_importances_\n",
        "feature_importance"
      ],
      "execution_count": 32,
      "outputs": [
        {
          "output_type": "execute_result",
          "data": {
            "text/plain": [
              "array([0.53970984, 0.        , 0.        , 0.1589261 , 0.        ,\n",
              "       0.        , 0.        , 0.        , 0.        , 0.18394134,\n",
              "       0.        , 0.        , 0.06907219, 0.04835053, 0.        ])"
            ]
          },
          "metadata": {
            "tags": []
          },
          "execution_count": 32
        }
      ]
    },
    {
      "cell_type": "markdown",
      "metadata": {
        "id": "zCz51O2l64wj"
      },
      "source": [
        "### 2d.i.v Forecasting with the Random Forest algorithm"
      ]
    },
    {
      "cell_type": "code",
      "metadata": {
        "colab": {
          "base_uri": "https://localhost:8080/"
        },
        "id": "gl857A-Y1LLV",
        "outputId": "8b372f95-a458-4f92-f9c2-73e053dd5037"
      },
      "source": [
        "# Another classifier with a different seed: Random Forest\n",
        "np.random.seed(218)\n",
        "model_rf = RandomForestClassifier(n_estimators=8, criterion='entropy', n_jobs=-1)\n",
        "model_rf.fit(X_train, y_train)\n",
        "model_accuracy = model_rf.score(X_test, y_test)\n",
        "print(f\"Random Forest with {100*model_accuracy:.2f}% Accuracy\")"
      ],
      "execution_count": 35,
      "outputs": [
        {
          "output_type": "stream",
          "text": [
            "Random Forest with 88.46% Accuracy\n"
          ],
          "name": "stdout"
        }
      ]
    },
    {
      "cell_type": "markdown",
      "metadata": {
        "id": "PmOY5m1e9ij4"
      },
      "source": [
        "### 2d.i.v Forecasting with the MLP Classifier (neural network) algorithm"
      ]
    },
    {
      "cell_type": "code",
      "metadata": {
        "colab": {
          "base_uri": "https://localhost:8080/"
        },
        "id": "T6jswbtl9jEC",
        "outputId": "1d0a52a2-5af3-4883-85c7-2ba61804942e"
      },
      "source": [
        "# try with a new classifer\n",
        "mlp_sw = MLPClassifier(activation='relu', hidden_layer_sizes=(23,23), max_iter=500)\n",
        "mlp_sw.fit(X_train, y_train)\n",
        "mlp_sw_accuracy = mlp_sw.score(X_test, y_test)\n",
        "mlp_predictions = mlp_sw.predict(X_test)\n",
        "print(f\"MLP with {100*mlp_sw_accuracy:.2f}% Accuracy\")"
      ],
      "execution_count": 36,
      "outputs": [
        {
          "output_type": "stream",
          "text": [
            "MLP with 84.62% Accuracy\n"
          ],
          "name": "stdout"
        }
      ]
    },
    {
      "cell_type": "markdown",
      "metadata": {
        "id": "kyVxFi9qC80i"
      },
      "source": [
        "2d.i.v.i Forecasting with the MLP Classifier (neural network) algorithm by-passing PCA componets as inputs"
      ]
    },
    {
      "cell_type": "code",
      "metadata": {
        "colab": {
          "base_uri": "https://localhost:8080/"
        },
        "id": "IQUhaNbJEHS-",
        "outputId": "e7c637ab-18cb-4cd9-b723-0c7175994da0"
      },
      "source": [
        "# MPL classifer by-passing PCA components\n",
        "#np.random.seed(110)\n",
        "mlp_sw2 = MLPClassifier(activation='relu', hidden_layer_sizes=(23,23), max_iter=500)\n",
        "mlp_sw2.fit(X2_train, y2_train)\n",
        "mlp_sw_accuracy2 = mlp_sw2.score(X2_test, y2_test)\n",
        "mlp_predictions2 = mlp_sw2.predict(X2_test)\n",
        "print(f\"MLP with {100*mlp_sw_accuracy2:.2f}% Accuracy\")"
      ],
      "execution_count": 37,
      "outputs": [
        {
          "output_type": "stream",
          "text": [
            "MLP with 96.15% Accuracy\n"
          ],
          "name": "stdout"
        }
      ]
    },
    {
      "cell_type": "markdown",
      "metadata": {
        "id": "mnI7iUhDg4-D"
      },
      "source": [
        "---\n",
        "\n"
      ]
    },
    {
      "cell_type": "markdown",
      "metadata": {
        "id": "-FfbudRQdHee"
      },
      "source": [
        "# **3. Model performance**: ROC, AUC, confusion matrix & classification report"
      ]
    },
    {
      "cell_type": "markdown",
      "metadata": {
        "id": "AfYL8bcsj2d5"
      },
      "source": [
        "We will use the MLPClassifier (aka neural networks) algo, without dimensionality reduction,  as our base case given that it has the highest accuracy among peer algos"
      ]
    },
    {
      "cell_type": "code",
      "metadata": {
        "id": "naSGIc4jdXEQ"
      },
      "source": [
        "from itertools import cycle\n",
        "from sklearn.metrics import accuracy_score, roc_curve, auc, precision_recall_curve, average_precision_score, classification_report, confusion_matrix\n",
        "from matplotlib.colors import cnames\n",
        "cnames = dict((k, v) for k, v in cnames.items() if 'dark' in k) # get only dark colors"
      ],
      "execution_count": 38,
      "outputs": []
    },
    {
      "cell_type": "code",
      "metadata": {
        "colab": {
          "base_uri": "https://localhost:8080/",
          "height": 594
        },
        "id": "qsp5AVf7f7Jp",
        "outputId": "018e80f6-1887-4553-8ac7-853765fc5f3e"
      },
      "source": [
        "#get probability distribution of MLPClassifier (exPCA)\n",
        "probas = mlp_sw2.predict_proba(X2_test)\n",
        "\n",
        "# plot\n",
        "plt.figure(dpi=150)\n",
        "plt.hist(probas, bins=20)\n",
        "plt.title('Classification Probabilities')\n",
        "plt.xlabel('Probability')\n",
        "plt.ylabel('# of Instances')\n",
        "plt.xlim([0.5, 1.0])\n",
        "plt.legend(target_name_y1)\n",
        "plt.show()"
      ],
      "execution_count": 40,
      "outputs": [
        {
          "output_type": "display_data",
          "data": {
            "image/png": "[encoded data removed]",
            "text/plain": [
              "<Figure size 900x600 with 1 Axes>"
            ]
          },
          "metadata": {
            "tags": [],
            "needs_background": "light"
          }
        }
      ]
    },
    {
      "cell_type": "code",
      "metadata": {
        "colab": {
          "base_uri": "https://localhost:8080/",
          "height": 594
        },
        "id": "hroVbYPGoq9V",
        "outputId": "8a68f2fd-3a93-49fe-c2b3-b4deaf040d7e"
      },
      "source": [
        "# plot with density instead of counts\n",
        "plt.figure(dpi=150)\n",
        "plt.hist(probas[:,0], density=True, bins=20)\n",
        "plt.title('Classification Density (Malignant)')\n",
        "plt.xlabel('Probability')\n",
        "plt.ylabel('% of Total')\n",
        "plt.xlim([0.5, 1.0])\n",
        "plt.legend(target_name_y1)\n",
        "plt.show()"
      ],
      "execution_count": 41,
      "outputs": [
        {
          "output_type": "display_data",
          "data": {
            "image/png": "[encoded data removed]",
            "text/plain": [
              "<Figure size 900x600 with 1 Axes>"
            ]
          },
          "metadata": {
            "tags": [],
            "needs_background": "light"
          }
        }
      ]
    },
    {
      "cell_type": "code",
      "metadata": {
        "colab": {
          "base_uri": "https://localhost:8080/",
          "height": 594
        },
        "id": "pydHZSJzqAdj",
        "outputId": "312690e2-ca9e-4722-858b-9ffa930283e8"
      },
      "source": [
        "\"\"\" ROC curve \"\"\"\n",
        "\n",
        "# get false and true positive rates\n",
        "fpr, tpr, _ = roc_curve(y2_test, probas[:,0], pos_label=0)\n",
        "\n",
        "# get area under the curve\n",
        "roc_auc = auc(fpr, tpr)\n",
        "\n",
        "# PLOT ROC curve\n",
        "plt.figure(dpi=150)\n",
        "plt.plot(fpr, tpr, lw=1, color='green', label=f'AUC = {roc_auc:.3f}')\n",
        "plt.plot([0,1], [0,1], '--k', lw=0.5, label='Random')\n",
        "plt.title('ROC Curve for MLP classifier')\n",
        "plt.xlabel('False Positive Rate')\n",
        "plt.ylabel('True Positive Rate (Recall)')\n",
        "plt.xlim([-0.05, 1.05])\n",
        "plt.ylim([-0.05, 1.05])\n",
        "plt.legend()\n",
        "plt.show()"
      ],
      "execution_count": 42,
      "outputs": [
        {
          "output_type": "display_data",
          "data": {
            "image/png": "[encoded data removed]",
            "text/plain": [
              "<Figure size 900x600 with 1 Axes>"
            ]
          },
          "metadata": {
            "tags": [],
            "needs_background": "light"
          }
        }
      ]
    },
    {
      "cell_type": "code",
      "metadata": {
        "colab": {
          "base_uri": "https://localhost:8080/",
          "height": 594
        },
        "id": "sMG8hUx3qoMk",
        "outputId": "741e310e-ed74-4fb6-89e7-fb5b37fe1a5f"
      },
      "source": [
        "\"\"\" Precision Recall Curve \"\"\"\n",
        "\n",
        "# get precision and recall values\n",
        "precision, recall, _ = precision_recall_curve(y2_test, probas[:,0], pos_label=0)\n",
        "\n",
        "# average precision score\n",
        "#avg_precision = average_precision_score(y_test, probas[:,1]) #not supported\n",
        "\n",
        "# precision auc\n",
        "pr_auc = auc(recall, precision)\n",
        "\n",
        "# plot\n",
        "plt.figure(dpi=150)\n",
        "plt.plot(recall, precision, lw=1, color='blue', label=f'AUC={pr_auc:.3f}')\n",
        "plt.fill_between(recall, precision, -1, facecolor='lightblue', alpha=0.5)\n",
        "\n",
        "plt.title('PR Curve for MLP classifier')\n",
        "plt.xlabel('Recall (TPR)')\n",
        "plt.ylabel('Precision')\n",
        "plt.xlim([-0.05, 1.05])\n",
        "plt.ylim([-0.05, 1.05])\n",
        "plt.legend()\n",
        "plt.show()"
      ],
      "execution_count": 43,
      "outputs": [
        {
          "output_type": "display_data",
          "data": {
            "image/png": "[encoded data removed]",
            "text/plain": [
              "<Figure size 900x600 with 1 Axes>"
            ]
          },
          "metadata": {
            "tags": [],
            "needs_background": "light"
          }
        }
      ]
    },
    {
      "cell_type": "markdown",
      "metadata": {
        "id": "p1ALZDfg_Jeb"
      },
      "source": [
        "Confusion Matrix"
      ]
    },
    {
      "cell_type": "code",
      "metadata": {
        "colab": {
          "base_uri": "https://localhost:8080/"
        },
        "id": "82pQkchjz85t",
        "outputId": "74f2bd5b-d7f1-4531-d001-2df9fb001f2e"
      },
      "source": [
        "print('confusion matrix', confusion_matrix(y2_test, mlp_predictions2))"
      ],
      "execution_count": 46,
      "outputs": [
        {
          "output_type": "stream",
          "text": [
            "confusion matrix [[ 5  1]\n",
            " [ 0 20]]\n"
          ],
          "name": "stdout"
        }
      ]
    },
    {
      "cell_type": "markdown",
      "metadata": {
        "id": "nSRjw69J_OXp"
      },
      "source": [
        "Classification report"
      ]
    },
    {
      "cell_type": "code",
      "metadata": {
        "colab": {
          "base_uri": "https://localhost:8080/"
        },
        "id": "26M5-bupx7AT",
        "outputId": "225b3fe0-42cc-4215-eea9-03176c9ec8eb"
      },
      "source": [
        "print('classification report', classification_report(y2_test, mlp_predictions2))"
      ],
      "execution_count": 47,
      "outputs": [
        {
          "output_type": "stream",
          "text": [
            "classification report               precision    recall  f1-score   support\n",
            "\n",
            "           0       1.00      0.83      0.91         6\n",
            "           1       0.95      1.00      0.98        20\n",
            "\n",
            "    accuracy                           0.96        26\n",
            "   macro avg       0.98      0.92      0.94        26\n",
            "weighted avg       0.96      0.96      0.96        26\n",
            "\n"
          ],
          "name": "stdout"
        }
      ]
    },
    {
      "cell_type": "markdown",
      "metadata": {
        "id": "gT8Xp19IvbOm"
      },
      "source": [
        "We now put together a general function that can easily produce all performance graphs"
      ]
    },
    {
      "cell_type": "code",
      "metadata": {
        "colab": {
          "base_uri": "https://localhost:8080/",
          "height": 1000
        },
        "id": "n-q6y9TKvY6N",
        "outputId": "2539d051-f90a-49e3-86b1-a7e8fc442e76"
      },
      "source": [
        "\"\"\" Function to return all perfomance plots of a classifer \"\"\"\n",
        "\n",
        "def classifier_plots(clf_trained, X2_test, y2_test, target_names:list, minority_idx:int=0, ylog:bool=False):\n",
        "    \"\"\"\n",
        "    Get summary plots for a trained classifier\n",
        "    \n",
        "    Args:\n",
        "        probas: trained sklearn clf\n",
        "        X_test (np.ndarray): withheld test data\n",
        "        y_test (np.ndarray): withheld test data labels\n",
        "        target_names (list): list of target labels/names\n",
        "        minority_idx: (int): index for the minority class (e.g. 0, 1) \n",
        "        ylog (str): toggle log-scaling on yaxis\n",
        "        \n",
        "    Returns:\n",
        "        None\n",
        "    \"\"\"\n",
        "    \n",
        "    \"\"\" Probabilty Dist \"\"\"\n",
        "    # get the probability distribution\n",
        "    probas = mlp_sw2.predict_proba(X2_test)\n",
        "\n",
        "    # PLOT - count\n",
        "    plt.figure(dpi=150)\n",
        "    plt.hist(probas, bins=20)\n",
        "    plt.title('Classification Probabilities')\n",
        "    plt.xlabel('Probability')\n",
        "    plt.ylabel('# of Instances')\n",
        "    plt.xlim([0.5, 1.0])\n",
        "    if ylog: plt.yscale('log')\n",
        "    plt.legend(target_names)\n",
        "    plt.show()\n",
        "    \n",
        "    \n",
        "    # PLOT - density\n",
        "    plt.figure(dpi=150)\n",
        "    plt.hist(probas[:, minority_idx], bins=20, density=True)\n",
        "    plt.title('Classification Density (Minority)')\n",
        "    plt.xlabel('Probability')\n",
        "    plt.ylabel('% of Total')\n",
        "    if ylog: plt.yscale('log')\n",
        "    plt.xlim([0, 1.0])\n",
        "    plt.legend(target_names)\n",
        "    plt.show()\n",
        "    \n",
        "    \"\"\" ROC curve \"\"\"\n",
        "\n",
        "    # get false and true positive rates\n",
        "    fpr, tpr, _ = roc_curve(y2_test, probas[:,0], pos_label=0)\n",
        "\n",
        "    # get area under the curve\n",
        "    clf_auc = auc(fpr, tpr)\n",
        "\n",
        "    # PLOT ROC curve\n",
        "    plt.figure(dpi=150)\n",
        "    plt.plot(fpr, tpr, lw=1, color='green', label=f'AUC = {clf_auc:.3f}')\n",
        "    plt.plot([0,1], [0,1], '--k', lw=0.5, label='Random')\n",
        "    plt.title('ROC')\n",
        "    plt.xlabel('False Positive Rate')\n",
        "    plt.ylabel('True Positive Rate (Recall)')\n",
        "    plt.xlim([-0.05, 1.05])\n",
        "    plt.ylim([-0.05, 1.05])\n",
        "    plt.legend()\n",
        "    plt.show()\n",
        "    \n",
        "    \"\"\" Precision Recall Curve \"\"\"\n",
        "\n",
        "    # get precision and recall values\n",
        "    precision, recall, _ = precision_recall_curve(y2_test, probas[:,0], pos_label=0)\n",
        "\n",
        "    # average precision score\n",
        "    #avg_precision = average_precision_score(y_test, probas[:,0]) #not supported by colab\n",
        "\n",
        "    # precision auc\n",
        "    pr_auc = auc(recall, precision)\n",
        "\n",
        "    # plot\n",
        "    plt.figure(dpi=150)\n",
        "    plt.plot(recall, precision, lw=1, color='blue', label=f'AUC={pr_auc:.3f}')\n",
        "    plt.fill_between(recall, precision, -1, facecolor='lightblue', alpha=0.5)\n",
        "\n",
        "    plt.title('PR Curve')\n",
        "    plt.xlabel('Recall (TPR)')\n",
        "    plt.ylabel('Precision')\n",
        "    plt.xlim([-0.05, 1.05])\n",
        "    plt.ylim([-0.05, 1.05])\n",
        "    plt.legend()\n",
        "    plt.show()\n",
        "    \n",
        "\n",
        "\"\"\" get all plots \"\"\"\n",
        "classifier_plots(mlp_sw2, X2_test, y2_test, ['minority', 'majority'], ylog=True)\n"
      ],
      "execution_count": 48,
      "outputs": [
        {
          "output_type": "display_data",
          "data": {
            "image/png": "[encoded data removed]",
            "text/plain": [
              "<Figure size 900x600 with 1 Axes>"
            ]
          },
          "metadata": {
            "tags": [],
            "needs_background": "light"
          }
        },
        {
          "output_type": "display_data",
          "data": {
            "image/png": "[encoded data removed]",
            "text/plain": [
              "<Figure size 900x600 with 1 Axes>"
            ]
          },
          "metadata": {
            "tags": [],
            "needs_background": "light"
          }
        },
        {
          "output_type": "display_data",
          "data": {
            "image/png": "[encoded data removed]",
            "text/plain": [
              "<Figure size 900x600 with 1 Axes>"
            ]
          },
          "metadata": {
            "tags": [],
            "needs_background": "light"
          }
        },
        {
          "output_type": "display_data",
          "data": {
            "image/png": "[encoded data removed]",
            "text/plain": [
              "<Figure size 900x600 with 1 Axes>"
            ]
          },
          "metadata": {
            "tags": [],
            "needs_background": "light"
          }
        }
      ]
    }
  ]
}