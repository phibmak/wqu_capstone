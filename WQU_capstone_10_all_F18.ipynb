{
  "nbformat": 4,
  "nbformat_minor": 0,
  "metadata": {
    "colab": {
      "name": "WQU_capstone_10_all_F18.ipynb",
      "provenance": []
    },
    "kernelspec": {
      "name": "python3",
      "display_name": "Python 3"
    },
    "language_info": {
      "name": "python"
    }
  },
  "cells": [
    {
      "cell_type": "code",
      "metadata": {
        "id": "JPpWMyf_HlgY"
      },
      "source": [
        "import numpy as np \n",
        "import pandas as pd \n",
        "import seaborn as sns\n",
        "import matplotlib.pyplot as plt"
      ],
      "execution_count": 1,
      "outputs": []
    },
    {
      "cell_type": "code",
      "metadata": {
        "colab": {
          "resources": {
            "http://localhost:8080/nbextensions/google.colab/files.js": {
              "data": "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",
              "ok": true,
              "headers": [
                [
                  "content-type",
                  "application/javascript"
                ]
              ],
              "status": 200,
              "status_text": ""
            }
          },
          "base_uri": "https://localhost:8080/",
          "height": 72
        },
        "id": "_qXkiABrJZyA",
        "outputId": "3829978a-8f46-4ac9-cc44-1adff0d3b72b"
      },
      "source": [
        "#import files\n",
        "from google.colab import files\n",
        "uploaded = files.upload()"
      ],
      "execution_count": 2,
      "outputs": [
        {
          "output_type": "display_data",
          "data": {
            "text/html": [
              "\n",
              "     <input type=\"file\" id=\"files-a4dbcdcf-3f1e-455b-a95a-427c7aba53a4\" name=\"files[]\" multiple disabled\n",
              "        style=\"border:none\" />\n",
              "     <output id=\"result-a4dbcdcf-3f1e-455b-a95a-427c7aba53a4\">\n",
              "      Upload widget is only available when the cell has been executed in the\n",
              "      current browser session. Please rerun this cell to enable.\n",
              "      </output>\n",
              "      <script src=\"/nbextensions/google.colab/files.js\"></script> "
            ],
            "text/plain": [
              "<IPython.core.display.HTML object>"
            ]
          },
          "metadata": {
            "tags": []
          }
        },
        {
          "output_type": "stream",
          "text": [
            "Saving capstone_data_2_all_F18_1.xlsx to capstone_data_2_all_F18_1.xlsx\n"
          ],
          "name": "stdout"
        }
      ]
    },
    {
      "cell_type": "code",
      "metadata": {
        "id": "IO-VDw7VRvFH"
      },
      "source": [
        "data = pd.read_excel('capstone_data_2_all_F18_1.xlsx')"
      ],
      "execution_count": 3,
      "outputs": []
    },
    {
      "cell_type": "code",
      "metadata": {
        "id": "_GA2Ke7MTUWE",
        "colab": {
          "base_uri": "https://localhost:8080/"
        },
        "outputId": "569fd008-b962-4272-e72e-37f3729b10cb"
      },
      "source": [
        "data.head"
      ],
      "execution_count": 4,
      "outputs": [
        {
          "output_type": "execute_result",
          "data": {
            "text/plain": [
              "<bound method NDFrame.head of           F1        F2        F3  ...     F22       F23  Y_variable\n",
              "0   0.029883  0.063077 -0.008567  ...  0.2879  0.314879           1\n",
              "1   0.193864  0.195109  0.005479  ...  0.1455  0.157838           1\n",
              "2   0.114314  0.044079  0.001485  ...  0.1445  2.337801           1\n",
              "3   0.143455  0.186251 -0.008711  ...  0.1956  0.607799           1\n",
              "4   0.435331  0.345302  0.009070  ...  0.1331 -0.445824           1\n",
              "..       ...       ...       ...  ...     ...       ...         ...\n",
              "80  0.047659  0.059297 -0.027108  ...  0.0423 -0.660377           0\n",
              "81  0.051340  0.011448 -0.027950  ...  0.0234  0.941981           0\n",
              "82  0.097115  0.020825 -0.028649  ...  0.0512  0.399070           0\n",
              "83 -0.028368  0.013274 -0.007168  ... -0.0278  0.107315           0\n",
              "84 -0.010862  0.003858 -0.016120  ... -0.0488 -0.136637           0\n",
              "\n",
              "[85 rows x 24 columns]>"
            ]
          },
          "metadata": {
            "tags": []
          },
          "execution_count": 4
        }
      ]
    },
    {
      "cell_type": "code",
      "metadata": {
        "id": "ADha5uz3WT42"
      },
      "source": [
        "data.info()"
      ],
      "execution_count": null,
      "outputs": []
    },
    {
      "cell_type": "code",
      "metadata": {
        "id": "CwFaUbouiJOy",
        "colab": {
          "base_uri": "https://localhost:8080/",
          "height": 317
        },
        "outputId": "05893ddc-6c28-425c-d6b4-8734543edc19"
      },
      "source": [
        "data.describe()"
      ],
      "execution_count": 5,
      "outputs": [
        {
          "output_type": "execute_result",
          "data": {
            "text/html": [
              "<div>\n",
              "<style scoped>\n",
              "    .dataframe tbody tr th:only-of-type {\n",
              "        vertical-align: middle;\n",
              "    }\n",
              "\n",
              "    .dataframe tbody tr th {\n",
              "        vertical-align: top;\n",
              "    }\n",
              "\n",
              "    .dataframe thead th {\n",
              "        text-align: right;\n",
              "    }\n",
              "</style>\n",
              "<table border=\"1\" class=\"dataframe\">\n",
              "  <thead>\n",
              "    <tr style=\"text-align: right;\">\n",
              "      <th></th>\n",
              "      <th>F1</th>\n",
              "      <th>F2</th>\n",
              "      <th>F3</th>\n",
              "      <th>F4</th>\n",
              "      <th>F5</th>\n",
              "      <th>F6</th>\n",
              "      <th>F7</th>\n",
              "      <th>F8</th>\n",
              "      <th>F9</th>\n",
              "      <th>F10</th>\n",
              "      <th>F11</th>\n",
              "      <th>F12</th>\n",
              "      <th>F13</th>\n",
              "      <th>F14</th>\n",
              "      <th>F15</th>\n",
              "      <th>F16</th>\n",
              "      <th>F17</th>\n",
              "      <th>F18</th>\n",
              "      <th>F19</th>\n",
              "      <th>F20</th>\n",
              "      <th>F21</th>\n",
              "      <th>F22</th>\n",
              "      <th>F23</th>\n",
              "      <th>Y_variable</th>\n",
              "    </tr>\n",
              "  </thead>\n",
              "  <tbody>\n",
              "    <tr>\n",
              "      <th>count</th>\n",
              "      <td>85.000000</td>\n",
              "      <td>85.000000</td>\n",
              "      <td>85.000000</td>\n",
              "      <td>85.000000</td>\n",
              "      <td>85.000000</td>\n",
              "      <td>85.000000</td>\n",
              "      <td>85.000000</td>\n",
              "      <td>85.000000</td>\n",
              "      <td>85.000000</td>\n",
              "      <td>85.000000</td>\n",
              "      <td>85.000000</td>\n",
              "      <td>85.000000</td>\n",
              "      <td>85.000000</td>\n",
              "      <td>85.000000</td>\n",
              "      <td>85.000000</td>\n",
              "      <td>85.000000</td>\n",
              "      <td>85.000000</td>\n",
              "      <td>85.000000</td>\n",
              "      <td>85.000000</td>\n",
              "      <td>85.000000</td>\n",
              "      <td>85.000000</td>\n",
              "      <td>85.000000</td>\n",
              "      <td>85.000000</td>\n",
              "      <td>85.000000</td>\n",
              "    </tr>\n",
              "    <tr>\n",
              "      <th>mean</th>\n",
              "      <td>0.115330</td>\n",
              "      <td>0.105839</td>\n",
              "      <td>-0.007073</td>\n",
              "      <td>-0.009491</td>\n",
              "      <td>-0.000143</td>\n",
              "      <td>0.010261</td>\n",
              "      <td>-0.015803</td>\n",
              "      <td>-0.002827</td>\n",
              "      <td>0.081159</td>\n",
              "      <td>0.137894</td>\n",
              "      <td>0.092742</td>\n",
              "      <td>0.136702</td>\n",
              "      <td>0.099934</td>\n",
              "      <td>0.134561</td>\n",
              "      <td>0.108671</td>\n",
              "      <td>0.203682</td>\n",
              "      <td>0.016994</td>\n",
              "      <td>0.549906</td>\n",
              "      <td>0.116336</td>\n",
              "      <td>0.249785</td>\n",
              "      <td>0.055259</td>\n",
              "      <td>0.121981</td>\n",
              "      <td>0.557585</td>\n",
              "      <td>0.670588</td>\n",
              "    </tr>\n",
              "    <tr>\n",
              "      <th>std</th>\n",
              "      <td>0.075085</td>\n",
              "      <td>0.069176</td>\n",
              "      <td>0.014840</td>\n",
              "      <td>0.039793</td>\n",
              "      <td>0.013177</td>\n",
              "      <td>0.135034</td>\n",
              "      <td>0.069337</td>\n",
              "      <td>0.013440</td>\n",
              "      <td>0.388031</td>\n",
              "      <td>0.127286</td>\n",
              "      <td>0.059456</td>\n",
              "      <td>0.121392</td>\n",
              "      <td>0.062045</td>\n",
              "      <td>0.091608</td>\n",
              "      <td>0.130252</td>\n",
              "      <td>0.165718</td>\n",
              "      <td>0.024251</td>\n",
              "      <td>1.378728</td>\n",
              "      <td>0.161659</td>\n",
              "      <td>0.920587</td>\n",
              "      <td>0.165545</td>\n",
              "      <td>0.104468</td>\n",
              "      <td>0.816278</td>\n",
              "      <td>0.472789</td>\n",
              "    </tr>\n",
              "    <tr>\n",
              "      <th>min</th>\n",
              "      <td>-0.028368</td>\n",
              "      <td>0.003858</td>\n",
              "      <td>-0.075658</td>\n",
              "      <td>-0.107694</td>\n",
              "      <td>-0.039090</td>\n",
              "      <td>-0.500699</td>\n",
              "      <td>-0.282522</td>\n",
              "      <td>-0.049000</td>\n",
              "      <td>-0.065624</td>\n",
              "      <td>-0.616377</td>\n",
              "      <td>-0.026176</td>\n",
              "      <td>-0.206300</td>\n",
              "      <td>-0.027900</td>\n",
              "      <td>-0.047100</td>\n",
              "      <td>-0.104000</td>\n",
              "      <td>-0.025900</td>\n",
              "      <td>0.000816</td>\n",
              "      <td>-0.151244</td>\n",
              "      <td>-0.130200</td>\n",
              "      <td>-2.991700</td>\n",
              "      <td>-0.395500</td>\n",
              "      <td>-0.048800</td>\n",
              "      <td>-1.083959</td>\n",
              "      <td>0.000000</td>\n",
              "    </tr>\n",
              "    <tr>\n",
              "      <th>25%</th>\n",
              "      <td>0.074176</td>\n",
              "      <td>0.053348</td>\n",
              "      <td>-0.012319</td>\n",
              "      <td>-0.033138</td>\n",
              "      <td>-0.007606</td>\n",
              "      <td>-0.051490</td>\n",
              "      <td>-0.037686</td>\n",
              "      <td>-0.006800</td>\n",
              "      <td>-0.000034</td>\n",
              "      <td>0.084019</td>\n",
              "      <td>0.060594</td>\n",
              "      <td>0.076400</td>\n",
              "      <td>0.065000</td>\n",
              "      <td>0.079000</td>\n",
              "      <td>0.020800</td>\n",
              "      <td>0.087500</td>\n",
              "      <td>0.004793</td>\n",
              "      <td>0.115359</td>\n",
              "      <td>0.045800</td>\n",
              "      <td>0.010600</td>\n",
              "      <td>-0.055600</td>\n",
              "      <td>0.047500</td>\n",
              "      <td>0.104963</td>\n",
              "      <td>0.000000</td>\n",
              "    </tr>\n",
              "    <tr>\n",
              "      <th>50%</th>\n",
              "      <td>0.096363</td>\n",
              "      <td>0.091470</td>\n",
              "      <td>-0.005780</td>\n",
              "      <td>-0.010358</td>\n",
              "      <td>0.000849</td>\n",
              "      <td>0.001539</td>\n",
              "      <td>-0.014300</td>\n",
              "      <td>-0.002200</td>\n",
              "      <td>0.014778</td>\n",
              "      <td>0.140972</td>\n",
              "      <td>0.078965</td>\n",
              "      <td>0.122300</td>\n",
              "      <td>0.085900</td>\n",
              "      <td>0.121200</td>\n",
              "      <td>0.088700</td>\n",
              "      <td>0.165300</td>\n",
              "      <td>0.008423</td>\n",
              "      <td>0.219298</td>\n",
              "      <td>0.092500</td>\n",
              "      <td>0.141400</td>\n",
              "      <td>0.074400</td>\n",
              "      <td>0.108300</td>\n",
              "      <td>0.319233</td>\n",
              "      <td>1.000000</td>\n",
              "    </tr>\n",
              "    <tr>\n",
              "      <th>75%</th>\n",
              "      <td>0.149320</td>\n",
              "      <td>0.144444</td>\n",
              "      <td>0.000478</td>\n",
              "      <td>0.015100</td>\n",
              "      <td>0.009149</td>\n",
              "      <td>0.043651</td>\n",
              "      <td>0.016393</td>\n",
              "      <td>0.003000</td>\n",
              "      <td>0.045319</td>\n",
              "      <td>0.181775</td>\n",
              "      <td>0.122543</td>\n",
              "      <td>0.169000</td>\n",
              "      <td>0.127300</td>\n",
              "      <td>0.172100</td>\n",
              "      <td>0.157800</td>\n",
              "      <td>0.266000</td>\n",
              "      <td>0.020491</td>\n",
              "      <td>0.422121</td>\n",
              "      <td>0.135100</td>\n",
              "      <td>0.377700</td>\n",
              "      <td>0.128300</td>\n",
              "      <td>0.173500</td>\n",
              "      <td>0.772011</td>\n",
              "      <td>1.000000</td>\n",
              "    </tr>\n",
              "    <tr>\n",
              "      <th>max</th>\n",
              "      <td>0.435331</td>\n",
              "      <td>0.359296</td>\n",
              "      <td>0.035969</td>\n",
              "      <td>0.090541</td>\n",
              "      <td>0.032041</td>\n",
              "      <td>0.565056</td>\n",
              "      <td>0.197592</td>\n",
              "      <td>0.040900</td>\n",
              "      <td>3.522889</td>\n",
              "      <td>0.546013</td>\n",
              "      <td>0.312149</td>\n",
              "      <td>0.500300</td>\n",
              "      <td>0.395900</td>\n",
              "      <td>0.558400</td>\n",
              "      <td>0.578700</td>\n",
              "      <td>0.863200</td>\n",
              "      <td>0.147628</td>\n",
              "      <td>11.724243</td>\n",
              "      <td>1.345000</td>\n",
              "      <td>5.443800</td>\n",
              "      <td>0.694200</td>\n",
              "      <td>0.537700</td>\n",
              "      <td>3.553266</td>\n",
              "      <td>1.000000</td>\n",
              "    </tr>\n",
              "  </tbody>\n",
              "</table>\n",
              "</div>"
            ],
            "text/plain": [
              "              F1         F2         F3  ...        F22        F23  Y_variable\n",
              "count  85.000000  85.000000  85.000000  ...  85.000000  85.000000   85.000000\n",
              "mean    0.115330   0.105839  -0.007073  ...   0.121981   0.557585    0.670588\n",
              "std     0.075085   0.069176   0.014840  ...   0.104468   0.816278    0.472789\n",
              "min    -0.028368   0.003858  -0.075658  ...  -0.048800  -1.083959    0.000000\n",
              "25%     0.074176   0.053348  -0.012319  ...   0.047500   0.104963    0.000000\n",
              "50%     0.096363   0.091470  -0.005780  ...   0.108300   0.319233    1.000000\n",
              "75%     0.149320   0.144444   0.000478  ...   0.173500   0.772011    1.000000\n",
              "max     0.435331   0.359296   0.035969  ...   0.537700   3.553266    1.000000\n",
              "\n",
              "[8 rows x 24 columns]"
            ]
          },
          "metadata": {
            "tags": []
          },
          "execution_count": 5
        }
      ]
    },
    {
      "cell_type": "code",
      "metadata": {
        "id": "WFDRXWB3ifes"
      },
      "source": [
        "#Splitting data into independent (x) and dependent (y) variables\n",
        "#y-variables are categorised or classified into two groups: G1 has average stock returns of X>0% p.a. between 2010 and 2019\n",
        "  #G2 has mean returns X<0%\n",
        "x = data.iloc[:,:23] #features\n",
        "y = data.iloc[:,23] #target"
      ],
      "execution_count": 6,
      "outputs": []
    },
    {
      "cell_type": "code",
      "metadata": {
        "colab": {
          "base_uri": "https://localhost:8080/"
        },
        "id": "-Pc3gF8okGEZ",
        "outputId": "509d2d52-0168-41a9-b097-abe6950354a9"
      },
      "source": [
        "x.shape, y.shape"
      ],
      "execution_count": null,
      "outputs": [
        {
          "output_type": "execute_result",
          "data": {
            "text/plain": [
              "((85, 23), (85,))"
            ]
          },
          "metadata": {
            "tags": []
          },
          "execution_count": 8
        }
      ]
    },
    {
      "cell_type": "code",
      "metadata": {
        "id": "q5CVyq5wZPP9",
        "colab": {
          "base_uri": "https://localhost:8080/"
        },
        "outputId": "6e06b676-293f-4048-c0ac-244e3b4ff967"
      },
      "source": [
        "feature_names = x.columns.values\n",
        "print(feature_names)"
      ],
      "execution_count": 19,
      "outputs": [
        {
          "output_type": "stream",
          "text": [
            "['F1' 'F2' 'F3' 'F4' 'F5' 'F6' 'F7' 'F8' 'F9' 'F10' 'F11' 'F12' 'F13'\n",
            " 'F14' 'F15' 'F16' 'F17' 'F18' 'F19' 'F20' 'F21' 'F22' 'F23']\n"
          ],
          "name": "stdout"
        }
      ]
    },
    {
      "cell_type": "code",
      "metadata": {
        "id": "2atanB8ZZVPM",
        "colab": {
          "base_uri": "https://localhost:8080/"
        },
        "outputId": "a8faa407-5c72-4a78-e70c-04530da8fd33"
      },
      "source": [
        "y"
      ],
      "execution_count": 20,
      "outputs": [
        {
          "output_type": "execute_result",
          "data": {
            "text/plain": [
              "0     1\n",
              "1     1\n",
              "2     1\n",
              "3     1\n",
              "4     1\n",
              "     ..\n",
              "80    0\n",
              "81    0\n",
              "82    0\n",
              "83    0\n",
              "84    0\n",
              "Name: Y_variable, Length: 85, dtype: int64"
            ]
          },
          "metadata": {
            "tags": []
          },
          "execution_count": 20
        }
      ]
    },
    {
      "cell_type": "code",
      "metadata": {
        "colab": {
          "base_uri": "https://localhost:8080/",
          "height": 419
        },
        "id": "DexQ1Eb-lAR2",
        "outputId": "be43b810-ae5c-4a11-ad67-94ff4b650a83"
      },
      "source": [
        "y_2 = pd.DataFrame(data = y\n",
        "             , columns = ['Y_variable'])\n",
        "y_2"
      ],
      "execution_count": 21,
      "outputs": [
        {
          "output_type": "execute_result",
          "data": {
            "text/html": [
              "<div>\n",
              "<style scoped>\n",
              "    .dataframe tbody tr th:only-of-type {\n",
              "        vertical-align: middle;\n",
              "    }\n",
              "\n",
              "    .dataframe tbody tr th {\n",
              "        vertical-align: top;\n",
              "    }\n",
              "\n",
              "    .dataframe thead th {\n",
              "        text-align: right;\n",
              "    }\n",
              "</style>\n",
              "<table border=\"1\" class=\"dataframe\">\n",
              "  <thead>\n",
              "    <tr style=\"text-align: right;\">\n",
              "      <th></th>\n",
              "      <th>Y_variable</th>\n",
              "    </tr>\n",
              "  </thead>\n",
              "  <tbody>\n",
              "    <tr>\n",
              "      <th>0</th>\n",
              "      <td>1</td>\n",
              "    </tr>\n",
              "    <tr>\n",
              "      <th>1</th>\n",
              "      <td>1</td>\n",
              "    </tr>\n",
              "    <tr>\n",
              "      <th>2</th>\n",
              "      <td>1</td>\n",
              "    </tr>\n",
              "    <tr>\n",
              "      <th>3</th>\n",
              "      <td>1</td>\n",
              "    </tr>\n",
              "    <tr>\n",
              "      <th>4</th>\n",
              "      <td>1</td>\n",
              "    </tr>\n",
              "    <tr>\n",
              "      <th>...</th>\n",
              "      <td>...</td>\n",
              "    </tr>\n",
              "    <tr>\n",
              "      <th>80</th>\n",
              "      <td>0</td>\n",
              "    </tr>\n",
              "    <tr>\n",
              "      <th>81</th>\n",
              "      <td>0</td>\n",
              "    </tr>\n",
              "    <tr>\n",
              "      <th>82</th>\n",
              "      <td>0</td>\n",
              "    </tr>\n",
              "    <tr>\n",
              "      <th>83</th>\n",
              "      <td>0</td>\n",
              "    </tr>\n",
              "    <tr>\n",
              "      <th>84</th>\n",
              "      <td>0</td>\n",
              "    </tr>\n",
              "  </tbody>\n",
              "</table>\n",
              "<p>85 rows × 1 columns</p>\n",
              "</div>"
            ],
            "text/plain": [
              "    Y_variable\n",
              "0            1\n",
              "1            1\n",
              "2            1\n",
              "3            1\n",
              "4            1\n",
              "..         ...\n",
              "80           0\n",
              "81           0\n",
              "82           0\n",
              "83           0\n",
              "84           0\n",
              "\n",
              "[85 rows x 1 columns]"
            ]
          },
          "metadata": {
            "tags": []
          },
          "execution_count": 21
        }
      ]
    },
    {
      "cell_type": "code",
      "metadata": {
        "id": "9VbbzrkFjiRj"
      },
      "source": [
        "#from sklearn.preprocessing import StandardScaler\n",
        "from sklearn.preprocessing import scale #data scaling"
      ],
      "execution_count": 8,
      "outputs": []
    },
    {
      "cell_type": "code",
      "metadata": {
        "id": "5W7ZdvMXndCZ"
      },
      "source": [
        "#scaler=StandardScaler()\n",
        "#scaler.fit(x)\n",
        "#scaled_data=scaler.transform(x)\n",
        "scaled_data = scale(x)"
      ],
      "execution_count": 9,
      "outputs": []
    },
    {
      "cell_type": "code",
      "metadata": {
        "id": "f0yGEdaRoIPZ",
        "colab": {
          "base_uri": "https://localhost:8080/"
        },
        "outputId": "c6394a44-c8aa-49d5-fa8e-9e6c50dd59d5"
      },
      "source": [
        "scaled_data"
      ],
      "execution_count": 10,
      "outputs": [
        {
          "output_type": "execute_result",
          "data": {
            "text/plain": [
              "array([[-1.14476018, -0.62183348, -0.10126539, ...,  0.44383407,\n",
              "         1.59765604, -0.29909622],\n",
              "       [ 1.05214584,  1.29813909,  0.85080394, ...,  0.95243638,\n",
              "         0.22646611, -0.49262495],\n",
              "       [-0.013613  , -0.89809236,  0.58006027, ...,  0.41102101,\n",
              "         0.21683697,  2.1938383 ],\n",
              "       ...,\n",
              "       [-0.24403901, -1.23625507, -1.46249164, ..., -1.55107799,\n",
              "        -0.68156205, -0.19534403],\n",
              "       [-1.92517419, -1.34605595, -0.00648483, ..., -1.32807077,\n",
              "        -1.44226433, -0.55488723],\n",
              "       [-1.69063821, -1.48297767, -0.61327205, ..., -1.29951126,\n",
              "        -1.64447633, -0.85551917]])"
            ]
          },
          "metadata": {
            "tags": []
          },
          "execution_count": 10
        }
      ]
    },
    {
      "cell_type": "code",
      "metadata": {
        "id": "aOUDX8yw-Wv9"
      },
      "source": [
        "#plot relationships between x variables\n",
        "#scaled_data_cov = pd.DataFrame(scaled_data)\n",
        "#sns.pairplot(scaled_data_2[scaled_data_2.columns], diag_kind=\"kde\")"
      ],
      "execution_count": 11,
      "outputs": []
    },
    {
      "cell_type": "code",
      "metadata": {
        "id": "Ah3fmToci6yl",
        "colab": {
          "base_uri": "https://localhost:8080/"
        },
        "outputId": "9bbd9ace-fca8-4ca4-e50b-399f7b22bd28"
      },
      "source": [
        "#PCA analysis of all components\n",
        "from sklearn.decomposition import PCA #Principal Component Analysis package\n",
        "#pca = PCA()\n",
        "#X = pca.fit_transform(scaled_data)\n",
        "pca = PCA(n_components=3)\n",
        "pca.fit(scaled_data)"
      ],
      "execution_count": 13,
      "outputs": [
        {
          "output_type": "execute_result",
          "data": {
            "text/plain": [
              "PCA(copy=True, iterated_power='auto', n_components=3, random_state=None,\n",
              "    svd_solver='auto', tol=0.0, whiten=False)"
            ]
          },
          "metadata": {
            "tags": []
          },
          "execution_count": 13
        }
      ]
    },
    {
      "cell_type": "code",
      "metadata": {
        "id": "UEiy_eNhjAN3"
      },
      "source": [
        "#pca.get_covariance()"
      ],
      "execution_count": null,
      "outputs": []
    },
    {
      "cell_type": "code",
      "metadata": {
        "id": "7vldRicqROwq"
      },
      "source": [
        "scores = pca.transform(scaled_data)"
      ],
      "execution_count": 15,
      "outputs": []
    },
    {
      "cell_type": "code",
      "metadata": {
        "colab": {
          "base_uri": "https://localhost:8080/",
          "height": 419
        },
        "id": "YiZYn6iYRli-",
        "outputId": "790a85cc-ee88-4d36-f7ed-83fd7c02a8d7"
      },
      "source": [
        "scores_df = pd.DataFrame(scores,columns=[\"PC1\",\"PC2\",\"PC3\"])\n",
        "scores_df"
      ],
      "execution_count": 16,
      "outputs": [
        {
          "output_type": "execute_result",
          "data": {
            "text/html": [
              "<div>\n",
              "<style scoped>\n",
              "    .dataframe tbody tr th:only-of-type {\n",
              "        vertical-align: middle;\n",
              "    }\n",
              "\n",
              "    .dataframe tbody tr th {\n",
              "        vertical-align: top;\n",
              "    }\n",
              "\n",
              "    .dataframe thead th {\n",
              "        text-align: right;\n",
              "    }\n",
              "</style>\n",
              "<table border=\"1\" class=\"dataframe\">\n",
              "  <thead>\n",
              "    <tr style=\"text-align: right;\">\n",
              "      <th></th>\n",
              "      <th>PC1</th>\n",
              "      <th>PC2</th>\n",
              "      <th>PC3</th>\n",
              "    </tr>\n",
              "  </thead>\n",
              "  <tbody>\n",
              "    <tr>\n",
              "      <th>0</th>\n",
              "      <td>-1.767045</td>\n",
              "      <td>1.580392</td>\n",
              "      <td>-0.879851</td>\n",
              "    </tr>\n",
              "    <tr>\n",
              "      <th>1</th>\n",
              "      <td>2.280301</td>\n",
              "      <td>-0.873234</td>\n",
              "      <td>-0.590492</td>\n",
              "    </tr>\n",
              "    <tr>\n",
              "      <th>2</th>\n",
              "      <td>0.361122</td>\n",
              "      <td>2.598158</td>\n",
              "      <td>2.280035</td>\n",
              "    </tr>\n",
              "    <tr>\n",
              "      <th>3</th>\n",
              "      <td>0.849749</td>\n",
              "      <td>-0.553456</td>\n",
              "      <td>-0.360398</td>\n",
              "    </tr>\n",
              "    <tr>\n",
              "      <th>4</th>\n",
              "      <td>9.157979</td>\n",
              "      <td>-1.520074</td>\n",
              "      <td>1.047286</td>\n",
              "    </tr>\n",
              "    <tr>\n",
              "      <th>...</th>\n",
              "      <td>...</td>\n",
              "      <td>...</td>\n",
              "      <td>...</td>\n",
              "    </tr>\n",
              "    <tr>\n",
              "      <th>80</th>\n",
              "      <td>-2.219014</td>\n",
              "      <td>-1.211519</td>\n",
              "      <td>0.665019</td>\n",
              "    </tr>\n",
              "    <tr>\n",
              "      <th>81</th>\n",
              "      <td>-3.159389</td>\n",
              "      <td>-0.234802</td>\n",
              "      <td>3.068861</td>\n",
              "    </tr>\n",
              "    <tr>\n",
              "      <th>82</th>\n",
              "      <td>-2.781129</td>\n",
              "      <td>-0.075157</td>\n",
              "      <td>3.249061</td>\n",
              "    </tr>\n",
              "    <tr>\n",
              "      <th>83</th>\n",
              "      <td>-5.778915</td>\n",
              "      <td>-1.530808</td>\n",
              "      <td>0.621868</td>\n",
              "    </tr>\n",
              "    <tr>\n",
              "      <th>84</th>\n",
              "      <td>-6.445255</td>\n",
              "      <td>-1.208766</td>\n",
              "      <td>1.446280</td>\n",
              "    </tr>\n",
              "  </tbody>\n",
              "</table>\n",
              "<p>85 rows × 3 columns</p>\n",
              "</div>"
            ],
            "text/plain": [
              "         PC1       PC2       PC3\n",
              "0  -1.767045  1.580392 -0.879851\n",
              "1   2.280301 -0.873234 -0.590492\n",
              "2   0.361122  2.598158  2.280035\n",
              "3   0.849749 -0.553456 -0.360398\n",
              "4   9.157979 -1.520074  1.047286\n",
              "..       ...       ...       ...\n",
              "80 -2.219014 -1.211519  0.665019\n",
              "81 -3.159389 -0.234802  3.068861\n",
              "82 -2.781129 -0.075157  3.249061\n",
              "83 -5.778915 -1.530808  0.621868\n",
              "84 -6.445255 -1.208766  1.446280\n",
              "\n",
              "[85 rows x 3 columns]"
            ]
          },
          "metadata": {
            "tags": []
          },
          "execution_count": 16
        }
      ]
    },
    {
      "cell_type": "code",
      "metadata": {
        "id": "hSsWlZAeV84Z"
      },
      "source": [
        "Y_label = []\n",
        "\n",
        "for i in y:\n",
        "  if i == 0:\n",
        "    Y_label.append('Sell')\n",
        "  elif i == 1:\n",
        "    Y_label.append('Buy')\n",
        "\n",
        "Call = pd.DataFrame(Y_label, columns=['Y_variable']) #replaced Species with Call"
      ],
      "execution_count": 25,
      "outputs": []
    },
    {
      "cell_type": "code",
      "metadata": {
        "colab": {
          "base_uri": "https://localhost:8080/",
          "height": 419
        },
        "id": "_6UzCz2YXhy4",
        "outputId": "67a9ce0c-9414-46f5-d7e4-8624f6620560"
      },
      "source": [
        "df_scores = pd.concat([scores_df, Call], axis=1)\n",
        "df_scores"
      ],
      "execution_count": 26,
      "outputs": [
        {
          "output_type": "execute_result",
          "data": {
            "text/html": [
              "<div>\n",
              "<style scoped>\n",
              "    .dataframe tbody tr th:only-of-type {\n",
              "        vertical-align: middle;\n",
              "    }\n",
              "\n",
              "    .dataframe tbody tr th {\n",
              "        vertical-align: top;\n",
              "    }\n",
              "\n",
              "    .dataframe thead th {\n",
              "        text-align: right;\n",
              "    }\n",
              "</style>\n",
              "<table border=\"1\" class=\"dataframe\">\n",
              "  <thead>\n",
              "    <tr style=\"text-align: right;\">\n",
              "      <th></th>\n",
              "      <th>PC1</th>\n",
              "      <th>PC2</th>\n",
              "      <th>PC3</th>\n",
              "      <th>Y_variable</th>\n",
              "    </tr>\n",
              "  </thead>\n",
              "  <tbody>\n",
              "    <tr>\n",
              "      <th>0</th>\n",
              "      <td>-1.767045</td>\n",
              "      <td>1.580392</td>\n",
              "      <td>-0.879851</td>\n",
              "      <td>Buy</td>\n",
              "    </tr>\n",
              "    <tr>\n",
              "      <th>1</th>\n",
              "      <td>2.280301</td>\n",
              "      <td>-0.873234</td>\n",
              "      <td>-0.590492</td>\n",
              "      <td>Buy</td>\n",
              "    </tr>\n",
              "    <tr>\n",
              "      <th>2</th>\n",
              "      <td>0.361122</td>\n",
              "      <td>2.598158</td>\n",
              "      <td>2.280035</td>\n",
              "      <td>Buy</td>\n",
              "    </tr>\n",
              "    <tr>\n",
              "      <th>3</th>\n",
              "      <td>0.849749</td>\n",
              "      <td>-0.553456</td>\n",
              "      <td>-0.360398</td>\n",
              "      <td>Buy</td>\n",
              "    </tr>\n",
              "    <tr>\n",
              "      <th>4</th>\n",
              "      <td>9.157979</td>\n",
              "      <td>-1.520074</td>\n",
              "      <td>1.047286</td>\n",
              "      <td>Buy</td>\n",
              "    </tr>\n",
              "    <tr>\n",
              "      <th>...</th>\n",
              "      <td>...</td>\n",
              "      <td>...</td>\n",
              "      <td>...</td>\n",
              "      <td>...</td>\n",
              "    </tr>\n",
              "    <tr>\n",
              "      <th>80</th>\n",
              "      <td>-2.219014</td>\n",
              "      <td>-1.211519</td>\n",
              "      <td>0.665019</td>\n",
              "      <td>Sell</td>\n",
              "    </tr>\n",
              "    <tr>\n",
              "      <th>81</th>\n",
              "      <td>-3.159389</td>\n",
              "      <td>-0.234802</td>\n",
              "      <td>3.068861</td>\n",
              "      <td>Sell</td>\n",
              "    </tr>\n",
              "    <tr>\n",
              "      <th>82</th>\n",
              "      <td>-2.781129</td>\n",
              "      <td>-0.075157</td>\n",
              "      <td>3.249061</td>\n",
              "      <td>Sell</td>\n",
              "    </tr>\n",
              "    <tr>\n",
              "      <th>83</th>\n",
              "      <td>-5.778915</td>\n",
              "      <td>-1.530808</td>\n",
              "      <td>0.621868</td>\n",
              "      <td>Sell</td>\n",
              "    </tr>\n",
              "    <tr>\n",
              "      <th>84</th>\n",
              "      <td>-6.445255</td>\n",
              "      <td>-1.208766</td>\n",
              "      <td>1.446280</td>\n",
              "      <td>Sell</td>\n",
              "    </tr>\n",
              "  </tbody>\n",
              "</table>\n",
              "<p>85 rows × 4 columns</p>\n",
              "</div>"
            ],
            "text/plain": [
              "         PC1       PC2       PC3 Y_variable\n",
              "0  -1.767045  1.580392 -0.879851        Buy\n",
              "1   2.280301 -0.873234 -0.590492        Buy\n",
              "2   0.361122  2.598158  2.280035        Buy\n",
              "3   0.849749 -0.553456 -0.360398        Buy\n",
              "4   9.157979 -1.520074  1.047286        Buy\n",
              "..       ...       ...       ...        ...\n",
              "80 -2.219014 -1.211519  0.665019       Sell\n",
              "81 -3.159389 -0.234802  3.068861       Sell\n",
              "82 -2.781129 -0.075157  3.249061       Sell\n",
              "83 -5.778915 -1.530808  0.621868       Sell\n",
              "84 -6.445255 -1.208766  1.446280       Sell\n",
              "\n",
              "[85 rows x 4 columns]"
            ]
          },
          "metadata": {
            "tags": []
          },
          "execution_count": 26
        }
      ]
    },
    {
      "cell_type": "markdown",
      "metadata": {
        "id": "qiN3AlvNYNoh"
      },
      "source": [
        "Retrieve loadings values"
      ]
    },
    {
      "cell_type": "code",
      "metadata": {
        "colab": {
          "base_uri": "https://localhost:8080/",
          "height": 762
        },
        "id": "k8P-1-iLYWq3",
        "outputId": "030d2057-300a-4113-eb4c-583851b51b54"
      },
      "source": [
        "eigenvalues = pca.components_.T\n",
        "df_eigenvalues = pd.DataFrame(eigenvalues, columns=['PC1', 'PC2','PC3'], index=feature_names)\n",
        "df_eigenvalues"
      ],
      "execution_count": 48,
      "outputs": [
        {
          "output_type": "execute_result",
          "data": {
            "text/html": [
              "<div>\n",
              "<style scoped>\n",
              "    .dataframe tbody tr th:only-of-type {\n",
              "        vertical-align: middle;\n",
              "    }\n",
              "\n",
              "    .dataframe tbody tr th {\n",
              "        vertical-align: top;\n",
              "    }\n",
              "\n",
              "    .dataframe thead th {\n",
              "        text-align: right;\n",
              "    }\n",
              "</style>\n",
              "<table border=\"1\" class=\"dataframe\">\n",
              "  <thead>\n",
              "    <tr style=\"text-align: right;\">\n",
              "      <th></th>\n",
              "      <th>PC1</th>\n",
              "      <th>PC2</th>\n",
              "      <th>PC3</th>\n",
              "    </tr>\n",
              "  </thead>\n",
              "  <tbody>\n",
              "    <tr>\n",
              "      <th>F1</th>\n",
              "      <td>0.389328</td>\n",
              "      <td>-0.036822</td>\n",
              "      <td>0.128034</td>\n",
              "    </tr>\n",
              "    <tr>\n",
              "      <th>F2</th>\n",
              "      <td>0.363856</td>\n",
              "      <td>-0.126663</td>\n",
              "      <td>-0.087561</td>\n",
              "    </tr>\n",
              "    <tr>\n",
              "      <th>F3</th>\n",
              "      <td>0.022671</td>\n",
              "      <td>-0.117366</td>\n",
              "      <td>-0.502723</td>\n",
              "    </tr>\n",
              "    <tr>\n",
              "      <th>F4</th>\n",
              "      <td>-0.102092</td>\n",
              "      <td>-0.150712</td>\n",
              "      <td>-0.393804</td>\n",
              "    </tr>\n",
              "    <tr>\n",
              "      <th>F5</th>\n",
              "      <td>0.059139</td>\n",
              "      <td>0.019067</td>\n",
              "      <td>-0.189678</td>\n",
              "    </tr>\n",
              "    <tr>\n",
              "      <th>F6</th>\n",
              "      <td>0.067978</td>\n",
              "      <td>0.235001</td>\n",
              "      <td>-0.011605</td>\n",
              "    </tr>\n",
              "    <tr>\n",
              "      <th>F7</th>\n",
              "      <td>-0.124851</td>\n",
              "      <td>-0.054257</td>\n",
              "      <td>0.118851</td>\n",
              "    </tr>\n",
              "    <tr>\n",
              "      <th>F8</th>\n",
              "      <td>0.059970</td>\n",
              "      <td>-0.356327</td>\n",
              "      <td>-0.339113</td>\n",
              "    </tr>\n",
              "    <tr>\n",
              "      <th>F9</th>\n",
              "      <td>-0.133892</td>\n",
              "      <td>-0.021028</td>\n",
              "      <td>0.080394</td>\n",
              "    </tr>\n",
              "    <tr>\n",
              "      <th>F10</th>\n",
              "      <td>0.047208</td>\n",
              "      <td>-0.071775</td>\n",
              "      <td>-0.008362</td>\n",
              "    </tr>\n",
              "    <tr>\n",
              "      <th>F11</th>\n",
              "      <td>0.396250</td>\n",
              "      <td>0.005824</td>\n",
              "      <td>0.051618</td>\n",
              "    </tr>\n",
              "    <tr>\n",
              "      <th>F12</th>\n",
              "      <td>0.345107</td>\n",
              "      <td>-0.001164</td>\n",
              "      <td>-0.000066</td>\n",
              "    </tr>\n",
              "    <tr>\n",
              "      <th>F13</th>\n",
              "      <td>0.392329</td>\n",
              "      <td>-0.066162</td>\n",
              "      <td>0.088377</td>\n",
              "    </tr>\n",
              "    <tr>\n",
              "      <th>F14</th>\n",
              "      <td>0.369791</td>\n",
              "      <td>-0.144766</td>\n",
              "      <td>0.109345</td>\n",
              "    </tr>\n",
              "    <tr>\n",
              "      <th>F15</th>\n",
              "      <td>-0.089234</td>\n",
              "      <td>-0.098787</td>\n",
              "      <td>0.242770</td>\n",
              "    </tr>\n",
              "    <tr>\n",
              "      <th>F16</th>\n",
              "      <td>0.120689</td>\n",
              "      <td>0.465400</td>\n",
              "      <td>-0.255915</td>\n",
              "    </tr>\n",
              "    <tr>\n",
              "      <th>F17</th>\n",
              "      <td>-0.056388</td>\n",
              "      <td>0.519654</td>\n",
              "      <td>-0.246834</td>\n",
              "    </tr>\n",
              "    <tr>\n",
              "      <th>F18</th>\n",
              "      <td>0.005739</td>\n",
              "      <td>-0.102947</td>\n",
              "      <td>-0.027687</td>\n",
              "    </tr>\n",
              "    <tr>\n",
              "      <th>F19</th>\n",
              "      <td>0.030119</td>\n",
              "      <td>0.269073</td>\n",
              "      <td>0.200484</td>\n",
              "    </tr>\n",
              "    <tr>\n",
              "      <th>F20</th>\n",
              "      <td>0.066644</td>\n",
              "      <td>-0.031776</td>\n",
              "      <td>-0.304865</td>\n",
              "    </tr>\n",
              "    <tr>\n",
              "      <th>F21</th>\n",
              "      <td>0.173069</td>\n",
              "      <td>0.105544</td>\n",
              "      <td>-0.224478</td>\n",
              "    </tr>\n",
              "    <tr>\n",
              "      <th>F22</th>\n",
              "      <td>0.147526</td>\n",
              "      <td>0.302851</td>\n",
              "      <td>0.015011</td>\n",
              "    </tr>\n",
              "    <tr>\n",
              "      <th>F23</th>\n",
              "      <td>0.089727</td>\n",
              "      <td>0.215370</td>\n",
              "      <td>0.063662</td>\n",
              "    </tr>\n",
              "  </tbody>\n",
              "</table>\n",
              "</div>"
            ],
            "text/plain": [
              "          PC1       PC2       PC3\n",
              "F1   0.389328 -0.036822  0.128034\n",
              "F2   0.363856 -0.126663 -0.087561\n",
              "F3   0.022671 -0.117366 -0.502723\n",
              "F4  -0.102092 -0.150712 -0.393804\n",
              "F5   0.059139  0.019067 -0.189678\n",
              "F6   0.067978  0.235001 -0.011605\n",
              "F7  -0.124851 -0.054257  0.118851\n",
              "F8   0.059970 -0.356327 -0.339113\n",
              "F9  -0.133892 -0.021028  0.080394\n",
              "F10  0.047208 -0.071775 -0.008362\n",
              "F11  0.396250  0.005824  0.051618\n",
              "F12  0.345107 -0.001164 -0.000066\n",
              "F13  0.392329 -0.066162  0.088377\n",
              "F14  0.369791 -0.144766  0.109345\n",
              "F15 -0.089234 -0.098787  0.242770\n",
              "F16  0.120689  0.465400 -0.255915\n",
              "F17 -0.056388  0.519654 -0.246834\n",
              "F18  0.005739 -0.102947 -0.027687\n",
              "F19  0.030119  0.269073  0.200484\n",
              "F20  0.066644 -0.031776 -0.304865\n",
              "F21  0.173069  0.105544 -0.224478\n",
              "F22  0.147526  0.302851  0.015011\n",
              "F23  0.089727  0.215370  0.063662"
            ]
          },
          "metadata": {
            "tags": []
          },
          "execution_count": 48
        }
      ]
    },
    {
      "cell_type": "code",
      "metadata": {
        "id": "vmmT_TmEgFJ3"
      },
      "source": [
        "#3D-scatter plot of eigenvalues and PCs \n",
        "import plotly.express as px"
      ],
      "execution_count": 34,
      "outputs": []
    },
    {
      "cell_type": "code",
      "metadata": {
        "colab": {
          "base_uri": "https://localhost:8080/",
          "height": 542
        },
        "id": "o-qMvmYJeNrs",
        "outputId": "322cd17d-9548-422e-a3ba-78d622e4e741"
      },
      "source": [
        "eigenvalue_label = df_eigenvalues.index\n",
        "\n",
        "fig = px.scatter_3d(df_eigenvalues, x='PC1', y='PC2', z='PC3',\n",
        "                    text = eigenvalue_label)\n",
        "fig.show()"
      ],
      "execution_count": 51,
      "outputs": [
        {
          "output_type": "display_data",
          "data": {
            "text/html": [
              "<html>\n",
              "<head><meta charset=\"utf-8\" /></head>\n",
              "<body>\n",
              "    <div>\n",
              "            <script src=\"https://cdnjs.cloudflare.com/ajax/libs/mathjax/2.7.5/MathJax.js?config=TeX-AMS-MML_SVG\"></script><script type=\"text/javascript\">if (window.MathJax) {MathJax.Hub.Config({SVG: {font: \"STIX-Web\"}});}</script>\n",
              "                <script type=\"text/javascript\">window.PlotlyConfig = {MathJaxConfig: 'local'};</script>\n",
              "        <script src=\"https://cdn.plot.ly/plotly-latest.min.js\"></script>    \n",
              "            <div id=\"abf497f6-9ded-4a1d-b133-03107b36c5d6\" class=\"plotly-graph-div\" style=\"height:525px; width:100%;\"></div>\n",
              "            <script type=\"text/javascript\">\n",
              "                \n",
              "                    window.PLOTLYENV=window.PLOTLYENV || {};\n",
              "                    \n",
              "                if (document.getElementById(\"abf497f6-9ded-4a1d-b133-03107b36c5d6\")) {\n",
              "                    Plotly.newPlot(\n",
              "                        'abf497f6-9ded-4a1d-b133-03107b36c5d6',\n",
              "                        [{\"hoverlabel\": {\"namelength\": 0}, \"hovertemplate\": \"PC1=%{x}<br>PC2=%{y}<br>PC3=%{z}<br>text=%{text}\", \"legendgroup\": \"\", \"marker\": {\"color\": \"#636efa\", \"symbol\": \"circle\"}, \"mode\": \"markers+text\", \"name\": \"\", \"scene\": \"scene\", \"showlegend\": false, \"text\": [\"F1\", \"F2\", \"F3\", \"F4\", \"F5\", \"F6\", \"F7\", \"F8\", \"F9\", \"F10\", \"F11\", \"F12\", \"F13\", \"F14\", \"F15\", \"F16\", \"F17\", \"F18\", \"F19\", \"F20\", \"F21\", \"F22\", \"F23\"], \"type\": \"scatter3d\", \"x\": [0.3893276589169793, 0.36385640436753725, 0.022670873549761716, -0.10209198697446399, 0.05913881612023553, 0.06797808156004627, -0.12485050379353184, 0.059970303787050754, -0.13389204002786073, 0.047208223440463166, 0.3962503552854267, 0.34510661839355733, 0.3923288107831961, 0.3697905060951481, -0.08923396092439621, 0.12068937743523231, -0.05638789303497313, 0.005739492954118534, 0.03011859307640273, 0.0666441459586346, 0.1730693791911175, 0.1475262392290139, 0.08972724165731082], \"y\": [-0.03682215760087143, -0.1266631990265621, -0.11736598968136609, -0.15071184280438266, 0.01906698439911971, 0.2350007785864382, -0.05425749938632859, -0.3563273912827203, -0.021027577446367417, -0.07177487160028456, 0.005824317287364465, -0.0011637908001360556, -0.06616206152515111, -0.14476576339762112, -0.0987871242935754, 0.4653998970847026, 0.5196535693960707, -0.10294720757808923, 0.26907268246517707, -0.03177550354775888, 0.10554435581211705, 0.30285073812333363, 0.2153699637514992], \"z\": [0.1280344028319965, -0.08756116851125206, -0.5027226317565389, -0.39380375057867845, -0.1896781490935422, -0.011604777705999214, 0.11885134552511689, -0.3391134893541673, 0.08039439127727517, -0.008362334676854119, 0.051618493851195275, -6.567988685565907e-05, 0.08837674319017176, 0.10934476438419316, 0.24277012585064137, -0.2559151332651325, -0.2468338209403333, -0.02768693581202232, 0.20048364371341945, -0.30486547930693436, -0.22447753998928383, 0.015011236313843651, 0.06366153155772811]}],\n",
              "                        {\"legend\": {\"tracegroupgap\": 0}, \"margin\": {\"t\": 60}, \"scene\": {\"domain\": {\"x\": [0.0, 1.0], \"y\": [0.0, 1.0]}, \"xaxis\": {\"title\": {\"text\": \"PC1\"}}, \"yaxis\": {\"title\": {\"text\": \"PC2\"}}, \"zaxis\": {\"title\": {\"text\": \"PC3\"}}}, \"template\": {\"data\": {\"bar\": [{\"error_x\": {\"color\": \"#2a3f5f\"}, \"error_y\": {\"color\": \"#2a3f5f\"}, \"marker\": {\"line\": {\"color\": \"#E5ECF6\", \"width\": 0.5}}, \"type\": \"bar\"}], \"barpolar\": [{\"marker\": {\"line\": {\"color\": \"#E5ECF6\", \"width\": 0.5}}, \"type\": \"barpolar\"}], \"carpet\": [{\"aaxis\": {\"endlinecolor\": \"#2a3f5f\", \"gridcolor\": \"white\", \"linecolor\": \"white\", \"minorgridcolor\": \"white\", \"startlinecolor\": \"#2a3f5f\"}, \"baxis\": {\"endlinecolor\": \"#2a3f5f\", \"gridcolor\": \"white\", \"linecolor\": \"white\", \"minorgridcolor\": \"white\", \"startlinecolor\": \"#2a3f5f\"}, \"type\": \"carpet\"}], \"choropleth\": [{\"colorbar\": {\"outlinewidth\": 0, \"ticks\": \"\"}, \"type\": \"choropleth\"}], \"contour\": [{\"colorbar\": {\"outlinewidth\": 0, \"ticks\": \"\"}, \"colorscale\": [[0.0, \"#0d0887\"], [0.1111111111111111, \"#46039f\"], [0.2222222222222222, \"#7201a8\"], [0.3333333333333333, \"#9c179e\"], [0.4444444444444444, \"#bd3786\"], [0.5555555555555556, \"#d8576b\"], [0.6666666666666666, \"#ed7953\"], [0.7777777777777778, \"#fb9f3a\"], [0.8888888888888888, \"#fdca26\"], [1.0, \"#f0f921\"]], \"type\": \"contour\"}], \"contourcarpet\": [{\"colorbar\": {\"outlinewidth\": 0, \"ticks\": \"\"}, \"type\": \"contourcarpet\"}], \"heatmap\": [{\"colorbar\": {\"outlinewidth\": 0, \"ticks\": \"\"}, \"colorscale\": [[0.0, \"#0d0887\"], [0.1111111111111111, \"#46039f\"], [0.2222222222222222, \"#7201a8\"], [0.3333333333333333, \"#9c179e\"], [0.4444444444444444, \"#bd3786\"], [0.5555555555555556, \"#d8576b\"], [0.6666666666666666, \"#ed7953\"], [0.7777777777777778, \"#fb9f3a\"], [0.8888888888888888, \"#fdca26\"], [1.0, \"#f0f921\"]], \"type\": \"heatmap\"}], \"heatmapgl\": [{\"colorbar\": {\"outlinewidth\": 0, \"ticks\": \"\"}, \"colorscale\": [[0.0, \"#0d0887\"], [0.1111111111111111, \"#46039f\"], [0.2222222222222222, \"#7201a8\"], [0.3333333333333333, \"#9c179e\"], [0.4444444444444444, \"#bd3786\"], [0.5555555555555556, \"#d8576b\"], [0.6666666666666666, \"#ed7953\"], [0.7777777777777778, \"#fb9f3a\"], [0.8888888888888888, \"#fdca26\"], [1.0, \"#f0f921\"]], \"type\": \"heatmapgl\"}], \"histogram\": [{\"marker\": {\"colorbar\": {\"outlinewidth\": 0, \"ticks\": \"\"}}, \"type\": \"histogram\"}], \"histogram2d\": [{\"colorbar\": {\"outlinewidth\": 0, \"ticks\": \"\"}, \"colorscale\": [[0.0, \"#0d0887\"], [0.1111111111111111, \"#46039f\"], [0.2222222222222222, \"#7201a8\"], [0.3333333333333333, \"#9c179e\"], [0.4444444444444444, \"#bd3786\"], [0.5555555555555556, \"#d8576b\"], [0.6666666666666666, \"#ed7953\"], [0.7777777777777778, \"#fb9f3a\"], [0.8888888888888888, \"#fdca26\"], [1.0, \"#f0f921\"]], \"type\": \"histogram2d\"}], \"histogram2dcontour\": [{\"colorbar\": {\"outlinewidth\": 0, \"ticks\": \"\"}, \"colorscale\": [[0.0, \"#0d0887\"], [0.1111111111111111, \"#46039f\"], [0.2222222222222222, \"#7201a8\"], [0.3333333333333333, \"#9c179e\"], [0.4444444444444444, \"#bd3786\"], [0.5555555555555556, \"#d8576b\"], [0.6666666666666666, \"#ed7953\"], [0.7777777777777778, \"#fb9f3a\"], [0.8888888888888888, \"#fdca26\"], [1.0, \"#f0f921\"]], \"type\": \"histogram2dcontour\"}], \"mesh3d\": [{\"colorbar\": {\"outlinewidth\": 0, \"ticks\": \"\"}, \"type\": \"mesh3d\"}], \"parcoords\": [{\"line\": {\"colorbar\": {\"outlinewidth\": 0, \"ticks\": \"\"}}, \"type\": \"parcoords\"}], \"pie\": [{\"automargin\": true, \"type\": \"pie\"}], \"scatter\": [{\"marker\": {\"colorbar\": {\"outlinewidth\": 0, \"ticks\": \"\"}}, \"type\": \"scatter\"}], \"scatter3d\": [{\"line\": {\"colorbar\": {\"outlinewidth\": 0, \"ticks\": \"\"}}, \"marker\": {\"colorbar\": {\"outlinewidth\": 0, \"ticks\": \"\"}}, \"type\": \"scatter3d\"}], \"scattercarpet\": [{\"marker\": {\"colorbar\": {\"outlinewidth\": 0, \"ticks\": \"\"}}, \"type\": \"scattercarpet\"}], \"scattergeo\": [{\"marker\": {\"colorbar\": {\"outlinewidth\": 0, \"ticks\": \"\"}}, \"type\": \"scattergeo\"}], \"scattergl\": [{\"marker\": {\"colorbar\": {\"outlinewidth\": 0, \"ticks\": \"\"}}, \"type\": \"scattergl\"}], \"scattermapbox\": [{\"marker\": {\"colorbar\": {\"outlinewidth\": 0, \"ticks\": \"\"}}, \"type\": \"scattermapbox\"}], \"scatterpolar\": [{\"marker\": {\"colorbar\": {\"outlinewidth\": 0, \"ticks\": \"\"}}, \"type\": \"scatterpolar\"}], \"scatterpolargl\": [{\"marker\": {\"colorbar\": {\"outlinewidth\": 0, \"ticks\": \"\"}}, \"type\": \"scatterpolargl\"}], \"scatterternary\": [{\"marker\": {\"colorbar\": {\"outlinewidth\": 0, \"ticks\": \"\"}}, \"type\": \"scatterternary\"}], \"surface\": [{\"colorbar\": {\"outlinewidth\": 0, \"ticks\": \"\"}, \"colorscale\": [[0.0, \"#0d0887\"], [0.1111111111111111, \"#46039f\"], [0.2222222222222222, \"#7201a8\"], [0.3333333333333333, \"#9c179e\"], [0.4444444444444444, \"#bd3786\"], [0.5555555555555556, \"#d8576b\"], [0.6666666666666666, \"#ed7953\"], [0.7777777777777778, \"#fb9f3a\"], [0.8888888888888888, \"#fdca26\"], [1.0, \"#f0f921\"]], \"type\": \"surface\"}], \"table\": [{\"cells\": {\"fill\": {\"color\": \"#EBF0F8\"}, \"line\": {\"color\": \"white\"}}, \"header\": {\"fill\": {\"color\": \"#C8D4E3\"}, \"line\": {\"color\": \"white\"}}, \"type\": \"table\"}]}, \"layout\": {\"annotationdefaults\": {\"arrowcolor\": \"#2a3f5f\", \"arrowhead\": 0, \"arrowwidth\": 1}, \"coloraxis\": {\"colorbar\": {\"outlinewidth\": 0, \"ticks\": \"\"}}, \"colorscale\": {\"diverging\": [[0, \"#8e0152\"], [0.1, \"#c51b7d\"], [0.2, \"#de77ae\"], [0.3, \"#f1b6da\"], [0.4, \"#fde0ef\"], [0.5, \"#f7f7f7\"], [0.6, \"#e6f5d0\"], [0.7, \"#b8e186\"], [0.8, \"#7fbc41\"], [0.9, \"#4d9221\"], [1, \"#276419\"]], \"sequential\": [[0.0, \"#0d0887\"], [0.1111111111111111, \"#46039f\"], [0.2222222222222222, \"#7201a8\"], [0.3333333333333333, \"#9c179e\"], [0.4444444444444444, \"#bd3786\"], [0.5555555555555556, \"#d8576b\"], [0.6666666666666666, \"#ed7953\"], [0.7777777777777778, \"#fb9f3a\"], [0.8888888888888888, \"#fdca26\"], [1.0, \"#f0f921\"]], \"sequentialminus\": [[0.0, \"#0d0887\"], [0.1111111111111111, \"#46039f\"], [0.2222222222222222, \"#7201a8\"], [0.3333333333333333, \"#9c179e\"], [0.4444444444444444, \"#bd3786\"], [0.5555555555555556, \"#d8576b\"], [0.6666666666666666, \"#ed7953\"], [0.7777777777777778, \"#fb9f3a\"], [0.8888888888888888, \"#fdca26\"], [1.0, \"#f0f921\"]]}, \"colorway\": [\"#636efa\", \"#EF553B\", \"#00cc96\", \"#ab63fa\", \"#FFA15A\", \"#19d3f3\", \"#FF6692\", \"#B6E880\", \"#FF97FF\", \"#FECB52\"], \"font\": {\"color\": \"#2a3f5f\"}, \"geo\": {\"bgcolor\": \"white\", \"lakecolor\": \"white\", \"landcolor\": \"#E5ECF6\", \"showlakes\": true, \"showland\": true, \"subunitcolor\": \"white\"}, \"hoverlabel\": {\"align\": \"left\"}, \"hovermode\": \"closest\", \"mapbox\": {\"style\": \"light\"}, \"paper_bgcolor\": \"white\", \"plot_bgcolor\": \"#E5ECF6\", \"polar\": {\"angularaxis\": {\"gridcolor\": \"white\", \"linecolor\": \"white\", \"ticks\": \"\"}, \"bgcolor\": \"#E5ECF6\", \"radialaxis\": {\"gridcolor\": \"white\", \"linecolor\": \"white\", \"ticks\": \"\"}}, \"scene\": {\"xaxis\": {\"backgroundcolor\": \"#E5ECF6\", \"gridcolor\": \"white\", \"gridwidth\": 2, \"linecolor\": \"white\", \"showbackground\": true, \"ticks\": \"\", \"zerolinecolor\": \"white\"}, \"yaxis\": {\"backgroundcolor\": \"#E5ECF6\", \"gridcolor\": \"white\", \"gridwidth\": 2, \"linecolor\": \"white\", \"showbackground\": true, \"ticks\": \"\", \"zerolinecolor\": \"white\"}, \"zaxis\": {\"backgroundcolor\": \"#E5ECF6\", \"gridcolor\": \"white\", \"gridwidth\": 2, \"linecolor\": \"white\", \"showbackground\": true, \"ticks\": \"\", \"zerolinecolor\": \"white\"}}, \"shapedefaults\": {\"line\": {\"color\": \"#2a3f5f\"}}, \"ternary\": {\"aaxis\": {\"gridcolor\": \"white\", \"linecolor\": \"white\", \"ticks\": \"\"}, \"baxis\": {\"gridcolor\": \"white\", \"linecolor\": \"white\", \"ticks\": \"\"}, \"bgcolor\": \"#E5ECF6\", \"caxis\": {\"gridcolor\": \"white\", \"linecolor\": \"white\", \"ticks\": \"\"}}, \"title\": {\"x\": 0.05}, \"xaxis\": {\"automargin\": true, \"gridcolor\": \"white\", \"linecolor\": \"white\", \"ticks\": \"\", \"title\": {\"standoff\": 15}, \"zerolinecolor\": \"white\", \"zerolinewidth\": 2}, \"yaxis\": {\"automargin\": true, \"gridcolor\": \"white\", \"linecolor\": \"white\", \"ticks\": \"\", \"title\": {\"standoff\": 15}, \"zerolinecolor\": \"white\", \"zerolinewidth\": 2}}}},\n",
              "                        {\"responsive\": true}\n",
              "                    ).then(function(){\n",
              "                            \n",
              "var gd = document.getElementById('abf497f6-9ded-4a1d-b133-03107b36c5d6');\n",
              "var x = new MutationObserver(function (mutations, observer) {{\n",
              "        var display = window.getComputedStyle(gd).display;\n",
              "        if (!display || display === 'none') {{\n",
              "            console.log([gd, 'removed!']);\n",
              "            Plotly.purge(gd);\n",
              "            observer.disconnect();\n",
              "        }}\n",
              "}});\n",
              "\n",
              "// Listen for the removal of the full notebook cells\n",
              "var notebookContainer = gd.closest('#notebook-container');\n",
              "if (notebookContainer) {{\n",
              "    x.observe(notebookContainer, {childList: true});\n",
              "}}\n",
              "\n",
              "// Listen for the clearing of the current output cell\n",
              "var outputEl = gd.closest('.output');\n",
              "if (outputEl) {{\n",
              "    x.observe(outputEl, {childList: true});\n",
              "}}\n",
              "\n",
              "                        })\n",
              "                };\n",
              "                \n",
              "            </script>\n",
              "        </div>\n",
              "</body>\n",
              "</html>"
            ]
          },
          "metadata": {
            "tags": []
          }
        }
      ]
    },
    {
      "cell_type": "markdown",
      "metadata": {
        "id": "e2UfQkZOZLLZ"
      },
      "source": [
        "Explained variance by each PC\n",
        "\n"
      ]
    },
    {
      "cell_type": "code",
      "metadata": {
        "id": "ZktPeGjbjIFt"
      },
      "source": [
        "#Variance explained by each PC\n",
        "pca_2 = PCA() #also this works: PCA(n_components=23)\n",
        "pca_2.fit(scaled_data)\n",
        "scores_2 = pca_2.transform(scaled_data)"
      ],
      "execution_count": 57,
      "outputs": []
    },
    {
      "cell_type": "code",
      "metadata": {
        "colab": {
          "base_uri": "https://localhost:8080/"
        },
        "id": "Lvs0KlsekdGl",
        "outputId": "ea318a0c-9c9d-4045-f148-1f379fbe3ad2"
      },
      "source": [
        "explained_variance=pca_2.explained_variance_ratio_\n",
        "explained_variance"
      ],
      "execution_count": 58,
      "outputs": [
        {
          "output_type": "execute_result",
          "data": {
            "text/plain": [
              "array([2.51685178e-01, 1.08331284e-01, 9.55127235e-02, 7.95889406e-02,\n",
              "       6.86045754e-02, 5.30243914e-02, 4.65171318e-02, 4.51616425e-02,\n",
              "       4.18660751e-02, 3.85774458e-02, 3.50367792e-02, 3.11251519e-02,\n",
              "       2.30429677e-02, 2.06506229e-02, 1.73574429e-02, 1.51870924e-02,\n",
              "       1.27928042e-02, 7.57664370e-03, 3.77995877e-03, 3.07276583e-03,\n",
              "       1.09589978e-03, 4.12482150e-04, 3.62205840e-33])"
            ]
          },
          "metadata": {
            "tags": []
          },
          "execution_count": 58
        }
      ]
    },
    {
      "cell_type": "code",
      "metadata": {
        "colab": {
          "base_uri": "https://localhost:8080/",
          "height": 297
        },
        "id": "pa0vCp5Ajllc",
        "outputId": "65931f70-db13-4320-953b-d4af3df599a5"
      },
      "source": [
        "with plt.style.context('dark_background'):\n",
        "    plt.figure(figsize=(6, 4))\n",
        "    plt.bar(range(23), explained_variance, alpha=0.5, align='center',\n",
        "            label='individual explained variance')\n",
        "    plt.ylabel('Explained variance ratio')\n",
        "    plt.xlabel('Principal components')\n",
        "    plt.legend(loc='best')\n",
        "    plt.tight_layout()"
      ],
      "execution_count": 59,
      "outputs": [
        {
          "output_type": "display_data",
          "data": {
            "image/png": "[encoded data removed]",
            "text/plain": [
              "<Figure size 432x288 with 1 Axes>"
            ]
          },
          "metadata": {
            "tags": []
          }
        }
      ]
    },
    {
      "cell_type": "code",
      "metadata": {
        "colab": {
          "base_uri": "https://localhost:8080/"
        },
        "id": "lo9DOAS2RHun",
        "outputId": "98b45751-f5a5-4ceb-eadb-3eea70c29b04"
      },
      "source": [
        "#Cumulative variance % retained\n",
        "variance_retained_ratio=pca_2.explained_variance_ratio_.cumsum()\n",
        "variance_retained_ratio"
      ],
      "execution_count": 60,
      "outputs": [
        {
          "output_type": "execute_result",
          "data": {
            "text/plain": [
              "array([0.25168518, 0.36001646, 0.45552919, 0.53511813, 0.6037227 ,\n",
              "       0.65674709, 0.70326423, 0.74842587, 0.79029194, 0.82886939,\n",
              "       0.86390617, 0.89503132, 0.91807429, 0.93872491, 0.95608235,\n",
              "       0.97126945, 0.98406225, 0.99163889, 0.99541885, 0.99849162,\n",
              "       0.99958752, 1.        , 1.        ])"
            ]
          },
          "metadata": {
            "tags": []
          },
          "execution_count": 60
        }
      ]
    },
    {
      "cell_type": "code",
      "metadata": {
        "colab": {
          "base_uri": "https://localhost:8080/"
        },
        "id": "zzaKICxPS17F",
        "outputId": "874641aa-acfa-470a-cc32-8b40c2b30259"
      },
      "source": [
        "print(f'Variance retained by PC=1 {variance_retained_ratio[0]}')\n",
        "print(f'Variance retained by PCs=2 {variance_retained_ratio[1]}')\n",
        "print(f'Variance retained by PCs=3 {variance_retained_ratio[2]}')\n",
        "print(f'Variance retained by PCs=4 {variance_retained_ratio[3]}')"
      ],
      "execution_count": 61,
      "outputs": [
        {
          "output_type": "stream",
          "text": [
            "Variance retained by PC=1 0.25168517829164316\n",
            "Variance retained by PCs=2 0.36001646241363877\n",
            "Variance retained by PCs=3 0.4555291858888576\n",
            "Variance retained by PCs=4 0.5351181264901474\n"
          ],
          "name": "stdout"
        }
      ]
    },
    {
      "cell_type": "code",
      "metadata": {
        "id": "cFZxqg6RkWf7"
      },
      "source": [
        "#PCA where n=??\n",
        "pca_3 = PCA(n_components=2)\n",
        "X = pca_3.fit_transform(scaled_data)"
      ],
      "execution_count": 62,
      "outputs": []
    },
    {
      "cell_type": "code",
      "metadata": {
        "id": "ZptSbbr9ufwl",
        "colab": {
          "base_uri": "https://localhost:8080/",
          "height": 419
        },
        "outputId": "2a37a1ad-3bea-45c9-d2f3-928ce4415480"
      },
      "source": [
        "#Tabular representation of magnitude of each PC in explaining variance in each company\n",
        "principal_contribution = pd.DataFrame(data = X\n",
        "             , columns = ['principal component 1', 'principal component 2'])\n",
        "principal_contribution"
      ],
      "execution_count": 64,
      "outputs": [
        {
          "output_type": "execute_result",
          "data": {
            "text/html": [
              "<div>\n",
              "<style scoped>\n",
              "    .dataframe tbody tr th:only-of-type {\n",
              "        vertical-align: middle;\n",
              "    }\n",
              "\n",
              "    .dataframe tbody tr th {\n",
              "        vertical-align: top;\n",
              "    }\n",
              "\n",
              "    .dataframe thead th {\n",
              "        text-align: right;\n",
              "    }\n",
              "</style>\n",
              "<table border=\"1\" class=\"dataframe\">\n",
              "  <thead>\n",
              "    <tr style=\"text-align: right;\">\n",
              "      <th></th>\n",
              "      <th>principal component 1</th>\n",
              "      <th>principal component 2</th>\n",
              "    </tr>\n",
              "  </thead>\n",
              "  <tbody>\n",
              "    <tr>\n",
              "      <th>0</th>\n",
              "      <td>-1.767045</td>\n",
              "      <td>1.580392</td>\n",
              "    </tr>\n",
              "    <tr>\n",
              "      <th>1</th>\n",
              "      <td>2.280301</td>\n",
              "      <td>-0.873234</td>\n",
              "    </tr>\n",
              "    <tr>\n",
              "      <th>2</th>\n",
              "      <td>0.361122</td>\n",
              "      <td>2.598158</td>\n",
              "    </tr>\n",
              "    <tr>\n",
              "      <th>3</th>\n",
              "      <td>0.849749</td>\n",
              "      <td>-0.553456</td>\n",
              "    </tr>\n",
              "    <tr>\n",
              "      <th>4</th>\n",
              "      <td>9.157979</td>\n",
              "      <td>-1.520074</td>\n",
              "    </tr>\n",
              "    <tr>\n",
              "      <th>...</th>\n",
              "      <td>...</td>\n",
              "      <td>...</td>\n",
              "    </tr>\n",
              "    <tr>\n",
              "      <th>80</th>\n",
              "      <td>-2.219014</td>\n",
              "      <td>-1.211519</td>\n",
              "    </tr>\n",
              "    <tr>\n",
              "      <th>81</th>\n",
              "      <td>-3.159389</td>\n",
              "      <td>-0.234802</td>\n",
              "    </tr>\n",
              "    <tr>\n",
              "      <th>82</th>\n",
              "      <td>-2.781129</td>\n",
              "      <td>-0.075157</td>\n",
              "    </tr>\n",
              "    <tr>\n",
              "      <th>83</th>\n",
              "      <td>-5.778915</td>\n",
              "      <td>-1.530808</td>\n",
              "    </tr>\n",
              "    <tr>\n",
              "      <th>84</th>\n",
              "      <td>-6.445255</td>\n",
              "      <td>-1.208766</td>\n",
              "    </tr>\n",
              "  </tbody>\n",
              "</table>\n",
              "<p>85 rows × 2 columns</p>\n",
              "</div>"
            ],
            "text/plain": [
              "    principal component 1  principal component 2\n",
              "0               -1.767045               1.580392\n",
              "1                2.280301              -0.873234\n",
              "2                0.361122               2.598158\n",
              "3                0.849749              -0.553456\n",
              "4                9.157979              -1.520074\n",
              "..                    ...                    ...\n",
              "80              -2.219014              -1.211519\n",
              "81              -3.159389              -0.234802\n",
              "82              -2.781129              -0.075157\n",
              "83              -5.778915              -1.530808\n",
              "84              -6.445255              -1.208766\n",
              "\n",
              "[85 rows x 2 columns]"
            ]
          },
          "metadata": {
            "tags": []
          },
          "execution_count": 64
        }
      ]
    },
    {
      "cell_type": "code",
      "metadata": {
        "colab": {
          "base_uri": "https://localhost:8080/",
          "height": 419
        },
        "id": "aitSlHh4lipc",
        "outputId": "6ba546d9-6fc5-4f19-ed02-55428f4ae0ff"
      },
      "source": [
        "new_df = pd.concat([principal_contribution, y_2['Y_variable']], axis = 1)\n",
        "#new_df = pd.concat([principal_contribution, Call], axis=1)\n",
        "new_df"
      ],
      "execution_count": 103,
      "outputs": [
        {
          "output_type": "execute_result",
          "data": {
            "text/html": [
              "<div>\n",
              "<style scoped>\n",
              "    .dataframe tbody tr th:only-of-type {\n",
              "        vertical-align: middle;\n",
              "    }\n",
              "\n",
              "    .dataframe tbody tr th {\n",
              "        vertical-align: top;\n",
              "    }\n",
              "\n",
              "    .dataframe thead th {\n",
              "        text-align: right;\n",
              "    }\n",
              "</style>\n",
              "<table border=\"1\" class=\"dataframe\">\n",
              "  <thead>\n",
              "    <tr style=\"text-align: right;\">\n",
              "      <th></th>\n",
              "      <th>principal component 1</th>\n",
              "      <th>principal component 2</th>\n",
              "      <th>Y_variable</th>\n",
              "    </tr>\n",
              "  </thead>\n",
              "  <tbody>\n",
              "    <tr>\n",
              "      <th>0</th>\n",
              "      <td>-1.767045</td>\n",
              "      <td>1.580392</td>\n",
              "      <td>1</td>\n",
              "    </tr>\n",
              "    <tr>\n",
              "      <th>1</th>\n",
              "      <td>2.280301</td>\n",
              "      <td>-0.873234</td>\n",
              "      <td>1</td>\n",
              "    </tr>\n",
              "    <tr>\n",
              "      <th>2</th>\n",
              "      <td>0.361122</td>\n",
              "      <td>2.598158</td>\n",
              "      <td>1</td>\n",
              "    </tr>\n",
              "    <tr>\n",
              "      <th>3</th>\n",
              "      <td>0.849749</td>\n",
              "      <td>-0.553456</td>\n",
              "      <td>1</td>\n",
              "    </tr>\n",
              "    <tr>\n",
              "      <th>4</th>\n",
              "      <td>9.157979</td>\n",
              "      <td>-1.520074</td>\n",
              "      <td>1</td>\n",
              "    </tr>\n",
              "    <tr>\n",
              "      <th>...</th>\n",
              "      <td>...</td>\n",
              "      <td>...</td>\n",
              "      <td>...</td>\n",
              "    </tr>\n",
              "    <tr>\n",
              "      <th>80</th>\n",
              "      <td>-2.219014</td>\n",
              "      <td>-1.211519</td>\n",
              "      <td>0</td>\n",
              "    </tr>\n",
              "    <tr>\n",
              "      <th>81</th>\n",
              "      <td>-3.159389</td>\n",
              "      <td>-0.234802</td>\n",
              "      <td>0</td>\n",
              "    </tr>\n",
              "    <tr>\n",
              "      <th>82</th>\n",
              "      <td>-2.781129</td>\n",
              "      <td>-0.075157</td>\n",
              "      <td>0</td>\n",
              "    </tr>\n",
              "    <tr>\n",
              "      <th>83</th>\n",
              "      <td>-5.778915</td>\n",
              "      <td>-1.530808</td>\n",
              "      <td>0</td>\n",
              "    </tr>\n",
              "    <tr>\n",
              "      <th>84</th>\n",
              "      <td>-6.445255</td>\n",
              "      <td>-1.208766</td>\n",
              "      <td>0</td>\n",
              "    </tr>\n",
              "  </tbody>\n",
              "</table>\n",
              "<p>85 rows × 3 columns</p>\n",
              "</div>"
            ],
            "text/plain": [
              "    principal component 1  principal component 2  Y_variable\n",
              "0               -1.767045               1.580392           1\n",
              "1                2.280301              -0.873234           1\n",
              "2                0.361122               2.598158           1\n",
              "3                0.849749              -0.553456           1\n",
              "4                9.157979              -1.520074           1\n",
              "..                    ...                    ...         ...\n",
              "80              -2.219014              -1.211519           0\n",
              "81              -3.159389              -0.234802           0\n",
              "82              -2.781129              -0.075157           0\n",
              "83              -5.778915              -1.530808           0\n",
              "84              -6.445255              -1.208766           0\n",
              "\n",
              "[85 rows x 3 columns]"
            ]
          },
          "metadata": {
            "tags": []
          },
          "execution_count": 103
        }
      ]
    },
    {
      "cell_type": "code",
      "metadata": {
        "colab": {
          "base_uri": "https://localhost:8080/",
          "height": 523
        },
        "id": "8pG4YMYsgYx_",
        "outputId": "6c12da8f-e2b6-433f-cbbd-28e5d1382534"
      },
      "source": [
        "#Classification of the two main groups of companies\n",
        "fig = plt.figure(figsize = (8,8))\n",
        "ax = fig.add_subplot(1,1,1) \n",
        "ax.set_xlabel('Principal Component 1', fontsize = 15)\n",
        "ax.set_ylabel('Principal Component 2', fontsize = 15)\n",
        "ax.set_title('2 component PCA', fontsize = 20)\n",
        "\n",
        "targets = [1, 0]\n",
        "colors = ['b','r']\n",
        "for target, color in zip(targets,colors):\n",
        "    indicesToKeep = new_df['Y_variable'] == target\n",
        "    ax.scatter(new_df.loc[indicesToKeep, 'principal component 1']\n",
        "               , new_df.loc[indicesToKeep, 'principal component 2']\n",
        "               , c = color\n",
        "               , s = 50)\n",
        "ax.legend(targets)\n",
        "ax.grid()\n",
        "#plt.xlim([-10, 10])\n",
        "#ax.set_ylim([-10, 10])"
      ],
      "execution_count": 104,
      "outputs": [
        {
          "output_type": "display_data",
          "data": {
            "image/png": "[encoded data removed]",
            "text/plain": [
              "<Figure size 576x576 with 1 Axes>"
            ]
          },
          "metadata": {
            "tags": [],
            "needs_background": "light"
          }
        }
      ]
    },
    {
      "cell_type": "code",
      "metadata": {
        "id": "hrBon2Ttkgbp"
      },
      "source": [
        "#Machine learning using various tools\n",
        "np.random.seed(20)\n",
        "#Splitting data into train and test data sets\n",
        "from sklearn.model_selection import train_test_split\n",
        "X_train, X_test, y_train, y_test = train_test_split(new_df.iloc[:,:2], new_df.iloc[:,2], test_size = 0.2, random_state=20, stratify=y)\n",
        "#X or x = new_df.iloc[:,:??] #features\n",
        "#y or y = new_df.iloc[:,??] #target"
      ],
      "execution_count": 105,
      "outputs": []
    },
    {
      "cell_type": "code",
      "metadata": {
        "id": "DyDyYohfksov"
      },
      "source": [
        "#forecasting using a KNeighbors classifier\n",
        "from sklearn.neighbors import KNeighborsClassifier\n",
        "model = KNeighborsClassifier(7)"
      ],
      "execution_count": 106,
      "outputs": []
    },
    {
      "cell_type": "code",
      "metadata": {
        "colab": {
          "base_uri": "https://localhost:8080/"
        },
        "id": "Pj7T3jjUkyoE",
        "outputId": "778a964d-c165-4ec6-c81e-969fc357d3b3"
      },
      "source": [
        "model.fit(X_train,y_train)"
      ],
      "execution_count": 107,
      "outputs": [
        {
          "output_type": "execute_result",
          "data": {
            "text/plain": [
              "KNeighborsClassifier(algorithm='auto', leaf_size=30, metric='minkowski',\n",
              "                     metric_params=None, n_jobs=None, n_neighbors=7, p=2,\n",
              "                     weights='uniform')"
            ]
          },
          "metadata": {
            "tags": []
          },
          "execution_count": 107
        }
      ]
    },
    {
      "cell_type": "code",
      "metadata": {
        "id": "LezbcBOIk66a",
        "colab": {
          "base_uri": "https://localhost:8080/"
        },
        "outputId": "842c691b-1496-4957-ddb3-3301f807a89d"
      },
      "source": [
        "y_pred = model.predict(X_test)\n",
        "print(y_pred)\n",
        "#knc Actual values\n",
        "y_test"
      ],
      "execution_count": 108,
      "outputs": [
        {
          "output_type": "stream",
          "text": [
            "[1 1 1 1 1 1 1 1 1 0 0 0 0 1 0 0 0]\n"
          ],
          "name": "stdout"
        },
        {
          "output_type": "execute_result",
          "data": {
            "text/plain": [
              "30    1\n",
              "32    1\n",
              "68    0\n",
              "6     1\n",
              "11    1\n",
              "19    1\n",
              "56    1\n",
              "13    1\n",
              "43    1\n",
              "10    1\n",
              "46    1\n",
              "83    0\n",
              "60    0\n",
              "55    1\n",
              "72    0\n",
              "66    0\n",
              "77    0\n",
              "Name: Y_variable, dtype: int64"
            ]
          },
          "metadata": {
            "tags": []
          },
          "execution_count": 108
        }
      ]
    },
    {
      "cell_type": "code",
      "metadata": {
        "colab": {
          "base_uri": "https://localhost:8080/"
        },
        "id": "wT5kENRhi3cd",
        "outputId": "fb748005-5959-4779-c71b-61537c1a6798"
      },
      "source": [
        "#knc trading signal\n",
        "for i in y_pred:\n",
        "  if (i==0):\n",
        "    print(\"sell\")\n",
        "  elif (i==1):\n",
        "    print(\"buy\")"
      ],
      "execution_count": 109,
      "outputs": [
        {
          "output_type": "stream",
          "text": [
            "buy\n",
            "buy\n",
            "buy\n",
            "buy\n",
            "buy\n",
            "buy\n",
            "buy\n",
            "buy\n",
            "buy\n",
            "sell\n",
            "sell\n",
            "sell\n",
            "sell\n",
            "buy\n",
            "sell\n",
            "sell\n",
            "sell\n"
          ],
          "name": "stdout"
        }
      ]
    },
    {
      "cell_type": "code",
      "metadata": {
        "colab": {
          "base_uri": "https://localhost:8080/"
        },
        "id": "zP6FbN5IlCn0",
        "outputId": "c5d628cc-3faf-412d-b8cd-0600294bec91"
      },
      "source": [
        "from sklearn.metrics import confusion_matrix\n",
        "from sklearn.metrics import accuracy_score\n",
        "\n",
        "cm = confusion_matrix(y_test, y_pred)\n",
        "print(cm)\n",
        "print(accuracy_score(y_test, y_pred))"
      ],
      "execution_count": 110,
      "outputs": [
        {
          "output_type": "stream",
          "text": [
            "[[5 1]\n",
            " [2 9]]\n",
            "0.8235294117647058\n"
          ],
          "name": "stdout"
        }
      ]
    },
    {
      "cell_type": "code",
      "metadata": {
        "id": "nyD0rQBAK-wH"
      },
      "source": [
        "#Forecasting using decision tree classifier\n",
        "from sklearn.tree import DecisionTreeClassifier"
      ],
      "execution_count": 111,
      "outputs": []
    },
    {
      "cell_type": "code",
      "metadata": {
        "id": "x-VSQYrGLCYC"
      },
      "source": [
        "clf = DecisionTreeClassifier(criterion='gini', max_depth=3, min_samples_leaf=6)\n",
        "tree = clf.fit(X_train, y_train)"
      ],
      "execution_count": 112,
      "outputs": []
    },
    {
      "cell_type": "code",
      "metadata": {
        "colab": {
          "base_uri": "https://localhost:8080/"
        },
        "id": "5gETHGBZLqzW",
        "outputId": "9d8cbfd7-e38a-43f8-c2fc-585c06200a8c"
      },
      "source": [
        "#dtc Model predictions\n",
        "tree_predictions = tree.predict(X_test)\n",
        "print(tree_predictions)\n",
        "#dtc Actual values\n",
        "y_test"
      ],
      "execution_count": 113,
      "outputs": [
        {
          "output_type": "stream",
          "text": [
            "[1 1 1 1 1 0 1 1 1 0 0 0 0 1 0 0 0]\n"
          ],
          "name": "stdout"
        },
        {
          "output_type": "execute_result",
          "data": {
            "text/plain": [
              "30    1\n",
              "32    1\n",
              "68    0\n",
              "6     1\n",
              "11    1\n",
              "19    1\n",
              "56    1\n",
              "13    1\n",
              "43    1\n",
              "10    1\n",
              "46    1\n",
              "83    0\n",
              "60    0\n",
              "55    1\n",
              "72    0\n",
              "66    0\n",
              "77    0\n",
              "Name: Y_variable, dtype: int64"
            ]
          },
          "metadata": {
            "tags": []
          },
          "execution_count": 113
        }
      ]
    },
    {
      "cell_type": "code",
      "metadata": {
        "colab": {
          "base_uri": "https://localhost:8080/"
        },
        "id": "VEJ1TxQkMIE-",
        "outputId": "55877c68-ec75-491a-fa49-4f3cd00fa1fe"
      },
      "source": [
        "#How well did the model do on test dataset\n",
        "print(tree.score(X_test,y_test))"
      ],
      "execution_count": 115,
      "outputs": [
        {
          "output_type": "stream",
          "text": [
            "0.7647058823529411\n"
          ],
          "name": "stdout"
        }
      ]
    },
    {
      "cell_type": "code",
      "metadata": {
        "colab": {
          "base_uri": "https://localhost:8080/"
        },
        "id": "VI4faHQWOdpT",
        "outputId": "818c33d5-3239-45e1-9187-5962ec09c625"
      },
      "source": [
        "#dtc trading signal\n",
        "for i in tree_predictions:\n",
        "  if (i==0):\n",
        "    print(\"sell\")\n",
        "  elif (i==1):\n",
        "    print(\"buy\")"
      ],
      "execution_count": 116,
      "outputs": [
        {
          "output_type": "stream",
          "text": [
            "buy\n",
            "buy\n",
            "buy\n",
            "buy\n",
            "buy\n",
            "sell\n",
            "buy\n",
            "buy\n",
            "buy\n",
            "sell\n",
            "sell\n",
            "sell\n",
            "sell\n",
            "buy\n",
            "sell\n",
            "sell\n",
            "sell\n"
          ],
          "name": "stdout"
        }
      ]
    },
    {
      "cell_type": "markdown",
      "metadata": {
        "id": "Q34BNeqk4rZj"
      },
      "source": [
        "Model performance metrics"
      ]
    },
    {
      "cell_type": "code",
      "metadata": {
        "id": "06ZCu9nx5bd0"
      },
      "source": [
        "#Libraries\n",
        "from sklearn.metrics import roc_curve\n",
        "from sklearn.metrics import roc_auc_score\n",
        "from sklearn.metrics import accuracy_score, classification_report, confusion_matrix, precision_recall_curve"
      ],
      "execution_count": 117,
      "outputs": []
    },
    {
      "cell_type": "code",
      "metadata": {
        "id": "-9e_3xFU4zzu"
      },
      "source": [
        "#ROC curves\n",
        "# predict probabilities\n",
        "lr_probs = tree.predict_proba(X_test)\n",
        "# keep probabilities for the positive outcome only\n",
        "lr_probs = lr_probs[:, 1]\n",
        "# generate a no skill prediction (majority class)\n",
        "ns_probs = [0 for _ in range(len(y_test))]"
      ],
      "execution_count": 118,
      "outputs": []
    },
    {
      "cell_type": "code",
      "metadata": {
        "colab": {
          "base_uri": "https://localhost:8080/"
        },
        "id": "-z-0wUwV4_iI",
        "outputId": "ad507bbf-f150-448c-be44-8b3e78cd737c"
      },
      "source": [
        "# calculate ROC AUC scores\n",
        "ns_auc = roc_auc_score(y_test, ns_probs)\n",
        "lr_auc = roc_auc_score(y_test, lr_probs)\n",
        "# summarize scores\n",
        "print('No Skill: ROC AUC=%.3f' % (ns_auc))\n",
        "print('Decision tree: ROC AUC=%.3f' % (lr_auc))"
      ],
      "execution_count": 119,
      "outputs": [
        {
          "output_type": "stream",
          "text": [
            "No Skill: ROC AUC=0.500\n",
            "Decision tree: ROC AUC=0.864\n"
          ],
          "name": "stdout"
        }
      ]
    },
    {
      "cell_type": "code",
      "metadata": {
        "id": "YoesBExS6PIC"
      },
      "source": [
        "# calculate roc curves\n",
        "ns_fpr, ns_tpr, _ = roc_curve(y_test, ns_probs)\n",
        "lr_fpr, lr_tpr, _ = roc_curve(y_test, lr_probs)"
      ],
      "execution_count": 120,
      "outputs": []
    },
    {
      "cell_type": "code",
      "metadata": {
        "colab": {
          "base_uri": "https://localhost:8080/",
          "height": 279
        },
        "id": "qCTJn4Fw8Vz0",
        "outputId": "c461d677-89e4-4ff7-e7b5-5ffb12589ec1"
      },
      "source": [
        "# plot the roc curve for the model\n",
        "plt.plot(ns_fpr, ns_tpr, linestyle='--', label='No Skill')\n",
        "plt.plot(lr_fpr, lr_tpr, marker='.', label='Decision tree')\n",
        "# axis labels\n",
        "plt.xlabel('False Positive Rate')\n",
        "plt.ylabel('True Positive Rate')\n",
        "# show the legend\n",
        "plt.legend()\n",
        "# show the plot\n",
        "plt.show()\n"
      ],
      "execution_count": 122,
      "outputs": [
        {
          "output_type": "display_data",
          "data": {
            "image/png": "[encoded data removed]",
            "text/plain": [
              "<Figure size 432x288 with 1 Axes>"
            ]
          },
          "metadata": {
            "tags": [],
            "needs_background": "light"
          }
        }
      ]
    },
    {
      "cell_type": "code",
      "metadata": {
        "colab": {
          "base_uri": "https://localhost:8080/"
        },
        "id": "1Ys56vJb8t14",
        "outputId": "f9daf841-8c99-446c-b740-61c74a0367fa"
      },
      "source": [
        "print('accuracy score', accuracy_score(y_test, tree_predictions))"
      ],
      "execution_count": 123,
      "outputs": [
        {
          "output_type": "stream",
          "text": [
            "accuracy score 0.7647058823529411\n"
          ],
          "name": "stdout"
        }
      ]
    },
    {
      "cell_type": "code",
      "metadata": {
        "colab": {
          "base_uri": "https://localhost:8080/"
        },
        "id": "IIpTZkIC8zIo",
        "outputId": "fea2b0da-503a-498e-ae62-57f85c80f423"
      },
      "source": [
        "print('confusion matrix', confusion_matrix(y_test, tree_predictions))\n"
      ],
      "execution_count": 125,
      "outputs": [
        {
          "output_type": "stream",
          "text": [
            "confusion matrix [[5 1]\n",
            " [3 8]]\n"
          ],
          "name": "stdout"
        }
      ]
    },
    {
      "cell_type": "code",
      "metadata": {
        "colab": {
          "base_uri": "https://localhost:8080/"
        },
        "id": "28mrv0rC88gi",
        "outputId": "8966ba16-a672-4b48-c678-5b65fb4e31e9"
      },
      "source": [
        "print('classification report', classification_report(y_test, tree_predictions))"
      ],
      "execution_count": 126,
      "outputs": [
        {
          "output_type": "stream",
          "text": [
            "classification report               precision    recall  f1-score   support\n",
            "\n",
            "           0       0.62      0.83      0.71         6\n",
            "           1       0.89      0.73      0.80        11\n",
            "\n",
            "    accuracy                           0.76        17\n",
            "   macro avg       0.76      0.78      0.76        17\n",
            "weighted avg       0.80      0.76      0.77        17\n",
            "\n"
          ],
          "name": "stdout"
        }
      ]
    },
    {
      "cell_type": "code",
      "metadata": {
        "colab": {
          "base_uri": "https://localhost:8080/"
        },
        "id": "PfDDDVD79AdH",
        "outputId": "76e4ea8a-c899-4ab0-fa20-182736afc6d0"
      },
      "source": [
        "precision, recall, thresholds = precision_recall_curve(y_test, tree_predictions)\n",
        "print(precision)\n",
        "print(recall)\n",
        "print(thresholds)"
      ],
      "execution_count": 127,
      "outputs": [
        {
          "output_type": "stream",
          "text": [
            "[0.64705882 0.88888889 1.        ]\n",
            "[1.         0.72727273 0.        ]\n",
            "[0 1]\n"
          ],
          "name": "stdout"
        }
      ]
    }
  ]
}